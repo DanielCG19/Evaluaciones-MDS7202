{
 "cells": [
  {
   "cell_type": "markdown",
   "id": "ecfe1c65",
   "metadata": {
    "cell_id": "4d7d5ac6-d4e1-4609-9a3f-d6649322fa97",
    "deepnote_cell_height": 105.390625,
    "deepnote_cell_type": "markdown"
   },
   "source": [
    "<h1><center>Laboratorio 0: Practicando en Python </center></h1>\n",
    "\n",
    "<center><strong>MDS7202: Laboratorio de Programación Científica para Ciencia de Datos - Primavera 2021</strong></center>\n",
    "\n",
    "---"
   ]
  },
  {
   "cell_type": "markdown",
   "id": "7df10edc",
   "metadata": {
    "cell_id": "7ebd312b195c4d02a21a0af750fa5474",
    "deepnote_cell_height": 964.703125,
    "deepnote_cell_type": "markdown",
    "tags": []
   },
   "source": [
    "<center> <img src=https://miro.medium.com/max/1388/1*v6CPVlDCr5kdIpj7O6D7VA.gif width=400/> </center>\n",
    "\n",
    "### Cuerpo Docente:\n",
    "\n",
    "- Profesor: Matías Rojas y Mauricio Araneda\n",
    "- Auxiliar: Ignacio Meza D.\n",
    "- Ayudante: Rodrigo Guerra\n",
    "- Integrantes: Daniel Carmona,Consuelo Rojas\n",
    "\n",
    "### Objetivos del lab: \n",
    "\n",
    "- El objetivo de este lab es que ustedes puedan practicar con el lenguaje de python, aplicando los conocimientos vistos hasta ahora en el curso. La realización de este laboratorio es completamente opcional."
   ]
  },
  {
   "cell_type": "markdown",
   "id": "8b9f38ea",
   "metadata": {
    "cell_id": "00006-0087f4d5-bcba-4dc5-ad6a-083b239f86d5",
    "deepnote_cell_height": 108.390625,
    "deepnote_cell_type": "markdown"
   },
   "source": [
    "## Problemas con Listas y Strings 💻\n",
    "\n",
    "Por cada uno de estos problemas, elabore una **función** que los resuelva:"
   ]
  },
  {
   "cell_type": "markdown",
   "id": "72347d1b",
   "metadata": {
    "cell_id": "00007-d00af88a-bb30-4b80-961f-6798fd8f25e1",
    "deepnote_cell_height": 383.90625,
    "deepnote_cell_type": "markdown"
   },
   "source": [
    "### Pregunta 1 \n",
    "\n",
    "Dada una lista de $n$ elementos, no necesariamente ordenada, defina funciones que busquen:\n",
    "- El elemento menor.\n",
    "- El elemento mayor.\n",
    "- El promedio de los elementos en la lista.\n",
    "\n",
    "Ejemplo:\n",
    "```python\n",
    "listaN = [12,4,34,1,2,52,1,54,98,5,235,76,57,87,123,32,32]\n",
    "menor = 1\n",
    "mayor = 235\n",
    "```\n",
    "\n",
    "Además, implemente un par de test que verifiquen la correctitud de las funciones.\n",
    "\n",
    "**Nota**: Idealmente se hacen tests sobre los casos bordes. ¿Qué casos bordes tendríamos aquí?\n"
   ]
  },
  {
   "cell_type": "code",
   "execution_count": 1,
   "id": "9a0133aa",
   "metadata": {
    "cell_id": "5b56a1d50817404394b4a61a6592dae0",
    "deepnote_cell_height": 328,
    "deepnote_cell_type": "code",
    "deepnote_to_be_reexecuted": false,
    "execution_millis": 1270613,
    "execution_start": 1660842136910,
    "source_hash": "6efe5a8",
    "tags": []
   },
   "outputs": [],
   "source": [
    "import sys\n",
    "\n",
    "def min(lista):\n",
    "    min = sys.maxsize\n",
    "    for elem in lista:\n",
    "        if elem < min:\n",
    "            min = elem\n",
    "    return min\n",
    "\n",
    "def max(lista):\n",
    "    max = -1*sys.maxsize\n",
    "    for elem in lista:\n",
    "        if elem > max:\n",
    "            max = elem\n",
    "    return max"
   ]
  },
  {
   "cell_type": "code",
   "execution_count": 2,
   "id": "747f5948",
   "metadata": {
    "cell_id": "6b4b5ec8903d4ec4abdcf4384988d0ce",
    "deepnote_cell_height": 184.1875,
    "deepnote_cell_type": "code",
    "deepnote_output_heights": [
     20.1875
    ],
    "deepnote_to_be_reexecuted": false,
    "execution_millis": 1268739,
    "execution_start": 1660842136911,
    "source_hash": "c13fed99",
    "tags": []
   },
   "outputs": [
    {
     "data": {
      "text/plain": [
       "235"
      ]
     },
     "execution_count": 2,
     "metadata": {},
     "output_type": "execute_result"
    }
   ],
   "source": [
    "#test\n",
    "listaN = [12,4,34,1,2,52,1,54,98,5,235,76,57,87,123,32,32]\n",
    "\n",
    "min(listaN)\n",
    "max(listaN)"
   ]
  },
  {
   "cell_type": "markdown",
   "id": "c92cf799",
   "metadata": {
    "cell_id": "00011-9485688f-4549-4db1-b6e3-b5c8fd44ec75",
    "deepnote_cell_height": 179.171875,
    "deepnote_cell_type": "markdown"
   },
   "source": [
    "### Pregunta 2\n",
    "\n",
    " Dada una lista de n números, no ordenados, genere una función que ordene la lista de mayor a menor.\n",
    "\n",
    " ```python\n",
    "def ordenar(lista):\n",
    "    pass\n",
    " ```"
   ]
  },
  {
   "cell_type": "code",
   "execution_count": 7,
   "id": "486ba0c6",
   "metadata": {
    "cell_id": "f7dd50193057462eb733ee0ce9d3ba27",
    "deepnote_cell_height": 364,
    "deepnote_cell_type": "code",
    "deepnote_to_be_reexecuted": false,
    "execution_millis": 0,
    "execution_start": 1660842213806,
    "source_hash": "4d386955",
    "tags": []
   },
   "outputs": [],
   "source": [
    "# bubble sort\n",
    "def ordenar(lista):\n",
    "    n = len(lista)\n",
    "\n",
    "    for i in range(n):\n",
    "        already_sorted = True\n",
    "        for j in range(n - i - 1):\n",
    "            if lista[j] > lista[j + 1]:\n",
    "                lista[j], lista[j + 1] = lista[j + 1], lista[j]\n",
    "                already_sorted = False\n",
    "\n",
    "        if already_sorted:\n",
    "            break\n",
    "\n",
    "    return lista\n",
    "        \n"
   ]
  },
  {
   "cell_type": "code",
   "execution_count": 8,
   "id": "f49fb84c",
   "metadata": {
    "cell_id": "3e4ea47981e642c898b5f48a30a31d0c",
    "deepnote_cell_height": 130.1875,
    "deepnote_cell_type": "code",
    "deepnote_output_heights": [
     20.1875
    ],
    "deepnote_to_be_reexecuted": false,
    "execution_millis": 306,
    "execution_start": 1660842215366,
    "source_hash": "6089e145",
    "tags": []
   },
   "outputs": [
    {
     "data": {
      "text/plain": [
       "[1, 1, 2, 4, 5, 12, 32, 32, 34, 52, 54, 57, 76, 87, 98, 123, 235]"
      ]
     },
     "execution_count": 8,
     "metadata": {},
     "output_type": "execute_result"
    }
   ],
   "source": [
    "listaN_ordenada = ordenar(listaN)\n",
    "listaN_ordenada"
   ]
  },
  {
   "cell_type": "markdown",
   "id": "3c2b2c09",
   "metadata": {
    "cell_id": "00016-09c4e927-f62b-46c9-b2cd-f63211833e75",
    "deepnote_cell_height": 100.390625,
    "deepnote_cell_type": "markdown"
   },
   "source": [
    "### Pregunta 3\n",
    "Genere una función que obtenga la moda de una lista usando diccionarios."
   ]
  },
  {
   "cell_type": "code",
   "execution_count": 15,
   "id": "80d80e6a",
   "metadata": {
    "cell_id": "e860ad8fe0624f06ad77c66c71098b06",
    "deepnote_cell_height": 256,
    "deepnote_cell_type": "code",
    "deepnote_to_be_reexecuted": false,
    "execution_millis": 1,
    "execution_start": 1660842498103,
    "source_hash": "a19872e8",
    "tags": []
   },
   "outputs": [],
   "source": [
    "def moda(lista):\n",
    "    freq= {}\n",
    "    for elem in lista:\n",
    "        freq[elem] = freq.get(elem, 0) + 1\n",
    "\n",
    "    most_freq = max(freq.values())\n",
    "    moda = [elem for elem, value in freq.items()\n",
    "                      if value == most_freq]\n",
    "\n",
    "    return moda\n"
   ]
  },
  {
   "cell_type": "code",
   "execution_count": 16,
   "id": "190cbf13",
   "metadata": {
    "cell_id": "a5f623eeea994da1ba660bf90c841309",
    "deepnote_cell_height": 112.1875,
    "deepnote_cell_type": "code",
    "deepnote_output_heights": [
     20.1875
    ],
    "deepnote_to_be_reexecuted": false,
    "execution_millis": 25,
    "execution_start": 1660842501209,
    "source_hash": "ca0a0301",
    "tags": []
   },
   "outputs": [
    {
     "data": {
      "text/plain": [
       "[1, 32]"
      ]
     },
     "execution_count": 16,
     "metadata": {},
     "output_type": "execute_result"
    }
   ],
   "source": [
    "moda(listaN)"
   ]
  },
  {
   "cell_type": "markdown",
   "id": "d81e9ad4",
   "metadata": {
    "cell_id": "00028-98d28c67-5f56-4fb1-8148-2f35aefd6f48",
    "deepnote_cell_height": 122.78125,
    "deepnote_cell_type": "markdown"
   },
   "source": [
    "### Pregunta 4\n",
    "Vea si un número es palíndromo o no. Los números palíndromos son aquellos que al leerlos al revés y al derecho son iguales, por ejemplo el 123321 o el 98789."
   ]
  },
  {
   "cell_type": "code",
   "execution_count": 26,
   "id": "8e2b1597",
   "metadata": {
    "cell_id": "de690768e87a4e49a9e072db5f50745c",
    "deepnote_cell_height": 184,
    "deepnote_cell_type": "code",
    "deepnote_to_be_reexecuted": false,
    "execution_millis": 10,
    "execution_start": 1660842668977,
    "source_hash": "a98a46bb",
    "tags": []
   },
   "outputs": [],
   "source": [
    "def palindromo(num):\n",
    "    num = str(num)\n",
    "    if num == num[::-1]:\n",
    "        print(f\"{num} es un Palindromo\")\n",
    "    else:\n",
    "        print(f\"{num} no es un Palindromo\")\n"
   ]
  },
  {
   "cell_type": "code",
   "execution_count": 27,
   "id": "5b027192",
   "metadata": {
    "cell_id": "3a02d50bfb204cdfa46ea7960eec02a7",
    "deepnote_cell_height": 183.5625,
    "deepnote_cell_type": "code",
    "deepnote_to_be_reexecuted": false,
    "execution_millis": 38,
    "execution_start": 1660842670778,
    "source_hash": "73059b3d",
    "tags": []
   },
   "outputs": [
    {
     "name": "stdout",
     "output_type": "stream",
     "text": [
      "123321 es un Palindromo\n",
      "98789 es un Palindromo\n",
      "12324 no es un Palindromo\n"
     ]
    }
   ],
   "source": [
    "palindromo(123321)\n",
    "palindromo(98789)\n",
    "palindromo(12324)"
   ]
  },
  {
   "cell_type": "markdown",
   "id": "45e0f489",
   "metadata": {
    "cell_id": "00030-ac36b7b1-db34-4043-bf9c-feaaa8f85e0b",
    "deepnote_cell_height": 196.78125,
    "deepnote_cell_type": "markdown"
   },
   "source": [
    "### Pregunta 5\n",
    "Dado un texto, conviértalo en estilo Camel Case, vea el siguiente ejemplo:\n",
    "\n",
    "    Texto inicial: “Este es un texto de ejemplo para mostrar el Camel Case”.\n",
    "\n",
    "    Texto final: “EsteEsUnTextoDeEjemploParaMostrarElCamelCase”."
   ]
  },
  {
   "cell_type": "code",
   "execution_count": 45,
   "id": "248dfc27",
   "metadata": {
    "cell_id": "9d672ec452da4abcba3c86d499d3feff",
    "deepnote_cell_height": 238,
    "deepnote_cell_type": "code",
    "deepnote_to_be_reexecuted": false,
    "execution_millis": 8,
    "execution_start": 1660842953855,
    "source_hash": "b81e9ef3",
    "tags": []
   },
   "outputs": [],
   "source": [
    "############ Su Código Aquí####################\n",
    "def camelCase(text):\n",
    "    new_text = ''\n",
    "    for i, elem in enumerate(text):\n",
    "        if elem != ' ' and text[i-1] == ' ':\n",
    "            new_text+=str.capitalize(elem)\n",
    "        elif elem != ' ' and text[i] != ' ':\n",
    "            new_text+=elem\n",
    "    return new_text\n"
   ]
  },
  {
   "cell_type": "code",
   "execution_count": 46,
   "id": "ec916cb2",
   "metadata": {
    "cell_id": "b0f7ea2c95e842a09414cb59e4ef0d0d",
    "deepnote_cell_height": 148.1875,
    "deepnote_cell_type": "code",
    "deepnote_output_heights": [
     20.1875
    ],
    "deepnote_to_be_reexecuted": false,
    "execution_millis": 0,
    "execution_start": 1660842955845,
    "source_hash": "8c8b0bb8",
    "tags": []
   },
   "outputs": [
    {
     "data": {
      "text/plain": [
       "'EsteEsUnTextoDeEjemploParaMostrarElCamelCase'"
      ]
     },
     "execution_count": 46,
     "metadata": {},
     "output_type": "execute_result"
    }
   ],
   "source": [
    "text_inicial = 'Este es un texto de ejemplo para mostrar el Camel Case'\n",
    "\n",
    "camelCase(text_inicial)"
   ]
  },
  {
   "cell_type": "markdown",
   "id": "9027c4b6",
   "metadata": {
    "cell_id": "00041-b204b57b-6110-4cf1-9216-de17ab3070c5",
    "deepnote_cell_height": 255.5625,
    "deepnote_cell_type": "markdown"
   },
   "source": [
    "### Pregunta 6\n",
    "Dado un texto y una letra indique cuantas veces se repite la letra dentro del texto, vea el\n",
    "siguiente ejemplo:\n",
    "\n",
    "Texto inicial: “Este es un texto de ejemplo para contar la cantidad de veces que aparece cierta letra”.\n",
    "\n",
    "    Letra a buscar: e\n",
    "    Respuesta: “La letra e aparece 15 veces.\n",
    "    Observación: Las mayúsculas y minúsculas deben ser contadas."
   ]
  },
  {
   "cell_type": "code",
   "execution_count": 47,
   "id": "2c5cb07f",
   "metadata": {
    "cell_id": "9828085025e0456bbeb072c60da1e413",
    "deepnote_cell_height": 256,
    "deepnote_cell_type": "code",
    "deepnote_to_be_reexecuted": false,
    "execution_millis": 6,
    "execution_start": 1660843011222,
    "source_hash": "fc5a26b1",
    "tags": []
   },
   "outputs": [],
   "source": [
    "texto = \"Este es un texto de ejemplo para contar la cantidad de veces que aparece cierta letra\"\n",
    "\n",
    "def contarLetras(letra,texto):\n",
    "    texto = texto.lower()\n",
    "    count = 0\n",
    "    for i in texto:\n",
    "        if i == letra:\n",
    "            count +=1\n",
    "    print(f\"Letra a buscar: {letra}\")\n",
    "    print(f\"La letra {letra} aparece {count} veces\")\n"
   ]
  },
  {
   "cell_type": "code",
   "execution_count": 48,
   "id": "202be51c",
   "metadata": {
    "cell_id": "8890d53784c440ecb48b5af20c2f8bc7",
    "deepnote_cell_height": 127.375,
    "deepnote_cell_type": "code",
    "deepnote_to_be_reexecuted": false,
    "execution_millis": 9,
    "execution_start": 1660843029541,
    "source_hash": "c42290d4",
    "tags": []
   },
   "outputs": [
    {
     "name": "stdout",
     "output_type": "stream",
     "text": [
      "Letra a buscar: e\n",
      "La letra e aparece 15 veces\n"
     ]
    }
   ],
   "source": [
    "contarLetras(\"e\",texto)"
   ]
  },
  {
   "cell_type": "markdown",
   "id": "90ba89f5",
   "metadata": {
    "cell_id": "00043-c0c39f34-ca5b-48db-971d-aca44dd15e4b",
    "deepnote_cell_height": 144.78125,
    "deepnote_cell_type": "markdown"
   },
   "source": [
    "## Problemas Varios 🤩\n",
    "\n",
    "A continuación se presentan diferentes problemas, elabore una **función** que los resuelva. \n",
    "\n",
    "**Nota:** A diferencia de la primera parte, en esta sección puede aplicar todos sus conocimientos para el desarrollo de las funciones."
   ]
  },
  {
   "cell_type": "markdown",
   "id": "7ff4bc41",
   "metadata": {
    "ExecuteTime": {
     "end_time": "2021-03-26T14:14:35.180438Z",
     "start_time": "2021-03-26T14:14:35.175467Z"
    },
    "cell_id": "00044-21224815-9eb6-4ed5-830c-0a1aed7866f0",
    "deepnote_cell_height": 403.296875,
    "deepnote_cell_type": "markdown"
   },
   "source": [
    "### Pregunta 1:\n",
    "\n",
    "Un monto inicial de dinero (por ejemplo un millón de pesos) se puede depositar en un banco con un interés anual de 5%. Esto significa  que  cumplido  un  año  se  dispondrá  de  \\$1.050.000. Si se deposita por dos años, entonces  al  finalizar  el  2\\degree{}  año se dispondrá de \\$1.102.500,  es  decir,  \\$1.050.000  reajustado  en  5%.  \n",
    "\n",
    "Al  respecto, si  se  invoca  a  la  función  `calc_capital_final(1000000, 5, 2)`  entrega  el resultado `1050000.0`. \n",
    "\n",
    "Escriba la función `calc_capital_final`\n",
    "\n",
    "$$C_f = C_i(1+i)^n$$\n",
    "\n",
    "- $C_f$ = Capital Final\n",
    "- $C_i$ = Capital Inicial\n",
    "- $i$ = Tasa de interés\n",
    "- $n$ = Periodo del ahorro\n",
    "\n",
    "Además, incluya tests que certifiquen el correcto funcionamiento de la función."
   ]
  },
  {
   "cell_type": "code",
   "execution_count": 66,
   "id": "8934c973",
   "metadata": {
    "ExecuteTime": {
     "end_time": "2021-03-26T20:20:21.273258Z",
     "start_time": "2021-03-26T20:20:21.259257Z"
    },
    "cell_id": "00047-f724e446-1bde-4959-8f18-127ea8f869a3",
    "deepnote_cell_height": 148,
    "deepnote_cell_type": "code",
    "deepnote_to_be_reexecuted": false,
    "execution_millis": 1,
    "execution_start": 1660843984048,
    "source_hash": "6eacad37"
   },
   "outputs": [],
   "source": [
    "def calc_capital_final(capital_inicial, tasa_interes, años):\n",
    "    interes = (1 + tasa_interes/100)**(años-1)\n",
    "    cf = capital_inicial*interes\n",
    "    reajuste = cf\n",
    "    return reajuste"
   ]
  },
  {
   "cell_type": "code",
   "execution_count": 67,
   "id": "581cfc44",
   "metadata": {
    "cell_id": "a997bc6df07d411fae2f360eb2324b15",
    "deepnote_cell_height": 112.1875,
    "deepnote_cell_type": "code",
    "deepnote_output_heights": [
     20.1875
    ],
    "deepnote_to_be_reexecuted": false,
    "execution_millis": 4,
    "execution_start": 1660843985807,
    "source_hash": "9a9c8cb5",
    "tags": []
   },
   "outputs": [
    {
     "data": {
      "text/plain": [
       "1050000.0"
      ]
     },
     "execution_count": 67,
     "metadata": {},
     "output_type": "execute_result"
    }
   ],
   "source": [
    "calc_capital_final(1000000, 5, 2)"
   ]
  },
  {
   "cell_type": "markdown",
   "id": "ccce14a4",
   "metadata": {
    "cell_id": "00051-12e27a0b-6dfe-41aa-95b9-7b4bd22e12d1",
    "deepnote_cell_height": 279.625,
    "deepnote_cell_type": "markdown"
   },
   "source": [
    "### Pregunta 2: \n",
    "\n",
    "Escriba una función que para $x \\ne 0$, calcule  $\\frac{1}{x^0} + \\frac{1}{x^1} + \\frac{1}{x^2} + \\dots + \\frac{1}{x^n}$. Para esto, considere `x` como un `int` o `float` y a `n` como un `int` en la siguiente función:\n",
    "\n",
    "```python\n",
    "def sumatoria(x,n):\n",
    "    pass\n",
    "```\n",
    "\n",
    "Use la función anterior en un programa que determine si la suma  $\\frac{1}{x^0} + \\frac{1}{x^1} + \\frac{1}{x^2} + \\dots + \\frac{1}{x^n}$ converge o no.  Utilice un iterador para probar diferentes n en la función `sumatoria` creada, donde el programa deberá finalizar si cumple o falla los siguientes puntos de convergencia:\n",
    "\n",
    "- Se considera que la suma converge si la diferencia entre dos sumas sucesivas resulta menor que $10^{-3}$. Ejemplo: $sumatoria(x,1) - sumatoria(x,0) < 10^{-3}$\n",
    "- Se considera que no converge si para $n=20$ aún no se alcanza el criterio de convergencia. "
   ]
  },
  {
   "cell_type": "code",
   "execution_count": null,
   "id": "8137843a",
   "metadata": {
    "cell_id": "7ec5c56ff40e4cc4bd69b4ff11a0137a",
    "deepnote_cell_height": 94,
    "deepnote_cell_type": "code",
    "deepnote_to_be_reexecuted": true,
    "source_hash": "a3a5061b",
    "tags": []
   },
   "outputs": [],
   "source": [
    "############ Su Código Aquí####################\n"
   ]
  },
  {
   "cell_type": "markdown",
   "id": "8a0883dd",
   "metadata": {
    "cell_id": "00054-b78328ba-c2fc-4019-b051-0d3759dedd6b",
    "deepnote_cell_height": 195.5625,
    "deepnote_cell_type": "markdown"
   },
   "source": [
    "### Pregunta 3:\n",
    "\n",
    "Un anagrama es una palabra que resulta de la transposición de letras de otra palabra o frase.\n",
    "\n",
    "Por ejemplo, las palabras “caso” y “caos” son anagramas de “saco”  y las palabras “acaso” y “ocaso” no son anagramas de “caso”. Las anagramas poseen las mismas letras, con la misma cantidad de apariciones, pero en un orden diferente\n",
    "\n",
    "Escriba la función `def anagrama(x,y)` que reciba dos palabras y entregue `True` si son anagramas y `False` si no.\n"
   ]
  },
  {
   "cell_type": "code",
   "execution_count": 55,
   "id": "cf662316",
   "metadata": {
    "cell_id": "6726c604d7f340fa81d8167f40ad07cb",
    "deepnote_cell_height": 310,
    "deepnote_cell_type": "code",
    "deepnote_to_be_reexecuted": false,
    "execution_millis": 14,
    "execution_start": 1660843789371,
    "source_hash": "ece7bab0",
    "tags": []
   },
   "outputs": [],
   "source": [
    "def anagrama(x,y):\n",
    "    x = x.lower()\n",
    "    y = y.lower()\n",
    "\n",
    "    if(len(x) == len(y)):\n",
    "        sorted_x = sorted(x)\n",
    "        sorted_y = sorted(y)\n",
    "        if(sorted_x == sorted_y):\n",
    "            print(True)\n",
    "        else:\n",
    "            print(False)\n",
    "\n",
    "    else:\n",
    "        print(False)"
   ]
  },
  {
   "cell_type": "code",
   "execution_count": 61,
   "id": "dad4359e",
   "metadata": {
    "cell_id": "a04e0d9cd0bb4cfbb4eebffaf8b2fad0",
    "deepnote_cell_height": 221.75,
    "deepnote_cell_type": "code",
    "deepnote_to_be_reexecuted": false,
    "execution_millis": 0,
    "execution_start": 1660843892016,
    "source_hash": "7801c0c4",
    "tags": []
   },
   "outputs": [
    {
     "name": "stdout",
     "output_type": "stream",
     "text": [
      "True\n",
      "True\n",
      "False\n",
      "False\n"
     ]
    }
   ],
   "source": [
    "anagrama(\"caso\",\"caos\")\n",
    "anagrama(\"caso\",\"saco\")\n",
    "anagrama(\"acaso\",\"caso\")\n",
    "anagrama(\"hola\",\"holo\")"
   ]
  },
  {
   "cell_type": "markdown",
   "id": "a6cdc4e7",
   "metadata": {
    "ExecuteTime": {
     "end_time": "2021-03-26T14:17:46.644225Z",
     "start_time": "2021-03-26T14:17:46.636254Z"
    },
    "cell_id": "00057-ee7d4cf6-11a3-47c7-b0ff-36ec3452d453",
    "deepnote_cell_height": 502.25,
    "deepnote_cell_type": "markdown"
   },
   "source": [
    "### Pregunta 4:\n",
    "\n",
    "Programe el juego gato.\n",
    "Para esto:\n",
    "\n",
    "- Cree una matriz inicial (lista de listas) que contenga el estado actual del gato (al inicio).\n",
    "\n",
    "- Cree la función `es_tachable` la cual reciba un par de coordenadas `(i, j)` y que retorne si la posición ingresada se puede tachar (`True`) o ya se encuentra ocupada (`False`).\n",
    "\n",
    "- Cree una función `tachar` que modifiqua el estado del gato para reflejar la marca de uno de los jugadores. Esta debe recibir una coordenada `(i, j)` y el valor de la posicion `v` (solo `'X'` o `'O'`) y debe variar el estado del gato de tal manera que refleje una jugada.  La función debe retornar `True` si fue capaz de o `False` en caso contrario.\n",
    "\n",
    "- Cree la función `existe_ganador` que verifique si luego de una jugada existe algún ganador. Si existe, retorna `True`. `False` en caso contrario.\n",
    "\n",
    "\n",
    "\n",
    "\n",
    "- Implemente un ciclo while que en cada momento no se detenga hasta que exista un jugador ganador. En este ciclo:\n",
    "    - Informa sobre el estado actual del gato y sobre el jugador que le corresponde marcar una casilla.\n",
    "    - Se debe solicitar al jugador que ingrese la coordenada\n",
    "    - Se debe preguntar si la jugada del jugador actual es válida.\n",
    "    - Se debe actualizar el estado del gato\n",
    "    - Se debe cambiar al siguiente jugador.\n"
   ]
  },
  {
   "cell_type": "code",
   "execution_count": null,
   "id": "7ffb852d",
   "metadata": {},
   "outputs": [],
   "source": [
    "import numpy as np\n",
    "\n",
    "matriz = np.empty((3, 3))"
   ]
  },
  {
   "cell_type": "code",
   "execution_count": null,
   "id": "83b61db8",
   "metadata": {
    "cell_id": "bb81ac18fd2b41209191bc6227aa819a",
    "deepnote_cell_height": 133,
    "deepnote_cell_type": "code",
    "tags": []
   },
   "outputs": [],
   "source": [
    "def es_tachable(lista,i,j):\n",
    "    if not lista[i,j]:\n",
    "        return False\n",
    "    else:\n",
    "        return True"
   ]
  },
  {
   "cell_type": "code",
   "execution_count": null,
   "id": "966626cc",
   "metadata": {},
   "outputs": [],
   "source": [
    "def tachar(lista,v,i,j):\n",
    "    if es_tachable(i,j) == True:\n",
    "        lista[i,j] = v\n",
    "        return True\n",
    "    else:\n",
    "        return False"
   ]
  },
  {
   "cell_type": "code",
   "execution_count": null,
   "id": "fbeb7e0c",
   "metadata": {},
   "outputs": [],
   "source": [
    "es_tachable(matriz,1,1)"
   ]
  },
  {
   "cell_type": "code",
   "execution_count": null,
   "id": "5b36635d",
   "metadata": {},
   "outputs": [],
   "source": [
    "def existe_ganador(lista,i,j):\n",
    "    try: #no hay ganador\n",
    "        pass\n",
    "    except:\n",
    "        pass"
   ]
  },
  {
   "cell_type": "code",
   "execution_count": null,
   "id": "5eca0767",
   "metadata": {
    "ExecuteTime": {
     "end_time": "2021-03-26T14:31:46.042560Z",
     "start_time": "2021-03-26T14:31:46.030554Z"
    },
    "cell_id": "00059-0da54cd3-d85e-4bd9-822b-db9220238e5a",
    "deepnote_cell_height": 94,
    "deepnote_cell_type": "code",
    "deepnote_to_be_reexecuted": true,
    "source_hash": "b4f437ce"
   },
   "outputs": [],
   "source": [
    "def print_gato(gato):\n",
    "    ############ Su Código Aquí####################"
   ]
  },
  {
   "cell_type": "markdown",
   "id": "82c53978",
   "metadata": {
    "created_in_deepnote_cell": true,
    "deepnote_cell_type": "markdown",
    "tags": []
   },
   "source": [
    "<a style='text-decoration:none;line-height:16px;display:flex;color:#5B5B62;padding:10px;justify-content:end;' href='https://deepnote.com?utm_source=created-in-deepnote-cell&projectId=0643edaf-a5bb-4b8c-acbc-0b632d7b503f' target=\"_blank\">\n",
    "<img alt='Created in deepnote.com' style='display:inline;max-height:16px;margin:0px;margin-right:7.5px;' src='data:image/svg+xml;base64,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' > </img>\n",
    "Created in <span style='font-weight:600;margin-left:4px;'>Deepnote</span></a>"
   ]
  }
 ],
 "metadata": {
  "deepnote": {},
  "deepnote_execution_queue": [],
  "deepnote_notebook_id": "6c5a87d7-eaf9-4631-bdfe-1c6590aec534",
  "kernelspec": {
   "display_name": "Python 3",
   "language": "python",
   "name": "python3"
  },
  "language_info": {
   "codemirror_mode": {
    "name": "ipython",
    "version": 3
   },
   "file_extension": ".py",
   "mimetype": "text/x-python",
   "name": "python",
   "nbconvert_exporter": "python",
   "pygments_lexer": "ipython3",
   "version": "3.8.5"
  },
  "toc": {
   "base_numbering": 1,
   "nav_menu": {},
   "number_sections": true,
   "sideBar": true,
   "skip_h1_title": true,
   "title_cell": "Tabla de Contenidos",
   "title_sidebar": "Contenidos",
   "toc_cell": false,
   "toc_position": {},
   "toc_section_display": true,
   "toc_window_display": false
  },
  "varInspector": {
   "cols": {
    "lenName": 16,
    "lenType": 16,
    "lenVar": 40
   },
   "kernels_config": {
    "python": {
     "delete_cmd_postfix": "",
     "delete_cmd_prefix": "del ",
     "library": "var_list.py",
     "varRefreshCmd": "print(var_dic_list())"
    },
    "r": {
     "delete_cmd_postfix": ") ",
     "delete_cmd_prefix": "rm(",
     "library": "var_list.r",
     "varRefreshCmd": "cat(var_dic_list()) "
    }
   },
   "types_to_exclude": [
    "module",
    "function",
    "builtin_function_or_method",
    "instance",
    "_Feature"
   ],
   "window_display": false
  }
 },
 "nbformat": 4,
 "nbformat_minor": 5
}
