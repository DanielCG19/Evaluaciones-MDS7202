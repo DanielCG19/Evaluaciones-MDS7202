{
 "cells": [
  {
   "cell_type": "markdown",
   "metadata": {
    "cell_id": "00000-ae4bce0d-d467-4e5f-a49a-58fb5129bd6c",
    "deepnote_cell_height": 156.390625,
    "deepnote_cell_type": "markdown",
    "id": "XUZ1dFPHzAHl"
   },
   "source": [
    "<h1><center>Laboratorio 3: El Pandas no muerde (act. I) 🐼</center></h1>\n",
    "\n",
    "<center><strong>MDS7202: Laboratorio de Programación Científica para Ciencia de Datos</strong></center>"
   ]
  },
  {
   "cell_type": "markdown",
   "metadata": {
    "cell_id": "00001-c0f83a9b-e822-4864-8c65-718da74b60b9",
    "deepnote_cell_height": 284.1875,
    "deepnote_cell_type": "markdown",
    "id": "UD8X1uhGzAHq"
   },
   "source": [
    "### Cuerpo Docente:\n",
    "\n",
    "- Profesor: Matías Rojas y Mauricio Araneda\n",
    "- Auxiliar: Ignacio Meza D.\n",
    "- Ayudante: Rodrigo Guerra"
   ]
  },
  {
   "cell_type": "markdown",
   "metadata": {
    "cell_id": "00002-155246d6-4c8d-43be-872f-880dede73522",
    "deepnote_cell_height": 139.796875,
    "deepnote_cell_type": "markdown",
    "id": "tXflExjqzAHr"
   },
   "source": [
    "### Equipo: SUPER IMPORTANTE - notebooks sin nombre no serán revisados\n",
    "\n",
    "- Nombre de alumno 1: Daniel Carmona G.\n",
    "- Nombre de alumno 2: Consuelo Rojas N.\n"
   ]
  },
  {
   "cell_type": "markdown",
   "metadata": {
    "cell_id": "00003-97391d1f-df36-4c70-90b7-bfd91cd6e49e",
    "deepnote_cell_height": 62,
    "deepnote_cell_type": "markdown",
    "id": "AD-V0bbZzAHr"
   },
   "source": [
    "### **Link de repositorio de GitHub:** `https://github.com/DanielCG19/Evaluaciones-MDS7202`"
   ]
  },
  {
   "cell_type": "markdown",
   "metadata": {
    "cell_id": "00004-0e0866f8-5d50-4988-906a-d868ede07df1",
    "deepnote_cell_height": 241.390625,
    "deepnote_cell_type": "markdown",
    "tags": []
   },
   "source": [
    "### Reglas:\n",
    "\n",
    "- **Grupos de máximo 2 personas**\n",
    "- **Ausentes** deberán realizar la actividad solos. \n",
    "- Cualquier duda fuera del horario de clases al foro. Mensajes al equipo docente serán respondidos por este medio.\n",
    "- Prohibidas las copias. \n",
    "- Pueden usar cualquer matrial del curso que estimen conveniente."
   ]
  },
  {
   "cell_type": "markdown",
   "metadata": {
    "cell_id": "00005-ea6a4d75-61c0-4a2b-ac8d-1ac736216350",
    "deepnote_cell_height": 114.390625,
    "deepnote_cell_type": "markdown",
    "tags": []
   },
   "source": [
    "### Temas a tratar\n",
    "\n",
    "- Introducción al manejo de datos tabulares por medio de la libreria `pandas`."
   ]
  },
  {
   "cell_type": "markdown",
   "metadata": {
    "cell_id": "00006-fbe17074-fb3c-4ddb-bb19-2bfd042bf921",
    "deepnote_cell_height": 243.390625,
    "deepnote_cell_type": "markdown",
    "id": "6uBLPj1PzAHs"
   },
   "source": [
    "### Objetivos principales del laboratorio\n",
    "\n",
    "- Entender, aplicar y aprovechar las ventajas que nos ofrece la libreria `pandas` para manejar datos tabulares.\n",
    "- Aprender a utilizar la documentación de pandas (y en general, de cualquier librería de python) como también a buscar soluciones en la web.\n",
    "\n",
    "> **Nota**: El laboratorio deberá ser desarrollado sin el uso indiscriminado de iteradores nativos de python (aka \"for\", \"while\"). La idea es que aprendan a exprimir al máximo las funciones optimizadas que nos entrega `pandas`, las cuales vale mencionar, son bastante más eficientes que los iteradores nativos sobre DataFrames."
   ]
  },
  {
   "cell_type": "markdown",
   "metadata": {
    "cell_id": "00007-93c4d22f-7d4f-4cc0-bca9-a2c35a9b8b3e",
    "deepnote_cell_height": 62,
    "deepnote_cell_type": "markdown",
    "id": "MhISwri4zAHy"
   },
   "source": [
    "### Librerias utiles para el Lab 😸"
   ]
  },
  {
   "cell_type": "code",
   "execution_count": 77,
   "metadata": {},
   "outputs": [
    {
     "name": "stdout",
     "output_type": "stream",
     "text": [
      "Requirement already satisfied: scikit-learn in c:\\users\\daniel\\appdata\\local\\programs\\python\\python310\\lib\\site-packages (1.1.2)\n",
      "Requirement already satisfied: scipy>=1.3.2 in c:\\users\\daniel\\appdata\\local\\programs\\python\\python310\\lib\\site-packages (from scikit-learn) (1.8.0)\n",
      "Requirement already satisfied: threadpoolctl>=2.0.0 in c:\\users\\daniel\\appdata\\local\\programs\\python\\python310\\lib\\site-packages (from scikit-learn) (3.1.0)\n",
      "Requirement already satisfied: joblib>=1.0.0 in c:\\users\\daniel\\appdata\\local\\programs\\python\\python310\\lib\\site-packages (from scikit-learn) (1.1.0)\n",
      "Requirement already satisfied: numpy>=1.17.3 in c:\\users\\daniel\\appdata\\local\\programs\\python\\python310\\lib\\site-packages (from scikit-learn) (1.22.3)\n",
      "Note: you may need to restart the kernel to use updated packages.\n"
     ]
    },
    {
     "name": "stderr",
     "output_type": "stream",
     "text": [
      "WARNING: Ignoring invalid distribution -illow (c:\\users\\daniel\\appdata\\local\\programs\\python\\python310\\lib\\site-packages)\n",
      "WARNING: Ignoring invalid distribution -illow (c:\\users\\daniel\\appdata\\local\\programs\\python\\python310\\lib\\site-packages)\n",
      "WARNING: Ignoring invalid distribution -illow (c:\\users\\daniel\\appdata\\local\\programs\\python\\python310\\lib\\site-packages)\n",
      "WARNING: Ignoring invalid distribution -illow (c:\\users\\daniel\\appdata\\local\\programs\\python\\python310\\lib\\site-packages)\n",
      "WARNING: Ignoring invalid distribution -illow (c:\\users\\daniel\\appdata\\local\\programs\\python\\python310\\lib\\site-packages)\n",
      "WARNING: Ignoring invalid distribution -illow (c:\\users\\daniel\\appdata\\local\\programs\\python\\python310\\lib\\site-packages)\n",
      "WARNING: There was an error checking the latest version of pip.\n"
     ]
    },
    {
     "name": "stdout",
     "output_type": "stream",
     "text": [
      "Requirement already satisfied: matplotlib in c:\\users\\daniel\\appdata\\local\\programs\\python\\python310\\lib\\site-packages (3.5.3)\n",
      "Requirement already satisfied: python-dateutil>=2.7 in c:\\users\\daniel\\appdata\\local\\programs\\python\\python310\\lib\\site-packages (from matplotlib) (2.8.2)\n",
      "Requirement already satisfied: cycler>=0.10 in c:\\users\\daniel\\appdata\\local\\programs\\python\\python310\\lib\\site-packages (from matplotlib) (0.11.0)\n",
      "Requirement already satisfied: packaging>=20.0 in c:\\users\\daniel\\appdata\\local\\programs\\python\\python310\\lib\\site-packages (from matplotlib) (21.3)\n",
      "Requirement already satisfied: fonttools>=4.22.0 in c:\\users\\daniel\\appdata\\local\\programs\\python\\python310\\lib\\site-packages (from matplotlib) (4.30.0)\n",
      "Requirement already satisfied: pyparsing>=2.2.1 in c:\\users\\daniel\\appdata\\local\\programs\\python\\python310\\lib\\site-packages (from matplotlib) (3.0.7)\n",
      "Requirement already satisfied: numpy>=1.17 in c:\\users\\daniel\\appdata\\local\\programs\\python\\python310\\lib\\site-packages (from matplotlib) (1.22.3)\n",
      "Requirement already satisfied: pillow>=6.2.0 in c:\\users\\daniel\\appdata\\local\\programs\\python\\python310\\lib\\site-packages (from matplotlib) (9.1.0)\n",
      "Requirement already satisfied: kiwisolver>=1.0.1 in c:\\users\\daniel\\appdata\\local\\programs\\python\\python310\\lib\\site-packages (from matplotlib) (1.4.0)\n",
      "Requirement already satisfied: six>=1.5 in c:\\users\\daniel\\appdata\\local\\programs\\python\\python310\\lib\\site-packages (from python-dateutil>=2.7->matplotlib) (1.16.0)\n",
      "Note: you may need to restart the kernel to use updated packages.\n"
     ]
    },
    {
     "name": "stderr",
     "output_type": "stream",
     "text": [
      "WARNING: Ignoring invalid distribution -illow (c:\\users\\daniel\\appdata\\local\\programs\\python\\python310\\lib\\site-packages)\n",
      "WARNING: Ignoring invalid distribution -illow (c:\\users\\daniel\\appdata\\local\\programs\\python\\python310\\lib\\site-packages)\n",
      "WARNING: Ignoring invalid distribution -illow (c:\\users\\daniel\\appdata\\local\\programs\\python\\python310\\lib\\site-packages)\n",
      "WARNING: Ignoring invalid distribution -illow (c:\\users\\daniel\\appdata\\local\\programs\\python\\python310\\lib\\site-packages)\n",
      "WARNING: Ignoring invalid distribution -illow (c:\\users\\daniel\\appdata\\local\\programs\\python\\python310\\lib\\site-packages)\n",
      "WARNING: Ignoring invalid distribution -illow (c:\\users\\daniel\\appdata\\local\\programs\\python\\python310\\lib\\site-packages)\n",
      "WARNING: There was an error checking the latest version of pip.\n"
     ]
    },
    {
     "name": "stdout",
     "output_type": "stream",
     "text": [
      "Requirement already satisfied: seaborn in c:\\users\\daniel\\appdata\\local\\programs\\python\\python310\\lib\\site-packages (0.12.0)\n",
      "Requirement already satisfied: matplotlib>=3.1 in c:\\users\\daniel\\appdata\\local\\programs\\python\\python310\\lib\\site-packages (from seaborn) (3.5.3)\n",
      "Requirement already satisfied: numpy>=1.17 in c:\\users\\daniel\\appdata\\local\\programs\\python\\python310\\lib\\site-packages (from seaborn) (1.22.3)\n",
      "Requirement already satisfied: pandas>=0.25 in c:\\users\\daniel\\appdata\\local\\programs\\python\\python310\\lib\\site-packages (from seaborn) (1.4.1)\n",
      "Requirement already satisfied: pillow>=6.2.0 in c:\\users\\daniel\\appdata\\local\\programs\\python\\python310\\lib\\site-packages (from matplotlib>=3.1->seaborn) (9.1.0)\n",
      "Requirement already satisfied: fonttools>=4.22.0 in c:\\users\\daniel\\appdata\\local\\programs\\python\\python310\\lib\\site-packages (from matplotlib>=3.1->seaborn) (4.30.0)\n",
      "Requirement already satisfied: packaging>=20.0 in c:\\users\\daniel\\appdata\\local\\programs\\python\\python310\\lib\\site-packages (from matplotlib>=3.1->seaborn) (21.3)\n",
      "Requirement already satisfied: pyparsing>=2.2.1 in c:\\users\\daniel\\appdata\\local\\programs\\python\\python310\\lib\\site-packages (from matplotlib>=3.1->seaborn) (3.0.7)\n",
      "Requirement already satisfied: cycler>=0.10 in c:\\users\\daniel\\appdata\\local\\programs\\python\\python310\\lib\\site-packages (from matplotlib>=3.1->seaborn) (0.11.0)\n",
      "Requirement already satisfied: python-dateutil>=2.7 in c:\\users\\daniel\\appdata\\local\\programs\\python\\python310\\lib\\site-packages (from matplotlib>=3.1->seaborn) (2.8.2)\n",
      "Requirement already satisfied: kiwisolver>=1.0.1 in c:\\users\\daniel\\appdata\\local\\programs\\python\\python310\\lib\\site-packages (from matplotlib>=3.1->seaborn) (1.4.0)\n",
      "Requirement already satisfied: pytz>=2020.1 in c:\\users\\daniel\\appdata\\local\\programs\\python\\python310\\lib\\site-packages (from pandas>=0.25->seaborn) (2022.1)\n",
      "Requirement already satisfied: six>=1.5 in c:\\users\\daniel\\appdata\\local\\programs\\python\\python310\\lib\\site-packages (from python-dateutil>=2.7->matplotlib>=3.1->seaborn) (1.16.0)\n",
      "Note: you may need to restart the kernel to use updated packages.\n"
     ]
    },
    {
     "name": "stderr",
     "output_type": "stream",
     "text": [
      "WARNING: Ignoring invalid distribution -illow (c:\\users\\daniel\\appdata\\local\\programs\\python\\python310\\lib\\site-packages)\n",
      "WARNING: Ignoring invalid distribution -illow (c:\\users\\daniel\\appdata\\local\\programs\\python\\python310\\lib\\site-packages)\n",
      "WARNING: Ignoring invalid distribution -illow (c:\\users\\daniel\\appdata\\local\\programs\\python\\python310\\lib\\site-packages)\n",
      "WARNING: Ignoring invalid distribution -illow (c:\\users\\daniel\\appdata\\local\\programs\\python\\python310\\lib\\site-packages)\n",
      "WARNING: Ignoring invalid distribution -illow (c:\\users\\daniel\\appdata\\local\\programs\\python\\python310\\lib\\site-packages)\n",
      "WARNING: Ignoring invalid distribution -illow (c:\\users\\daniel\\appdata\\local\\programs\\python\\python310\\lib\\site-packages)\n",
      "WARNING: There was an error checking the latest version of pip.\n"
     ]
    }
   ],
   "source": [
    "%pip install -U scikit-learn\n",
    "%pip install -U matplotlib\n",
    "%pip install -U seaborn"
   ]
  },
  {
   "cell_type": "code",
   "execution_count": 78,
   "metadata": {
    "ExecuteTime": {
     "end_time": "2021-03-29T00:08:16.884674Z",
     "start_time": "2021-03-29T00:08:16.349846Z"
    },
    "cell_id": "00008-58834915-07fa-4589-93b7-f1fb0c08b816",
    "colab": {
     "base_uri": "https://localhost:8080/"
    },
    "deepnote_cell_height": 327,
    "deepnote_cell_type": "code",
    "deepnote_to_be_reexecuted": false,
    "executionInfo": {
     "elapsed": 4847,
     "status": "ok",
     "timestamp": 1619205948702,
     "user": {
      "displayName": "IGNACIO ALEJANDRO MEZA",
      "photoUrl": "",
      "userId": "17011121633069169364"
     },
     "user_tz": 240
    },
    "execution_millis": 4154,
    "execution_start": 1632493418117,
    "id": "uyc33dKdzAHy",
    "outputId": "0b8ebbb5-c76c-45a4-9d3e-1b6dba06a278",
    "source_hash": "8da0b14b"
   },
   "outputs": [
    {
     "name": "stdout",
     "output_type": "stream",
     "text": [
      "Requirement already satisfied: plotly in c:\\users\\daniel\\appdata\\local\\programs\\python\\python310\\lib\\site-packages (5.10.0)\n",
      "Requirement already satisfied: tenacity>=6.2.0 in c:\\users\\daniel\\appdata\\local\\programs\\python\\python310\\lib\\site-packages (from plotly) (8.0.1)\n",
      "Note: you may need to restart the kernel to use updated packages.\n"
     ]
    },
    {
     "name": "stderr",
     "output_type": "stream",
     "text": [
      "WARNING: Ignoring invalid distribution -illow (c:\\users\\daniel\\appdata\\local\\programs\\python\\python310\\lib\\site-packages)\n",
      "WARNING: Ignoring invalid distribution -illow (c:\\users\\daniel\\appdata\\local\\programs\\python\\python310\\lib\\site-packages)\n",
      "WARNING: Ignoring invalid distribution -illow (c:\\users\\daniel\\appdata\\local\\programs\\python\\python310\\lib\\site-packages)\n",
      "WARNING: Ignoring invalid distribution -illow (c:\\users\\daniel\\appdata\\local\\programs\\python\\python310\\lib\\site-packages)\n",
      "WARNING: Ignoring invalid distribution -illow (c:\\users\\daniel\\appdata\\local\\programs\\python\\python310\\lib\\site-packages)\n",
      "WARNING: Ignoring invalid distribution -illow (c:\\users\\daniel\\appdata\\local\\programs\\python\\python310\\lib\\site-packages)\n",
      "WARNING: There was an error checking the latest version of pip.\n"
     ]
    }
   ],
   "source": [
    "# Libreria Core del lab.\n",
    "import numpy as np\n",
    "import pandas as pd\n",
    "from IPython.display import display\n",
    "import matplotlib.pyplot as plt\n",
    "\n",
    "#Libreria para plotear\n",
    "%pip install --upgrade plotly\n",
    "import plotly.express as px\n",
    "\n",
    "# Librerias utiles\n",
    "from sklearn.preprocessing import StandardScaler\n",
    "\n",
    "# !pip install seaborn\n",
    "import seaborn as sns\n",
    "sns.set_theme(style='darkgrid')"
   ]
  },
  {
   "cell_type": "markdown",
   "metadata": {
    "cell_id": "00009-429ae3f2-fb38-4b64-b588-014a84e630dd",
    "deepnote_cell_height": 82,
    "deepnote_cell_type": "markdown",
    "id": "xpOTbQcxbSiy"
   },
   "source": [
    "# 1. Rendimiento en Estudiantes 📚"
   ]
  },
  {
   "cell_type": "markdown",
   "metadata": {
    "cell_id": "00010-37be44cf-4558-4ba9-83df-767bf4f1905d",
    "deepnote_cell_height": 46,
    "deepnote_cell_type": "markdown",
    "id": "3Q93vbNS25bM"
   },
   "source": []
  },
  {
   "cell_type": "markdown",
   "metadata": {
    "cell_id": "00011-2ad31a90-832d-4d5e-9c29-4e5d686375fa",
    "deepnote_cell_height": 119.59375,
    "deepnote_cell_type": "markdown",
    "id": "jnmZfFpxTTYX"
   },
   "source": [
    "Para este laboratorio deberán trabajar con el dataset `students_grades.json` el cual contiene información sobre el rendimiento de alumnos en distintos ramos. \n",
    "El objetivo principal será el de realizar un trabajo de limpieza de prepración y exploración de datos utilizando exclusivamente `DataFrames` y sus métodos asociados. \n",
    "\n",
    "\n"
   ]
  },
  {
   "cell_type": "code",
   "execution_count": 79,
   "metadata": {
    "cell_id": "00012-6ef52018-06ac-4eb8-8b0a-4142b81e04aa",
    "colab": {
     "base_uri": "https://localhost:8080/"
    },
    "deepnote_cell_height": 215,
    "deepnote_cell_type": "code",
    "deepnote_to_be_reexecuted": false,
    "executionInfo": {
     "elapsed": 625,
     "status": "ok",
     "timestamp": 1619205948705,
     "user": {
      "displayName": "IGNACIO ALEJANDRO MEZA",
      "photoUrl": "",
      "userId": "17011121633069169364"
     },
     "user_tz": 240
    },
    "execution_millis": 8,
    "execution_start": 1632493422315,
    "id": "Jqq-s010Iwl1",
    "outputId": "d90c065b-1e2f-43f6-81eb-c92ed177f5f5",
    "source_hash": "c60dc4a7"
   },
   "outputs": [
    {
     "name": "stdout",
     "output_type": "stream",
     "text": [
      "Ignorando conexión drive-colab\n"
     ]
    }
   ],
   "source": [
    "# Si usted está utilizando Colabolatory le puede ser útil este código para cargar los archivos.\n",
    "try:\n",
    "    from google.colab import drive\n",
    "    drive.mount(\"/content/drive\")\n",
    "    path = 'Dirección donde tiene los archivos en el Drive'\n",
    "except: \n",
    "    print('Ignorando conexión drive-colab')"
   ]
  },
  {
   "cell_type": "markdown",
   "metadata": {
    "cell_id": "00013-61182eec-37fa-401b-8e56-9aec91671835",
    "deepnote_cell_height": 493.1875,
    "deepnote_cell_type": "markdown",
    "id": "Y7sGYwOpN1VJ"
   },
   "source": [
    "## 1.1 Carga e Inspección de Datos [1.5 Puntos]\n",
    "\n",
    "\n",
    "<p align=\"center\">\n",
    "  <img src=\"https://drive.google.com/uc?export=view&id=1hZZaPQlZe4VupFOXt76_wjuUA5NpUhrw\" width=\"300\" height=\"300\">\n",
    "</p>\n"
   ]
  },
  {
   "cell_type": "markdown",
   "metadata": {
    "cell_id": "00014-19b7ef4c-d646-4d3c-bc96-0fcf03730924",
    "deepnote_cell_height": 822.796875,
    "deepnote_cell_type": "markdown",
    "tags": []
   },
   "source": [
    "*Don Caguayo*, rector de la Universidad de la Cachaña, les comenta que actualmente la Universidad no tiene una subdirección de análisis de datos, pero que tiene un gran interés en formar una. Es por esto, que se contacta con ud. y su equipo para iniciar de forma exploratoria diversas tareas de análisis y consolidación de datos respectivos al rendimiento de sus alumnos.\n",
    "\n",
    "Previo a su primera reunión con el rector, el rector le envía una copia de la base de datos, la cuál a usted y su equipo le encantaría examinar. Para esto, la primera tarea que debe realizar es abrir y cargar el dataset. \n",
    "\n",
    "\n",
    "> **Notar que es sumamente importante el formato que posee cada columna** para su manipulación y que posiblemente ustedes deberán especificar algunos tipos de datos a mano. Ver la documentación del método `read_json` para mayor información.\n",
    "\n",
    "A continuación se muestra un ejemplo de los dos primeros registros del dataset:\n",
    "\n",
    "```json\n",
    "[\n",
    "  {\n",
    "    \"names\": \"Rita Courtney\",\n",
    "    \"gender\": \"female\",\n",
    "    \"race/ethnicity\": \"group B\",\n",
    "    \"parental level of education\": \"some high school\",\n",
    "    \"lunch\": \"standard\",\n",
    "    \"test preparation course\": \"none\",\n",
    "    \"math score\": 37,\n",
    "    \"reading score\": 46,\n",
    "    \"writing score\": 46\n",
    "  },\n",
    "  {\n",
    "    \"names\": \"Madeline Fuller\",\n",
    "    \"gender\": \"female\",\n",
    "    \"race/ethnicity\": \"group C\",\n",
    "    \"parental level of education\": \"some high school\",\n",
    "    \"lunch\": \"standard\",\n",
    "    \"test preparation course\": \"none\",\n",
    "    \"math score\": 124,\n",
    "    \"reading score\": 142,\n",
    "    \"writing score\": 142\n",
    "  }\n",
    "]\n",
    "```\n",
    "\n",
    "\n",
    "\n"
   ]
  },
  {
   "cell_type": "code",
   "execution_count": 80,
   "metadata": {
    "cell_id": "00014-cf0912c5-504c-459e-a7cb-0bfae6cff886",
    "deepnote_cell_height": 61,
    "deepnote_cell_type": "code",
    "tags": []
   },
   "outputs": [
    {
     "data": {
      "text/html": [
       "<div>\n",
       "<style scoped>\n",
       "    .dataframe tbody tr th:only-of-type {\n",
       "        vertical-align: middle;\n",
       "    }\n",
       "\n",
       "    .dataframe tbody tr th {\n",
       "        vertical-align: top;\n",
       "    }\n",
       "\n",
       "    .dataframe thead th {\n",
       "        text-align: right;\n",
       "    }\n",
       "</style>\n",
       "<table border=\"1\" class=\"dataframe\">\n",
       "  <thead>\n",
       "    <tr style=\"text-align: right;\">\n",
       "      <th></th>\n",
       "      <th>names</th>\n",
       "      <th>gender</th>\n",
       "      <th>race/ethnicity</th>\n",
       "      <th>parental level of education</th>\n",
       "      <th>lunch</th>\n",
       "      <th>test preparation course</th>\n",
       "      <th>math score</th>\n",
       "      <th>reading score</th>\n",
       "      <th>writing score</th>\n",
       "    </tr>\n",
       "  </thead>\n",
       "  <tbody>\n",
       "    <tr>\n",
       "      <th>0</th>\n",
       "      <td>Rita Courtney</td>\n",
       "      <td>female</td>\n",
       "      <td>group B</td>\n",
       "      <td>some high school</td>\n",
       "      <td>standard</td>\n",
       "      <td>none</td>\n",
       "      <td>37</td>\n",
       "      <td>46</td>\n",
       "      <td>46</td>\n",
       "    </tr>\n",
       "    <tr>\n",
       "      <th>1</th>\n",
       "      <td>Madeline Fuller</td>\n",
       "      <td>female</td>\n",
       "      <td>group C</td>\n",
       "      <td>some high school</td>\n",
       "      <td>standard</td>\n",
       "      <td>none</td>\n",
       "      <td>124</td>\n",
       "      <td>142</td>\n",
       "      <td>142</td>\n",
       "    </tr>\n",
       "    <tr>\n",
       "      <th>2</th>\n",
       "      <td>Daniel Rester</td>\n",
       "      <td>male</td>\n",
       "      <td>group E</td>\n",
       "      <td>associate's degree</td>\n",
       "      <td>standard</td>\n",
       "      <td>none</td>\n",
       "      <td>156</td>\n",
       "      <td>196</td>\n",
       "      <td>193</td>\n",
       "    </tr>\n",
       "    <tr>\n",
       "      <th>3</th>\n",
       "      <td>Charles Linstrom</td>\n",
       "      <td>male</td>\n",
       "      <td>group A</td>\n",
       "      <td>bachelor's degree</td>\n",
       "      <td>standard</td>\n",
       "      <td>completed</td>\n",
       "      <td>80</td>\n",
       "      <td>78</td>\n",
       "      <td>81</td>\n",
       "    </tr>\n",
       "    <tr>\n",
       "      <th>4</th>\n",
       "      <td>Geraldine Hale</td>\n",
       "      <td>female</td>\n",
       "      <td>group A</td>\n",
       "      <td>associate's degree</td>\n",
       "      <td>standard</td>\n",
       "      <td>none</td>\n",
       "      <td>131</td>\n",
       "      <td>166</td>\n",
       "      <td>166</td>\n",
       "    </tr>\n",
       "  </tbody>\n",
       "</table>\n",
       "</div>"
      ],
      "text/plain": [
       "              names  gender race/ethnicity parental level of education  \\\n",
       "0     Rita Courtney  female        group B            some high school   \n",
       "1   Madeline Fuller  female        group C            some high school   \n",
       "2     Daniel Rester    male        group E          associate's degree   \n",
       "3  Charles Linstrom    male        group A           bachelor's degree   \n",
       "4    Geraldine Hale  female        group A          associate's degree   \n",
       "\n",
       "      lunch test preparation course math score reading score writing score  \n",
       "0  standard                    none         37            46            46  \n",
       "1  standard                    none        124           142           142  \n",
       "2  standard                    none        156           196           193  \n",
       "3  standard               completed         80            78            81  \n",
       "4  standard                    none        131           166           166  "
      ]
     },
     "execution_count": 80,
     "metadata": {},
     "output_type": "execute_result"
    }
   ],
   "source": [
    "header = ['names', 'gender', 'race/ethnicity', 'parental level of education', 'lunch',\n",
    "    'test preparation course', 'math score','reading score', 'writing score']\n",
    "\n",
    "#lectura del archivo    \n",
    "df_grades = pd.read_json('students_grades.json',orient='records')\n",
    "\n",
    "#añadimos el header\n",
    "df_grades.columns = header\n",
    "df_grades.head()"
   ]
  },
  {
   "cell_type": "markdown",
   "metadata": {
    "cell_id": "00014-21b2a755-ee5d-4b46-88cc-1d6ec13f2d8e",
    "deepnote_cell_height": 308,
    "deepnote_cell_type": "markdown",
    "id": "sgVJGeVMMshn"
   },
   "source": [
    "\n",
    "<p align=\"center\">\n",
    "  <img src=\"https://i.giphy.com/media/4FQMuOKR6zQRO/giphy.webp\">\n",
    "</p>\n",
    "\n",
    "\n",
    "Posteriormente, el rector les comenta que la sección de TI posee una base de datos con más de **875** filas, en donde cada fila representa un alumno matriculado. Sin embargo, cree fuertemente que existen errores en esta: solo tiene registro de **875** matriculas. Por este motivo, especula que se han realizado malas prácticas al registrar dichos datos.\n",
    "\n",
    "En consecuencia, el rector les solicita a ustedes como tarea inicial que exploren la base de datos y encuentre posibles falencias dentro de sus registros. Para esto, usted debe estar al tanto que las notas están en una escala que van del **0 al 100** (porcentaje de logro) y **no es posible que un alumno haya dado más de una vez el mismo examen**. Cualquier alumno que posea un valor diferente a esta escala, debería ser eliminado de la base de datos.\n"
   ]
  },
  {
   "cell_type": "markdown",
   "metadata": {
    "cell_id": "00015-e3e66248-1ff0-488e-8455-35ab2d49d172",
    "deepnote_cell_height": 661.796875,
    "deepnote_cell_type": "markdown",
    "tags": []
   },
   "source": [
    "> **Instrucciones**\n",
    "\n",
    "**Cree una función** que tome un `DataFrame` y que le permita revisar si las diferentes variables que lo componen son coherentes y si es posible observar anomalías en estas. \n",
    "\n",
    "**To-Do**\n",
    "1. [X] Imprimir un mensaje con las dimensiones del Dataframe.\n",
    "2. [X] Imprimir un mensaje con los nombres de las columnas que conforman el DataFrame.\n",
    "3. [X] Mostrar los primeros 5, los últimos 5 elementos del DataFrame y realice un muestreo de 5 elementos de forma aleatoria.\n",
    "4. [X] Mostrar una descripción rápida de las variables numéricas del DataFrame (utilice un método visto en clases).\n",
    "5. [X] Imprimir un mensaje con la cantidad de valores nulos (investigue el método `isna()` y `sum()` de los DataFrames).\n",
    "6. [X] Imprimir un mensaje que detalle la cantidad de valores unicos (investigue `nunique()`) .\n",
    "7. [X] Imprimir un mensaje con el total de filas que contengan nombres duplicados (investigue `duplicated()` y su parámetro `subset`).\n",
    "8. [X] Mostrar las filas que contengan nombres sean duplicados (investigue `duplicated()` y su parámetro `subset`).\n",
    "9. [X] A traves de `.plot.box()` plotear el boxplot de las notas. De ser necesario, invetigue como funcionan los gráficos de caja (esta sección es provista).\n",
    "10. [ ] Finalmente responda la siguiente pregunta:\n",
    "\n",
    "> ¿Que anomalias es posible observar de los datos que componen el DataFrame? ¿Existen valores nulos o duplicados? ¿Qué puede interpretar de la distribución de las notas en el boxplot? (), comente esto en la celda ubicada debajo de **justificación**.\n",
    "\n",
    "> **Nota:** Para imprmir utilice `print(...)`. Para mostrar `DataFrames`, utilice `display(...)` ya que este permite mostrar estos elementos como tablas.\n",
    "\n",
    "> **Nota 2:** Utilice la documentación de [pandas](https://pandas.pydata.org/docs/index.html) como también StackOverflow para resolver cualquier problema o inconveniente.\n",
    "\n",
    "> **Nota 3:** Si no ha trabajado con boxplot antes, el siguiente link puede serle de mucha ayuda: [boxplot](https://medium.com/dayem-siddiqui/understanding-and-interpreting-box-plots-d07aab9d1b6c) "
   ]
  },
  {
   "cell_type": "markdown",
   "metadata": {
    "cell_id": "00016-f844817e-2dbb-4ef6-8b07-bfb37043bb52",
    "deepnote_cell_height": 52.390625,
    "deepnote_cell_type": "markdown",
    "tags": []
   },
   "source": [
    "**Respuesta:**"
   ]
  },
  {
   "cell_type": "code",
   "execution_count": 81,
   "metadata": {
    "cell_id": "00017-5f922af5-3edd-4012-8688-1573576c2703",
    "deepnote_cell_height": 97,
    "deepnote_cell_type": "code",
    "tags": []
   },
   "outputs": [],
   "source": [
    "def exploratory_data_analysis(dataframe):\n",
    "    df = dataframe\n",
    "    n = 1 \n",
    "\n",
    "    #dimensiones dataframe\n",
    "    print(df.shape)\n",
    "\n",
    "    #columnas dataframe\n",
    "    print(df.columns)\n",
    "\n",
    "    #sample\n",
    "    display(df.head(),df.tail(),df.sample(5, random_state=n))\n",
    "\n",
    "    #descripción\n",
    "    display(df.describe().round(2))\n",
    "    \n",
    "    #nulos totales\n",
    "    print(df.isna().sum())\n",
    "\n",
    "    #valores únicos\n",
    "    print(df.nunique())\n",
    "\n",
    "    #duplicados\n",
    "    print(df.duplicated(subset='names', keep=False))\n",
    "\n",
    "    #plot box\n",
    "    df[['math score','reading score', 'writing score']].replace('', 0).astype(int).plot.box(figsize=(10, 8))\n",
    "    # df.plot.box(column=['math score','reading score', 'writing score'],figsize=(10, 8))\n"
   ]
  },
  {
   "cell_type": "markdown",
   "metadata": {
    "cell_id": "00021-f548a297-97a4-4d9b-9501-ae5571aa3068",
    "deepnote_cell_height": 52.390625,
    "deepnote_cell_type": "markdown",
    "id": "nxRj-Hi2QUHQ"
   },
   "source": [
    "**Justificación:**"
   ]
  },
  {
   "cell_type": "markdown",
   "metadata": {
    "cell_id": "00022-a0fee108-5903-4074-8b11-104b98a94a67",
    "deepnote_cell_height": 70.796875,
    "deepnote_cell_type": "markdown",
    "id": "CR2ZEOcbQW9X"
   },
   "source": [
    "```\n",
    "De los boxplot, es posible notar que la gran mayoría de los datos se encuentra cercano al cuarto cuartil, lo que indica que la mayoría de los alumnos obtuvieron buenas notas, manteniendo la gran mayoría entre los valores de 0 a 150 pts, aún con la existencia de valores excepcionalmente mayores. Estos valores se consideran outliers.\n",
    "\n",
    "Para el caso de los valores duplicados, estos no son posible de detectar en los boxplot, a menos que se les asignará un tipo de color especifico para cada alumno. Notar que la existencia de valores nan no se pueden notar, dado que el sistema los obvia, mas la existencia de valores cero si se muestran en los boxplot y estos corresponden a outliers, igualmente.\n",
    "\n",
    "**@Dani, chamullar más si puedes\n",
    "```"
   ]
  },
  {
   "cell_type": "markdown",
   "metadata": {
    "cell_id": "00017-b4a9f1a1-c50d-47f6-95af-4ce1416feed7",
    "deepnote_cell_height": 52.390625,
    "deepnote_cell_type": "markdown",
    "id": "45jxMTJHNPC3"
   },
   "source": [
    "**Respuesta Esperada:**"
   ]
  },
  {
   "cell_type": "code",
   "execution_count": 82,
   "metadata": {
    "cell_id": "00020-9bc24dfa-b47a-4545-8336-6470008a1527",
    "colab": {
     "base_uri": "https://localhost:8080/",
     "height": 1000
    },
    "deepnote_cell_height": 3055.796875,
    "deepnote_cell_type": "code",
    "deepnote_to_be_reexecuted": false,
    "executionInfo": {
     "elapsed": 565,
     "status": "ok",
     "timestamp": 1619205954456,
     "user": {
      "displayName": "IGNACIO ALEJANDRO MEZA",
      "photoUrl": "",
      "userId": "17011121633069169364"
     },
     "user_tz": 240
    },
    "execution_millis": 1940,
    "execution_start": 1632493422320,
    "id": "Vu2Y7Q4wuBXg",
    "outputId": "589784c1-3dc8-4c6a-c63d-2d0aa4211878",
    "source_hash": "fc6a5c17"
   },
   "outputs": [
    {
     "name": "stdout",
     "output_type": "stream",
     "text": [
      "(1400, 9)\n",
      "Index(['names', 'gender', 'race/ethnicity', 'parental level of education',\n",
      "       'lunch', 'test preparation course', 'math score', 'reading score',\n",
      "       'writing score'],\n",
      "      dtype='object')\n"
     ]
    },
    {
     "data": {
      "text/html": [
       "<div>\n",
       "<style scoped>\n",
       "    .dataframe tbody tr th:only-of-type {\n",
       "        vertical-align: middle;\n",
       "    }\n",
       "\n",
       "    .dataframe tbody tr th {\n",
       "        vertical-align: top;\n",
       "    }\n",
       "\n",
       "    .dataframe thead th {\n",
       "        text-align: right;\n",
       "    }\n",
       "</style>\n",
       "<table border=\"1\" class=\"dataframe\">\n",
       "  <thead>\n",
       "    <tr style=\"text-align: right;\">\n",
       "      <th></th>\n",
       "      <th>names</th>\n",
       "      <th>gender</th>\n",
       "      <th>race/ethnicity</th>\n",
       "      <th>parental level of education</th>\n",
       "      <th>lunch</th>\n",
       "      <th>test preparation course</th>\n",
       "      <th>math score</th>\n",
       "      <th>reading score</th>\n",
       "      <th>writing score</th>\n",
       "    </tr>\n",
       "  </thead>\n",
       "  <tbody>\n",
       "    <tr>\n",
       "      <th>0</th>\n",
       "      <td>Rita Courtney</td>\n",
       "      <td>female</td>\n",
       "      <td>group B</td>\n",
       "      <td>some high school</td>\n",
       "      <td>standard</td>\n",
       "      <td>none</td>\n",
       "      <td>37</td>\n",
       "      <td>46</td>\n",
       "      <td>46</td>\n",
       "    </tr>\n",
       "    <tr>\n",
       "      <th>1</th>\n",
       "      <td>Madeline Fuller</td>\n",
       "      <td>female</td>\n",
       "      <td>group C</td>\n",
       "      <td>some high school</td>\n",
       "      <td>standard</td>\n",
       "      <td>none</td>\n",
       "      <td>124</td>\n",
       "      <td>142</td>\n",
       "      <td>142</td>\n",
       "    </tr>\n",
       "    <tr>\n",
       "      <th>2</th>\n",
       "      <td>Daniel Rester</td>\n",
       "      <td>male</td>\n",
       "      <td>group E</td>\n",
       "      <td>associate's degree</td>\n",
       "      <td>standard</td>\n",
       "      <td>none</td>\n",
       "      <td>156</td>\n",
       "      <td>196</td>\n",
       "      <td>193</td>\n",
       "    </tr>\n",
       "    <tr>\n",
       "      <th>3</th>\n",
       "      <td>Charles Linstrom</td>\n",
       "      <td>male</td>\n",
       "      <td>group A</td>\n",
       "      <td>bachelor's degree</td>\n",
       "      <td>standard</td>\n",
       "      <td>completed</td>\n",
       "      <td>80</td>\n",
       "      <td>78</td>\n",
       "      <td>81</td>\n",
       "    </tr>\n",
       "    <tr>\n",
       "      <th>4</th>\n",
       "      <td>Geraldine Hale</td>\n",
       "      <td>female</td>\n",
       "      <td>group A</td>\n",
       "      <td>associate's degree</td>\n",
       "      <td>standard</td>\n",
       "      <td>none</td>\n",
       "      <td>131</td>\n",
       "      <td>166</td>\n",
       "      <td>166</td>\n",
       "    </tr>\n",
       "  </tbody>\n",
       "</table>\n",
       "</div>"
      ],
      "text/plain": [
       "              names  gender race/ethnicity parental level of education  \\\n",
       "0     Rita Courtney  female        group B            some high school   \n",
       "1   Madeline Fuller  female        group C            some high school   \n",
       "2     Daniel Rester    male        group E          associate's degree   \n",
       "3  Charles Linstrom    male        group A           bachelor's degree   \n",
       "4    Geraldine Hale  female        group A          associate's degree   \n",
       "\n",
       "      lunch test preparation course math score reading score writing score  \n",
       "0  standard                    none         37            46            46  \n",
       "1  standard                    none        124           142           142  \n",
       "2  standard                    none        156           196           193  \n",
       "3  standard               completed         80            78            81  \n",
       "4  standard                    none        131           166           166  "
      ]
     },
     "metadata": {},
     "output_type": "display_data"
    },
    {
     "data": {
      "text/html": [
       "<div>\n",
       "<style scoped>\n",
       "    .dataframe tbody tr th:only-of-type {\n",
       "        vertical-align: middle;\n",
       "    }\n",
       "\n",
       "    .dataframe tbody tr th {\n",
       "        vertical-align: top;\n",
       "    }\n",
       "\n",
       "    .dataframe thead th {\n",
       "        text-align: right;\n",
       "    }\n",
       "</style>\n",
       "<table border=\"1\" class=\"dataframe\">\n",
       "  <thead>\n",
       "    <tr style=\"text-align: right;\">\n",
       "      <th></th>\n",
       "      <th>names</th>\n",
       "      <th>gender</th>\n",
       "      <th>race/ethnicity</th>\n",
       "      <th>parental level of education</th>\n",
       "      <th>lunch</th>\n",
       "      <th>test preparation course</th>\n",
       "      <th>math score</th>\n",
       "      <th>reading score</th>\n",
       "      <th>writing score</th>\n",
       "    </tr>\n",
       "  </thead>\n",
       "  <tbody>\n",
       "    <tr>\n",
       "      <th>1395</th>\n",
       "      <td>Alexander Dillon</td>\n",
       "      <td>male</td>\n",
       "      <td>group D</td>\n",
       "      <td>associate's degree</td>\n",
       "      <td>standard</td>\n",
       "      <td>none</td>\n",
       "      <td>193</td>\n",
       "      <td>142</td>\n",
       "      <td>193</td>\n",
       "    </tr>\n",
       "    <tr>\n",
       "      <th>1396</th>\n",
       "      <td>Marina Zeigler</td>\n",
       "      <td>female</td>\n",
       "      <td>group C</td>\n",
       "      <td>bachelor's degree</td>\n",
       "      <td>free/reduced</td>\n",
       "      <td>completed</td>\n",
       "      <td>66</td>\n",
       "      <td>74</td>\n",
       "      <td>81</td>\n",
       "    </tr>\n",
       "    <tr>\n",
       "      <th>1397</th>\n",
       "      <td>Laurie Carter</td>\n",
       "      <td>female</td>\n",
       "      <td>group B</td>\n",
       "      <td>some high school</td>\n",
       "      <td>standard</td>\n",
       "      <td>completed</td>\n",
       "      <td>54</td>\n",
       "      <td>61</td>\n",
       "      <td>62</td>\n",
       "    </tr>\n",
       "    <tr>\n",
       "      <th>1398</th>\n",
       "      <td>Joseph Mccoy</td>\n",
       "      <td>male</td>\n",
       "      <td>group D</td>\n",
       "      <td>some college</td>\n",
       "      <td>free/reduced</td>\n",
       "      <td>none</td>\n",
       "      <td>193</td>\n",
       "      <td>196</td>\n",
       "      <td>193</td>\n",
       "    </tr>\n",
       "    <tr>\n",
       "      <th>1399</th>\n",
       "      <td>Amanda Perez</td>\n",
       "      <td>female</td>\n",
       "      <td>group A</td>\n",
       "      <td>high school</td>\n",
       "      <td>standard</td>\n",
       "      <td>completed</td>\n",
       "      <td>68</td>\n",
       "      <td>80</td>\n",
       "      <td>76</td>\n",
       "    </tr>\n",
       "  </tbody>\n",
       "</table>\n",
       "</div>"
      ],
      "text/plain": [
       "                 names  gender race/ethnicity parental level of education  \\\n",
       "1395  Alexander Dillon    male        group D          associate's degree   \n",
       "1396    Marina Zeigler  female        group C           bachelor's degree   \n",
       "1397     Laurie Carter  female        group B            some high school   \n",
       "1398      Joseph Mccoy    male        group D                some college   \n",
       "1399      Amanda Perez  female        group A                 high school   \n",
       "\n",
       "             lunch test preparation course math score reading score  \\\n",
       "1395      standard                    none        193           142   \n",
       "1396  free/reduced               completed         66            74   \n",
       "1397      standard               completed         54            61   \n",
       "1398  free/reduced                    none        193           196   \n",
       "1399      standard               completed         68            80   \n",
       "\n",
       "     writing score  \n",
       "1395           193  \n",
       "1396            81  \n",
       "1397            62  \n",
       "1398           193  \n",
       "1399            76  "
      ]
     },
     "metadata": {},
     "output_type": "display_data"
    },
    {
     "data": {
      "text/html": [
       "<div>\n",
       "<style scoped>\n",
       "    .dataframe tbody tr th:only-of-type {\n",
       "        vertical-align: middle;\n",
       "    }\n",
       "\n",
       "    .dataframe tbody tr th {\n",
       "        vertical-align: top;\n",
       "    }\n",
       "\n",
       "    .dataframe thead th {\n",
       "        text-align: right;\n",
       "    }\n",
       "</style>\n",
       "<table border=\"1\" class=\"dataframe\">\n",
       "  <thead>\n",
       "    <tr style=\"text-align: right;\">\n",
       "      <th></th>\n",
       "      <th>names</th>\n",
       "      <th>gender</th>\n",
       "      <th>race/ethnicity</th>\n",
       "      <th>parental level of education</th>\n",
       "      <th>lunch</th>\n",
       "      <th>test preparation course</th>\n",
       "      <th>math score</th>\n",
       "      <th>reading score</th>\n",
       "      <th>writing score</th>\n",
       "    </tr>\n",
       "  </thead>\n",
       "  <tbody>\n",
       "    <tr>\n",
       "      <th>547</th>\n",
       "      <td>Oliver Seldon</td>\n",
       "      <td>male</td>\n",
       "      <td>group B</td>\n",
       "      <td>high school</td>\n",
       "      <td>standard</td>\n",
       "      <td>completed</td>\n",
       "      <td>76</td>\n",
       "      <td>62</td>\n",
       "      <td>60</td>\n",
       "    </tr>\n",
       "    <tr>\n",
       "      <th>754</th>\n",
       "      <td>Robert Sturgeon</td>\n",
       "      <td>male</td>\n",
       "      <td>group E</td>\n",
       "      <td>some college</td>\n",
       "      <td>standard</td>\n",
       "      <td>none</td>\n",
       "      <td>83</td>\n",
       "      <td>80</td>\n",
       "      <td>73</td>\n",
       "    </tr>\n",
       "    <tr>\n",
       "      <th>1283</th>\n",
       "      <td>Nicole Obrien</td>\n",
       "      <td>female</td>\n",
       "      <td>group B</td>\n",
       "      <td>bachelor's degree</td>\n",
       "      <td>free/reduced</td>\n",
       "      <td>none</td>\n",
       "      <td>193</td>\n",
       "      <td>124</td>\n",
       "      <td>124</td>\n",
       "    </tr>\n",
       "    <tr>\n",
       "      <th>1128</th>\n",
       "      <td>Leona Markow</td>\n",
       "      <td>female</td>\n",
       "      <td>group A</td>\n",
       "      <td>some college</td>\n",
       "      <td>standard</td>\n",
       "      <td>none</td>\n",
       "      <td>142</td>\n",
       "      <td>193</td>\n",
       "      <td>64</td>\n",
       "    </tr>\n",
       "    <tr>\n",
       "      <th>1063</th>\n",
       "      <td>Lisa Watters</td>\n",
       "      <td>female</td>\n",
       "      <td>group D</td>\n",
       "      <td>master's degree</td>\n",
       "      <td>free/reduced</td>\n",
       "      <td>none</td>\n",
       "      <td>40</td>\n",
       "      <td>196</td>\n",
       "      <td>124</td>\n",
       "    </tr>\n",
       "  </tbody>\n",
       "</table>\n",
       "</div>"
      ],
      "text/plain": [
       "                names  gender race/ethnicity parental level of education  \\\n",
       "547     Oliver Seldon    male        group B                 high school   \n",
       "754   Robert Sturgeon    male        group E                some college   \n",
       "1283    Nicole Obrien  female        group B           bachelor's degree   \n",
       "1128     Leona Markow  female        group A                some college   \n",
       "1063     Lisa Watters  female        group D             master's degree   \n",
       "\n",
       "             lunch test preparation course math score reading score  \\\n",
       "547       standard               completed         76            62   \n",
       "754       standard                    none         83            80   \n",
       "1283  free/reduced                    none        193           124   \n",
       "1128      standard                    none        142           193   \n",
       "1063  free/reduced                    none         40           196   \n",
       "\n",
       "     writing score  \n",
       "547             60  \n",
       "754             73  \n",
       "1283           124  \n",
       "1128            64  \n",
       "1063           124  "
      ]
     },
     "metadata": {},
     "output_type": "display_data"
    },
    {
     "data": {
      "text/html": [
       "<div>\n",
       "<style scoped>\n",
       "    .dataframe tbody tr th:only-of-type {\n",
       "        vertical-align: middle;\n",
       "    }\n",
       "\n",
       "    .dataframe tbody tr th {\n",
       "        vertical-align: top;\n",
       "    }\n",
       "\n",
       "    .dataframe thead th {\n",
       "        text-align: right;\n",
       "    }\n",
       "</style>\n",
       "<table border=\"1\" class=\"dataframe\">\n",
       "  <thead>\n",
       "    <tr style=\"text-align: right;\">\n",
       "      <th></th>\n",
       "      <th>names</th>\n",
       "      <th>gender</th>\n",
       "      <th>race/ethnicity</th>\n",
       "      <th>parental level of education</th>\n",
       "      <th>lunch</th>\n",
       "      <th>test preparation course</th>\n",
       "      <th>math score</th>\n",
       "      <th>reading score</th>\n",
       "      <th>writing score</th>\n",
       "    </tr>\n",
       "  </thead>\n",
       "  <tbody>\n",
       "    <tr>\n",
       "      <th>count</th>\n",
       "      <td>1400</td>\n",
       "      <td>1400</td>\n",
       "      <td>1400</td>\n",
       "      <td>1400</td>\n",
       "      <td>1400</td>\n",
       "      <td>1400</td>\n",
       "      <td>1400</td>\n",
       "      <td>1400</td>\n",
       "      <td>1400</td>\n",
       "    </tr>\n",
       "    <tr>\n",
       "      <th>unique</th>\n",
       "      <td>1153</td>\n",
       "      <td>2</td>\n",
       "      <td>5</td>\n",
       "      <td>6</td>\n",
       "      <td>2</td>\n",
       "      <td>2</td>\n",
       "      <td>97</td>\n",
       "      <td>89</td>\n",
       "      <td>93</td>\n",
       "    </tr>\n",
       "    <tr>\n",
       "      <th>top</th>\n",
       "      <td>Robert Frazier</td>\n",
       "      <td>female</td>\n",
       "      <td>group C</td>\n",
       "      <td>some college</td>\n",
       "      <td>standard</td>\n",
       "      <td>none</td>\n",
       "      <td>193</td>\n",
       "      <td>193</td>\n",
       "      <td>193</td>\n",
       "    </tr>\n",
       "    <tr>\n",
       "      <th>freq</th>\n",
       "      <td>3</td>\n",
       "      <td>723</td>\n",
       "      <td>452</td>\n",
       "      <td>334</td>\n",
       "      <td>904</td>\n",
       "      <td>898</td>\n",
       "      <td>120</td>\n",
       "      <td>117</td>\n",
       "      <td>133</td>\n",
       "    </tr>\n",
       "  </tbody>\n",
       "</table>\n",
       "</div>"
      ],
      "text/plain": [
       "                 names  gender race/ethnicity parental level of education  \\\n",
       "count             1400    1400           1400                        1400   \n",
       "unique            1153       2              5                           6   \n",
       "top     Robert Frazier  female        group C                some college   \n",
       "freq                 3     723            452                         334   \n",
       "\n",
       "           lunch test preparation course  math score  reading score  \\\n",
       "count       1400                    1400        1400           1400   \n",
       "unique         2                       2          97             89   \n",
       "top     standard                    none         193            193   \n",
       "freq         904                     898         120            117   \n",
       "\n",
       "        writing score  \n",
       "count            1400  \n",
       "unique             93  \n",
       "top               193  \n",
       "freq              133  "
      ]
     },
     "metadata": {},
     "output_type": "display_data"
    },
    {
     "name": "stdout",
     "output_type": "stream",
     "text": [
      "names                          0\n",
      "gender                         0\n",
      "race/ethnicity                 0\n",
      "parental level of education    0\n",
      "lunch                          0\n",
      "test preparation course        0\n",
      "math score                     0\n",
      "reading score                  0\n",
      "writing score                  0\n",
      "dtype: int64\n",
      "names                          1153\n",
      "gender                            2\n",
      "race/ethnicity                    5\n",
      "parental level of education       6\n",
      "lunch                             2\n",
      "test preparation course           2\n",
      "math score                       97\n",
      "reading score                    89\n",
      "writing score                    93\n",
      "dtype: int64\n",
      "0        True\n",
      "1       False\n",
      "2       False\n",
      "3       False\n",
      "4       False\n",
      "        ...  \n",
      "1395     True\n",
      "1396    False\n",
      "1397    False\n",
      "1398     True\n",
      "1399    False\n",
      "Length: 1400, dtype: bool\n"
     ]
    },
    {
     "data": {
      "image/png": "[encoded data removed]",
      "text/plain": [
       "<Figure size 720x576 with 1 Axes>"
      ]
     },
     "metadata": {},
     "output_type": "display_data"
    }
   ],
   "source": [
    "exploratory_data_analysis(df_grades)"
   ]
  },
  {
   "cell_type": "markdown",
   "metadata": {
    "cell_id": "00023-ff3bb417-54d5-425c-9dfc-d6bb2115277e",
    "deepnote_cell_height": 193.1875,
    "deepnote_cell_type": "markdown",
    "id": "YJfqPXFZjQiA"
   },
   "source": [
    "## 1.2 Limpieza de Datos [1 punto]\n",
    "\n",
    "<p align=\"center\">\n",
    "  <img src=\"https://blogdatlas.files.wordpress.com/2020/07/datlas_mx_blog_limpieza_bds_data-scrubbing-service.gif\">\n",
    "</p>\n"
   ]
  },
  {
   "cell_type": "markdown",
   "metadata": {
    "cell_id": "00024-a0d43035-41b5-4b1c-99c6-f93dc8847789",
    "deepnote_cell_height": 268.1875,
    "deepnote_cell_type": "markdown",
    "id": "syO5lHKvv6Wt"
   },
   "source": [
    "En base a lo realizado anteriormente, realice una limpieza de los dataset. Asuma los supuestos señalados en la pregunta anterior para limpiar el `DataFrame` y cree una función que le permita limpiar los datos. Una vez limpiado cada uno de los `DataFrames` compruebe nuevamente los datos con la función creada en la sección 1.1.\n",
    "\n",
    "**To-Do:**\n",
    "\n",
    "- [X] Crear función que permita limpiar el dataset.\n",
    "- [ ] Comprobar que no existen anomalías en los datos a traves de la función de la sección 1.1.\n",
    "\n",
    "**Hint**\n",
    "\n",
    "Puede ser útil los métodos ```.drop_duplicates()``` y ```.dropna()``` como también utilizar queries con máscaras booleanas.\n"
   ]
  },
  {
   "cell_type": "markdown",
   "metadata": {
    "cell_id": "00025-7728a191-b359-4030-ac04-3b7d9070c53d",
    "deepnote_cell_height": 52.390625,
    "deepnote_cell_type": "markdown",
    "tags": []
   },
   "source": [
    "**Respuesta:**"
   ]
  },
  {
   "cell_type": "code",
   "execution_count": 83,
   "metadata": {},
   "outputs": [],
   "source": [
    "def clean_data(df):\n",
    "    output = df.copy()\n",
    "    output = output.drop_duplicates(subset=['names'], keep=False)\n",
    "    output = output.dropna()\n",
    "\n",
    "    output[['math score','reading score', 'writing score']] = output[['math score','reading score', 'writing score']].replace('', 0).astype(int)\n",
    "    output = output.drop(output[(output['math score'] > 100) & (output['math score'] > 100) & (output['writing score'] > 100)].index).reset_index(drop=True) \n",
    "\n",
    "    return output"
   ]
  },
  {
   "cell_type": "code",
   "execution_count": 84,
   "metadata": {
    "cell_id": "00027-afa227d9-32aa-49eb-9ae8-7c2fb625253a",
    "colab": {
     "base_uri": "https://localhost:8080/",
     "height": 419
    },
    "deepnote_cell_height": 490.6875,
    "deepnote_cell_type": "code",
    "deepnote_to_be_reexecuted": false,
    "executionInfo": {
     "elapsed": 571,
     "status": "ok",
     "timestamp": 1619205960363,
     "user": {
      "displayName": "IGNACIO ALEJANDRO MEZA",
      "photoUrl": "",
      "userId": "17011121633069169364"
     },
     "user_tz": 240
    },
    "execution_millis": 73,
    "execution_start": 1632493424310,
    "id": "Vl6MkQYHhXao",
    "outputId": "f070312b-113e-4e31-f676-3ed33e06ef91",
    "source_hash": "2f2b6eb"
   },
   "outputs": [
    {
     "name": "stdout",
     "output_type": "stream",
     "text": [
      "(796, 9)\n",
      "Index(['names', 'gender', 'race/ethnicity', 'parental level of education',\n",
      "       'lunch', 'test preparation course', 'math score', 'reading score',\n",
      "       'writing score'],\n",
      "      dtype='object')\n"
     ]
    },
    {
     "data": {
      "text/html": [
       "<div>\n",
       "<style scoped>\n",
       "    .dataframe tbody tr th:only-of-type {\n",
       "        vertical-align: middle;\n",
       "    }\n",
       "\n",
       "    .dataframe tbody tr th {\n",
       "        vertical-align: top;\n",
       "    }\n",
       "\n",
       "    .dataframe thead th {\n",
       "        text-align: right;\n",
       "    }\n",
       "</style>\n",
       "<table border=\"1\" class=\"dataframe\">\n",
       "  <thead>\n",
       "    <tr style=\"text-align: right;\">\n",
       "      <th></th>\n",
       "      <th>names</th>\n",
       "      <th>gender</th>\n",
       "      <th>race/ethnicity</th>\n",
       "      <th>parental level of education</th>\n",
       "      <th>lunch</th>\n",
       "      <th>test preparation course</th>\n",
       "      <th>math score</th>\n",
       "      <th>reading score</th>\n",
       "      <th>writing score</th>\n",
       "    </tr>\n",
       "  </thead>\n",
       "  <tbody>\n",
       "    <tr>\n",
       "      <th>0</th>\n",
       "      <td>Charles Linstrom</td>\n",
       "      <td>male</td>\n",
       "      <td>group A</td>\n",
       "      <td>bachelor's degree</td>\n",
       "      <td>standard</td>\n",
       "      <td>completed</td>\n",
       "      <td>80</td>\n",
       "      <td>78</td>\n",
       "      <td>81</td>\n",
       "    </tr>\n",
       "    <tr>\n",
       "      <th>1</th>\n",
       "      <td>Wayne Wilson</td>\n",
       "      <td>male</td>\n",
       "      <td>group B</td>\n",
       "      <td>some high school</td>\n",
       "      <td>standard</td>\n",
       "      <td>completed</td>\n",
       "      <td>94</td>\n",
       "      <td>86</td>\n",
       "      <td>87</td>\n",
       "    </tr>\n",
       "    <tr>\n",
       "      <th>2</th>\n",
       "      <td>William Tang</td>\n",
       "      <td>male</td>\n",
       "      <td>group D</td>\n",
       "      <td>associate's degree</td>\n",
       "      <td>standard</td>\n",
       "      <td>none</td>\n",
       "      <td>75</td>\n",
       "      <td>68</td>\n",
       "      <td>64</td>\n",
       "    </tr>\n",
       "    <tr>\n",
       "      <th>3</th>\n",
       "      <td>Mikki Amaya</td>\n",
       "      <td>female</td>\n",
       "      <td>group A</td>\n",
       "      <td>high school</td>\n",
       "      <td>free/reduced</td>\n",
       "      <td>completed</td>\n",
       "      <td>34</td>\n",
       "      <td>48</td>\n",
       "      <td>41</td>\n",
       "    </tr>\n",
       "    <tr>\n",
       "      <th>4</th>\n",
       "      <td>Gerald Wilson</td>\n",
       "      <td>male</td>\n",
       "      <td>group A</td>\n",
       "      <td>associate's degree</td>\n",
       "      <td>standard</td>\n",
       "      <td>none</td>\n",
       "      <td>63</td>\n",
       "      <td>61</td>\n",
       "      <td>61</td>\n",
       "    </tr>\n",
       "  </tbody>\n",
       "</table>\n",
       "</div>"
      ],
      "text/plain": [
       "              names  gender race/ethnicity parental level of education  \\\n",
       "0  Charles Linstrom    male        group A           bachelor's degree   \n",
       "1      Wayne Wilson    male        group B            some high school   \n",
       "2      William Tang    male        group D          associate's degree   \n",
       "3       Mikki Amaya  female        group A                 high school   \n",
       "4     Gerald Wilson    male        group A          associate's degree   \n",
       "\n",
       "          lunch test preparation course  math score  reading score  \\\n",
       "0      standard               completed          80             78   \n",
       "1      standard               completed          94             86   \n",
       "2      standard                    none          75             68   \n",
       "3  free/reduced               completed          34             48   \n",
       "4      standard                    none          63             61   \n",
       "\n",
       "   writing score  \n",
       "0             81  \n",
       "1             87  \n",
       "2             64  \n",
       "3             41  \n",
       "4             61  "
      ]
     },
     "metadata": {},
     "output_type": "display_data"
    },
    {
     "data": {
      "text/html": [
       "<div>\n",
       "<style scoped>\n",
       "    .dataframe tbody tr th:only-of-type {\n",
       "        vertical-align: middle;\n",
       "    }\n",
       "\n",
       "    .dataframe tbody tr th {\n",
       "        vertical-align: top;\n",
       "    }\n",
       "\n",
       "    .dataframe thead th {\n",
       "        text-align: right;\n",
       "    }\n",
       "</style>\n",
       "<table border=\"1\" class=\"dataframe\">\n",
       "  <thead>\n",
       "    <tr style=\"text-align: right;\">\n",
       "      <th></th>\n",
       "      <th>names</th>\n",
       "      <th>gender</th>\n",
       "      <th>race/ethnicity</th>\n",
       "      <th>parental level of education</th>\n",
       "      <th>lunch</th>\n",
       "      <th>test preparation course</th>\n",
       "      <th>math score</th>\n",
       "      <th>reading score</th>\n",
       "      <th>writing score</th>\n",
       "    </tr>\n",
       "  </thead>\n",
       "  <tbody>\n",
       "    <tr>\n",
       "      <th>791</th>\n",
       "      <td>Richard Young</td>\n",
       "      <td>male</td>\n",
       "      <td>group D</td>\n",
       "      <td>high school</td>\n",
       "      <td>standard</td>\n",
       "      <td>none</td>\n",
       "      <td>69</td>\n",
       "      <td>75</td>\n",
       "      <td>71</td>\n",
       "    </tr>\n",
       "    <tr>\n",
       "      <th>792</th>\n",
       "      <td>Wanda Russell</td>\n",
       "      <td>female</td>\n",
       "      <td>group B</td>\n",
       "      <td>high school</td>\n",
       "      <td>free/reduced</td>\n",
       "      <td>completed</td>\n",
       "      <td>23</td>\n",
       "      <td>44</td>\n",
       "      <td>36</td>\n",
       "    </tr>\n",
       "    <tr>\n",
       "      <th>793</th>\n",
       "      <td>Marina Zeigler</td>\n",
       "      <td>female</td>\n",
       "      <td>group C</td>\n",
       "      <td>bachelor's degree</td>\n",
       "      <td>free/reduced</td>\n",
       "      <td>completed</td>\n",
       "      <td>66</td>\n",
       "      <td>74</td>\n",
       "      <td>81</td>\n",
       "    </tr>\n",
       "    <tr>\n",
       "      <th>794</th>\n",
       "      <td>Laurie Carter</td>\n",
       "      <td>female</td>\n",
       "      <td>group B</td>\n",
       "      <td>some high school</td>\n",
       "      <td>standard</td>\n",
       "      <td>completed</td>\n",
       "      <td>54</td>\n",
       "      <td>61</td>\n",
       "      <td>62</td>\n",
       "    </tr>\n",
       "    <tr>\n",
       "      <th>795</th>\n",
       "      <td>Amanda Perez</td>\n",
       "      <td>female</td>\n",
       "      <td>group A</td>\n",
       "      <td>high school</td>\n",
       "      <td>standard</td>\n",
       "      <td>completed</td>\n",
       "      <td>68</td>\n",
       "      <td>80</td>\n",
       "      <td>76</td>\n",
       "    </tr>\n",
       "  </tbody>\n",
       "</table>\n",
       "</div>"
      ],
      "text/plain": [
       "              names  gender race/ethnicity parental level of education  \\\n",
       "791   Richard Young    male        group D                 high school   \n",
       "792   Wanda Russell  female        group B                 high school   \n",
       "793  Marina Zeigler  female        group C           bachelor's degree   \n",
       "794   Laurie Carter  female        group B            some high school   \n",
       "795    Amanda Perez  female        group A                 high school   \n",
       "\n",
       "            lunch test preparation course  math score  reading score  \\\n",
       "791      standard                    none          69             75   \n",
       "792  free/reduced               completed          23             44   \n",
       "793  free/reduced               completed          66             74   \n",
       "794      standard               completed          54             61   \n",
       "795      standard               completed          68             80   \n",
       "\n",
       "     writing score  \n",
       "791             71  \n",
       "792             36  \n",
       "793             81  \n",
       "794             62  \n",
       "795             76  "
      ]
     },
     "metadata": {},
     "output_type": "display_data"
    },
    {
     "data": {
      "text/html": [
       "<div>\n",
       "<style scoped>\n",
       "    .dataframe tbody tr th:only-of-type {\n",
       "        vertical-align: middle;\n",
       "    }\n",
       "\n",
       "    .dataframe tbody tr th {\n",
       "        vertical-align: top;\n",
       "    }\n",
       "\n",
       "    .dataframe thead th {\n",
       "        text-align: right;\n",
       "    }\n",
       "</style>\n",
       "<table border=\"1\" class=\"dataframe\">\n",
       "  <thead>\n",
       "    <tr style=\"text-align: right;\">\n",
       "      <th></th>\n",
       "      <th>names</th>\n",
       "      <th>gender</th>\n",
       "      <th>race/ethnicity</th>\n",
       "      <th>parental level of education</th>\n",
       "      <th>lunch</th>\n",
       "      <th>test preparation course</th>\n",
       "      <th>math score</th>\n",
       "      <th>reading score</th>\n",
       "      <th>writing score</th>\n",
       "    </tr>\n",
       "  </thead>\n",
       "  <tbody>\n",
       "    <tr>\n",
       "      <th>8</th>\n",
       "      <td>Donald Upchurch</td>\n",
       "      <td>male</td>\n",
       "      <td>group C</td>\n",
       "      <td>associate's degree</td>\n",
       "      <td>standard</td>\n",
       "      <td>none</td>\n",
       "      <td>62</td>\n",
       "      <td>65</td>\n",
       "      <td>58</td>\n",
       "    </tr>\n",
       "    <tr>\n",
       "      <th>552</th>\n",
       "      <td>Kenneth Armendariz</td>\n",
       "      <td>male</td>\n",
       "      <td>group B</td>\n",
       "      <td>associate's degree</td>\n",
       "      <td>free/reduced</td>\n",
       "      <td>completed</td>\n",
       "      <td>58</td>\n",
       "      <td>57</td>\n",
       "      <td>53</td>\n",
       "    </tr>\n",
       "    <tr>\n",
       "      <th>175</th>\n",
       "      <td>Robert Taylor</td>\n",
       "      <td>male</td>\n",
       "      <td>group E</td>\n",
       "      <td>high school</td>\n",
       "      <td>free/reduced</td>\n",
       "      <td>completed</td>\n",
       "      <td>86</td>\n",
       "      <td>81</td>\n",
       "      <td>75</td>\n",
       "    </tr>\n",
       "    <tr>\n",
       "      <th>349</th>\n",
       "      <td>Dana Mojica</td>\n",
       "      <td>female</td>\n",
       "      <td>group D</td>\n",
       "      <td>high school</td>\n",
       "      <td>free/reduced</td>\n",
       "      <td>none</td>\n",
       "      <td>39</td>\n",
       "      <td>52</td>\n",
       "      <td>46</td>\n",
       "    </tr>\n",
       "    <tr>\n",
       "      <th>519</th>\n",
       "      <td>Fannie Hindman</td>\n",
       "      <td>female</td>\n",
       "      <td>group D</td>\n",
       "      <td>high school</td>\n",
       "      <td>standard</td>\n",
       "      <td>none</td>\n",
       "      <td>67</td>\n",
       "      <td>72</td>\n",
       "      <td>74</td>\n",
       "    </tr>\n",
       "  </tbody>\n",
       "</table>\n",
       "</div>"
      ],
      "text/plain": [
       "                  names  gender race/ethnicity parental level of education  \\\n",
       "8       Donald Upchurch    male        group C          associate's degree   \n",
       "552  Kenneth Armendariz    male        group B          associate's degree   \n",
       "175       Robert Taylor    male        group E                 high school   \n",
       "349         Dana Mojica  female        group D                 high school   \n",
       "519      Fannie Hindman  female        group D                 high school   \n",
       "\n",
       "            lunch test preparation course  math score  reading score  \\\n",
       "8        standard                    none          62             65   \n",
       "552  free/reduced               completed          58             57   \n",
       "175  free/reduced               completed          86             81   \n",
       "349  free/reduced                    none          39             52   \n",
       "519      standard                    none          67             72   \n",
       "\n",
       "     writing score  \n",
       "8               58  \n",
       "552             53  \n",
       "175             75  \n",
       "349             46  \n",
       "519             74  "
      ]
     },
     "metadata": {},
     "output_type": "display_data"
    },
    {
     "data": {
      "text/html": [
       "<div>\n",
       "<style scoped>\n",
       "    .dataframe tbody tr th:only-of-type {\n",
       "        vertical-align: middle;\n",
       "    }\n",
       "\n",
       "    .dataframe tbody tr th {\n",
       "        vertical-align: top;\n",
       "    }\n",
       "\n",
       "    .dataframe thead th {\n",
       "        text-align: right;\n",
       "    }\n",
       "</style>\n",
       "<table border=\"1\" class=\"dataframe\">\n",
       "  <thead>\n",
       "    <tr style=\"text-align: right;\">\n",
       "      <th></th>\n",
       "      <th>math score</th>\n",
       "      <th>reading score</th>\n",
       "      <th>writing score</th>\n",
       "    </tr>\n",
       "  </thead>\n",
       "  <tbody>\n",
       "    <tr>\n",
       "      <th>count</th>\n",
       "      <td>796.00</td>\n",
       "      <td>796.00</td>\n",
       "      <td>796.00</td>\n",
       "    </tr>\n",
       "    <tr>\n",
       "      <th>mean</th>\n",
       "      <td>67.17</td>\n",
       "      <td>73.22</td>\n",
       "      <td>68.83</td>\n",
       "    </tr>\n",
       "    <tr>\n",
       "      <th>std</th>\n",
       "      <td>23.95</td>\n",
       "      <td>26.21</td>\n",
       "      <td>23.77</td>\n",
       "    </tr>\n",
       "    <tr>\n",
       "      <th>min</th>\n",
       "      <td>0.00</td>\n",
       "      <td>0.00</td>\n",
       "      <td>0.00</td>\n",
       "    </tr>\n",
       "    <tr>\n",
       "      <th>25%</th>\n",
       "      <td>57.00</td>\n",
       "      <td>60.00</td>\n",
       "      <td>57.00</td>\n",
       "    </tr>\n",
       "    <tr>\n",
       "      <th>50%</th>\n",
       "      <td>66.00</td>\n",
       "      <td>71.00</td>\n",
       "      <td>69.00</td>\n",
       "    </tr>\n",
       "    <tr>\n",
       "      <th>75%</th>\n",
       "      <td>77.00</td>\n",
       "      <td>81.25</td>\n",
       "      <td>80.00</td>\n",
       "    </tr>\n",
       "    <tr>\n",
       "      <th>max</th>\n",
       "      <td>196.00</td>\n",
       "      <td>196.00</td>\n",
       "      <td>196.00</td>\n",
       "    </tr>\n",
       "  </tbody>\n",
       "</table>\n",
       "</div>"
      ],
      "text/plain": [
       "       math score  reading score  writing score\n",
       "count      796.00         796.00         796.00\n",
       "mean        67.17          73.22          68.83\n",
       "std         23.95          26.21          23.77\n",
       "min          0.00           0.00           0.00\n",
       "25%         57.00          60.00          57.00\n",
       "50%         66.00          71.00          69.00\n",
       "75%         77.00          81.25          80.00\n",
       "max        196.00         196.00         196.00"
      ]
     },
     "metadata": {},
     "output_type": "display_data"
    },
    {
     "name": "stdout",
     "output_type": "stream",
     "text": [
      "names                          0\n",
      "gender                         0\n",
      "race/ethnicity                 0\n",
      "parental level of education    0\n",
      "lunch                          0\n",
      "test preparation course        0\n",
      "math score                     0\n",
      "reading score                  0\n",
      "writing score                  0\n",
      "dtype: int64\n",
      "names                          796\n",
      "gender                           2\n",
      "race/ethnicity                   5\n",
      "parental level of education      6\n",
      "lunch                            2\n",
      "test preparation course          2\n",
      "math score                      83\n",
      "reading score                   80\n",
      "writing score                   84\n",
      "dtype: int64\n",
      "0      False\n",
      "1      False\n",
      "2      False\n",
      "3      False\n",
      "4      False\n",
      "       ...  \n",
      "791    False\n",
      "792    False\n",
      "793    False\n",
      "794    False\n",
      "795    False\n",
      "Length: 796, dtype: bool\n"
     ]
    },
    {
     "data": {
      "image/png": "[encoded data removed]",
      "text/plain": [
       "<Figure size 720x576 with 1 Axes>"
      ]
     },
     "metadata": {},
     "output_type": "display_data"
    }
   ],
   "source": [
    "df_grades2 = clean_data(df_grades)\n",
    "df_grades2.head()\n",
    "exploratory_data_analysis(df_grades2)"
   ]
  },
  {
   "cell_type": "markdown",
   "metadata": {
    "cell_id": "00028-7d461c3c-584a-437b-a3b0-8eb3a9a60b08",
    "deepnote_cell_height": 66.390625,
    "deepnote_cell_type": "markdown",
    "id": "iAnb7kcRj9gJ"
   },
   "source": [
    "> Utilice la función creada en el punto 1.1 para verificar sus resultados."
   ]
  },
  {
   "cell_type": "markdown",
   "metadata": {
    "cell_id": "00030-826810d6-9106-4a3f-9272-16f541b88ac0",
    "deepnote_cell_type": "markdown",
    "id": "mPmHNen3jZCX"
   },
   "source": [
    "**Justificación:**"
   ]
  },
  {
   "cell_type": "markdown",
   "metadata": {
    "cell_id": "00031-04187309-a1db-4ad3-a90b-75b312d9b39f",
    "deepnote_cell_type": "markdown",
    "id": "uCK_RZEajZHI"
   },
   "source": [
    "```\n",
    "Escriba aquí su justificación\n",
    "```"
   ]
  },
  {
   "cell_type": "markdown",
   "metadata": {
    "cell_id": "00032-35743f33-7587-4206-903d-5922c094c121",
    "deepnote_cell_type": "markdown",
    "id": "2tnenh4uOF6k"
   },
   "source": [
    "## 1.3 Trabajando con Datos\n",
    "\n",
    "<p align=\"center\">\n",
    "  <img src=\"https://media3.giphy.com/media/YQitE4YNQNahy/giphy-downsized-large.gif\">\n",
    "</p>"
   ]
  },
  {
   "cell_type": "markdown",
   "metadata": {
    "cell_id": "00033-ae1d6c24-6c73-49d9-961d-4f6a9da3f5a1",
    "deepnote_cell_type": "markdown",
    "id": "Qecw0sKor_Au"
   },
   "source": [
    "### 1.3.1 Transformación de notas a \"Nota Chilena\" [0.5 Puntos]"
   ]
  },
  {
   "cell_type": "markdown",
   "metadata": {
    "cell_id": "00034-0c2d3679-984b-4d24-8ab0-fc8de61bb42e",
    "deepnote_cell_type": "markdown",
    "id": "BfmD-9yi4PnX"
   },
   "source": [
    "En una de las reuniones con Don Caguayo este les comenta su intención de pasar todas sus notas a la \"Escala Chilena\". Para esto les facilita la siguiente ecuación:\n",
    "\n",
    "$$Nota \\, Chilena= \\% \\, de \\, logro*0.06 + 1$$\n",
    "\n",
    "Utilizando la ecuación entregada, cree una función que le permita pasar a la escala Chilena las notas que se escapan del rango [1,7] y entregue las notas redondeadas al segundo decimal.\n",
    "\n",
    "**To-Do**\n",
    "\n",
    "- [ ] Tranforme los valores a la escala chilena."
   ]
  },
  {
   "cell_type": "markdown",
   "metadata": {
    "cell_id": "00035-7dd5d2b3-12e5-4cb8-a9ab-e3f0e4870b94",
    "deepnote_cell_type": "markdown",
    "tags": []
   },
   "source": [
    "**Respuesta:**"
   ]
  },
  {
   "cell_type": "code",
   "execution_count": 85,
   "metadata": {
    "cell_id": "00036-4f869d3b-f09e-4986-8f77-604d440d0b99",
    "deepnote_cell_type": "code",
    "deepnote_to_be_reexecuted": false,
    "executionInfo": {
     "elapsed": 669,
     "status": "ok",
     "timestamp": 1619205969195,
     "user": {
      "displayName": "IGNACIO ALEJANDRO MEZA",
      "photoUrl": "",
      "userId": "17011121633069169364"
     },
     "user_tz": 240
    },
    "execution_millis": 1,
    "execution_start": 1632493424541,
    "id": "GQ0gDEvd3T1m",
    "source_hash": "e84f9f19"
   },
   "outputs": [],
   "source": [
    "def nota_chilena(dataframe_in, columna):\n",
    "  \n",
    "  pass"
   ]
  },
  {
   "cell_type": "markdown",
   "metadata": {
    "cell_id": "00038-3045a9c7-3dc1-4909-a993-3346ce27103d",
    "deepnote_cell_type": "markdown",
    "id": "QGe-Hb2UTAE1"
   },
   "source": [
    "### 1.3.2 Obtención de promedio de alumnos [0.5]"
   ]
  },
  {
   "cell_type": "markdown",
   "metadata": {
    "cell_id": "00039-5e16ce47-71fb-4750-9d81-c7bdb854141d",
    "deepnote_cell_type": "markdown",
    "id": "AEkWI5K-OZgt"
   },
   "source": [
    "Con todas las notas adjuntadas, la prestigiosa Universidad De la Cachaña necesita obtener el promedio general de cada uno de los alumnos. Para esto se le solicita que calcule el promedio con cada una de las asignaturas y el promedio se anexe como una nueva columna al final del DataFrame original. Cabe señalar que las notas deben ser redondeadas al segundo decimal.\n",
    "\n",
    "**To-Do:**\n",
    "- [ ] Crear función que nos permite obtener el promedio de cada uno de los alumnos y anexar esta información en el DataFrame original.\n"
   ]
  },
  {
   "cell_type": "markdown",
   "metadata": {
    "cell_id": "00040-ed949f3e-dd9b-44a7-aa8c-b75d7651546d",
    "deepnote_cell_type": "markdown",
    "tags": []
   },
   "source": [
    "**Respuesta:**"
   ]
  },
  {
   "cell_type": "code",
   "execution_count": 86,
   "metadata": {
    "cell_id": "00041-71c0f72b-1361-4b83-a3d2-cd5a916f0bb0",
    "deepnote_cell_type": "code",
    "deepnote_to_be_reexecuted": false,
    "executionInfo": {
     "elapsed": 644,
     "status": "ok",
     "timestamp": 1619205973016,
     "user": {
      "displayName": "IGNACIO ALEJANDRO MEZA",
      "photoUrl": "",
      "userId": "17011121633069169364"
     },
     "user_tz": 240
    },
    "execution_millis": 0,
    "execution_start": 1632493424597,
    "id": "b6CTPp5TAMhE",
    "source_hash": "810948b"
   },
   "outputs": [],
   "source": [
    "def alumnos_promedio(dataframe_in):\n",
    "  pass"
   ]
  },
  {
   "cell_type": "markdown",
   "metadata": {
    "cell_id": "00042-507bb30d-9670-4be3-9854-1617ba8f2095",
    "deepnote_cell_type": "markdown",
    "id": "hrakfq02Si8z"
   },
   "source": [
    "**Respuesta Esperada:**"
   ]
  },
  {
   "cell_type": "code",
   "execution_count": 87,
   "metadata": {
    "cell_id": "00043-e16930f7-fe82-453a-8e9a-7421732ac929",
    "colab": {
     "base_uri": "https://localhost:8080/",
     "height": 204
    },
    "deepnote_cell_type": "code",
    "deepnote_to_be_reexecuted": false,
    "executionInfo": {
     "elapsed": 783,
     "status": "ok",
     "timestamp": 1619205975187,
     "user": {
      "displayName": "IGNACIO ALEJANDRO MEZA",
      "photoUrl": "",
      "userId": "17011121633069169364"
     },
     "user_tz": 240
    },
    "execution_millis": 43,
    "execution_start": 1632493424603,
    "id": "g9Fiwt8USiac",
    "outputId": "1e4da1d8-62d8-41b1-923d-68bfd65bed38",
    "source_hash": "55e53e3b"
   },
   "outputs": [
    {
     "ename": "AttributeError",
     "evalue": "'NoneType' object has no attribute 'head'",
     "output_type": "error",
     "traceback": [
      "\u001b[1;31m---------------------------------------------------------------------------\u001b[0m",
      "\u001b[1;31mAttributeError\u001b[0m                            Traceback (most recent call last)",
      "\u001b[1;32mc:\\Users\\Daniel\\Documents\\Universidad\\Master\\LaboratorioDeProgramacion\\Evaluaciones-MDS7202\\Lab_3\\Laboratorio3_enunciado.ipynb Celda 44\u001b[0m in \u001b[0;36m<cell line: 2>\u001b[1;34m()\u001b[0m\n\u001b[0;32m      <a href='vscode-notebook-cell:/c%3A/Users/Daniel/Documents/Universidad/Master/LaboratorioDeProgramacion/Evaluaciones-MDS7202/Lab_3/Laboratorio3_enunciado.ipynb#X61sZmlsZQ%3D%3D?line=0'>1</a>\u001b[0m df_grades \u001b[39m=\u001b[39m alumnos_promedio(df_grades)\n\u001b[1;32m----> <a href='vscode-notebook-cell:/c%3A/Users/Daniel/Documents/Universidad/Master/LaboratorioDeProgramacion/Evaluaciones-MDS7202/Lab_3/Laboratorio3_enunciado.ipynb#X61sZmlsZQ%3D%3D?line=1'>2</a>\u001b[0m df_grades\u001b[39m.\u001b[39;49mhead()\n",
      "\u001b[1;31mAttributeError\u001b[0m: 'NoneType' object has no attribute 'head'"
     ]
    }
   ],
   "source": [
    "df_grades = alumnos_promedio(df_grades)\n",
    "df_grades.head()"
   ]
  },
  {
   "cell_type": "markdown",
   "metadata": {
    "cell_id": "00044-362969a2-b0d5-4d45-a6f1-0293e36c0417",
    "deepnote_cell_type": "markdown",
    "id": "uA0ZXAWyBoLX"
   },
   "source": [
    "### 1.3.3 Reprobados y Destacados [1.5 Punto, 0.5 Cada DataFrame]"
   ]
  },
  {
   "cell_type": "markdown",
   "metadata": {
    "cell_id": "00045-7514bdf0-01ec-4c0a-83d1-12a2a8c8d3c3",
    "deepnote_cell_type": "markdown",
    "id": "k1FKahC3_g5_"
   },
   "source": [
    "Contentos con su desempeño, la Universidad les solicita que obtengan los alumnos quienes han reprobado el año y los que han tenido desempeño de destacado. Para esto se considerará que un alumno ha reprobado el año cuando el promedio de notas es inferior a 4.0 en la Escala Chilena, y se considerará destacado si posee notas superiores a 5.8 en todas las asignaturas (o sea notas superiores a 5.8 en `math score`, `reading score` y `writing score`).\n",
    "\n",
    "Cree una función que permita obtener tres Dataframes: \n",
    "- El primero deberá poseer solamente los alumnos que han reprobado en la prestigiosa universidad.\n",
    "- El segundo debe entregar un DataFrame similar al original, pero marcado con una \"R\" el promedio de notas de los alumnos reprobados.\n",
    "- El tercero será un Data Frame con los alumnos destacados ordenados de mayor a menor.\n",
    "\n",
    "**To-Do:**\n",
    "\n",
    "- [ ] Obtener DataFrame con los alumnos que reprobaron el año.\n",
    "- [ ] Obtener DataFrame similar al original, pero marcados con una \"R\" el atributo GPA de los alumnos reprobados.\n",
    "- [ ] Obtener DataFrame con los alumnos destacados ordenados de mayor a menor."
   ]
  },
  {
   "cell_type": "markdown",
   "metadata": {
    "cell_id": "00046-8337183c-cd19-4dc0-b936-9dadeda8418e",
    "deepnote_cell_type": "markdown",
    "tags": []
   },
   "source": [
    "**Respuesta:**"
   ]
  },
  {
   "cell_type": "code",
   "execution_count": null,
   "metadata": {
    "cell_id": "00047-d6f8abcb-8fba-4e2a-9dde-de6844e4868b",
    "deepnote_cell_type": "code",
    "deepnote_to_be_reexecuted": false,
    "executionInfo": {
     "elapsed": 641,
     "status": "ok",
     "timestamp": 1619205977306,
     "user": {
      "displayName": "IGNACIO ALEJANDRO MEZA",
      "photoUrl": "",
      "userId": "17011121633069169364"
     },
     "user_tz": 240
    },
    "execution_millis": 2,
    "execution_start": 1632493424637,
    "id": "Yw52wzwMAXHW",
    "source_hash": "e3c68478"
   },
   "outputs": [],
   "source": [
    "def reprobados_destacados(dataframe_in):\n",
    "    pass\n"
   ]
  },
  {
   "cell_type": "code",
   "execution_count": null,
   "metadata": {
    "cell_id": "00048-58c77591-f1eb-4497-af40-252bcc9ed099",
    "colab": {
     "base_uri": "https://localhost:8080/",
     "height": 419
    },
    "deepnote_cell_type": "code",
    "deepnote_to_be_reexecuted": false,
    "executionInfo": {
     "elapsed": 611,
     "status": "ok",
     "timestamp": 1619205978676,
     "user": {
      "displayName": "IGNACIO ALEJANDRO MEZA",
      "photoUrl": "",
      "userId": "17011121633069169364"
     },
     "user_tz": 240
    },
    "execution_millis": 69,
    "execution_start": 1632493424642,
    "id": "LlxNXK11XBGn",
    "outputId": "a4572fe2-0758-4c0c-c9f3-cb444233134f",
    "source_hash": "73b6de2"
   },
   "outputs": [
    {
     "data": {
      "application/vnd.deepnote.dataframe.v2+json": {
       "column_count": 10,
       "columns": [
        {
         "dtype": "object",
         "name": "names",
         "stats": {
          "categories": [
           {
            "count": 1,
            "name": "Rita Courtney"
           },
           {
            "count": 1,
            "name": "Mikki Amaya"
           },
           {
            "count": 84,
            "name": "84 others"
           }
          ],
          "nan_count": 0,
          "unique_count": 86
         }
        },
        {
         "dtype": "object",
         "name": "gender",
         "stats": {
          "categories": [
           {
            "count": 55,
            "name": "male"
           },
           {
            "count": 31,
            "name": "female"
           }
          ],
          "nan_count": 0,
          "unique_count": 2
         }
        },
        {
         "dtype": "object",
         "name": "race/ethnicity",
         "stats": {
          "categories": [
           {
            "count": 24,
            "name": "group C"
           },
           {
            "count": 23,
            "name": "group B"
           },
           {
            "count": 39,
            "name": "3 others"
           }
          ],
          "nan_count": 0,
          "unique_count": 5
         }
        },
        {
         "dtype": "object",
         "name": "parental level of education",
         "stats": {
          "categories": [
           {
            "count": 27,
            "name": "high school"
           },
           {
            "count": 26,
            "name": "some high school"
           },
           {
            "count": 33,
            "name": "4 others"
           }
          ],
          "nan_count": 0,
          "unique_count": 6
         }
        },
        {
         "dtype": "object",
         "name": "lunch",
         "stats": {
          "categories": [
           {
            "count": 53,
            "name": "free/reduced"
           },
           {
            "count": 33,
            "name": "standard"
           }
          ],
          "nan_count": 0,
          "unique_count": 2
         }
        },
        {
         "dtype": "object",
         "name": "test preparation course",
         "stats": {
          "categories": [
           {
            "count": 70,
            "name": "none"
           },
           {
            "count": 16,
            "name": "completed"
           }
          ],
          "nan_count": 0,
          "unique_count": 2
         }
        },
        {
         "dtype": "float64",
         "name": "math score",
         "stats": {
          "histogram": [
           {
            "bin_end": 1.366,
            "bin_start": 1,
            "count": 1
           },
           {
            "bin_end": 1.732,
            "bin_start": 1.366,
            "count": 1
           },
           {
            "bin_end": 2.098,
            "bin_start": 1.732,
            "count": 1
           },
           {
            "bin_end": 2.464,
            "bin_start": 2.098,
            "count": 4
           },
           {
            "bin_end": 2.83,
            "bin_start": 2.464,
            "count": 9
           },
           {
            "bin_end": 3.1959999999999997,
            "bin_start": 2.83,
            "count": 8
           },
           {
            "bin_end": 3.562,
            "bin_start": 3.1959999999999997,
            "count": 19
           },
           {
            "bin_end": 3.928,
            "bin_start": 3.562,
            "count": 21
           },
           {
            "bin_end": 4.2940000000000005,
            "bin_start": 3.928,
            "count": 14
           },
           {
            "bin_end": 4.66,
            "bin_start": 4.2940000000000005,
            "count": 8
           }
          ],
          "max": "4.66",
          "min": "1.0",
          "nan_count": 0,
          "unique_count": 37
         }
        },
        {
         "dtype": "float64",
         "name": "reading score",
         "stats": {
          "histogram": [
           {
            "bin_end": 2.26,
            "bin_start": 2.02,
            "count": 1
           },
           {
            "bin_end": 2.5,
            "bin_start": 2.26,
            "count": 3
           },
           {
            "bin_end": 2.74,
            "bin_start": 2.5,
            "count": 2
           },
           {
            "bin_end": 2.98,
            "bin_start": 2.74,
            "count": 5
           },
           {
            "bin_end": 3.2199999999999998,
            "bin_start": 2.98,
            "count": 4
           },
           {
            "bin_end": 3.46,
            "bin_start": 3.2199999999999998,
            "count": 10
           },
           {
            "bin_end": 3.7,
            "bin_start": 3.46,
            "count": 20
           },
           {
            "bin_end": 3.94,
            "bin_start": 3.7,
            "count": 17
           },
           {
            "bin_end": 4.18,
            "bin_start": 3.94,
            "count": 17
           },
           {
            "bin_end": 4.42,
            "bin_start": 4.18,
            "count": 7
           }
          ],
          "max": "4.42",
          "min": "2.02",
          "nan_count": 0,
          "unique_count": 30
         }
        },
        {
         "dtype": "float64",
         "name": "writing score",
         "stats": {
          "histogram": [
           {
            "bin_end": 1.864,
            "bin_start": 1.6,
            "count": 1
           },
           {
            "bin_end": 2.128,
            "bin_start": 1.864,
            "count": 1
           },
           {
            "bin_end": 2.3920000000000003,
            "bin_start": 2.128,
            "count": 3
           },
           {
            "bin_end": 2.656,
            "bin_start": 2.3920000000000003,
            "count": 3
           },
           {
            "bin_end": 2.92,
            "bin_start": 2.656,
            "count": 2
           },
           {
            "bin_end": 3.184,
            "bin_start": 2.92,
            "count": 11
           },
           {
            "bin_end": 3.4480000000000004,
            "bin_start": 3.184,
            "count": 8
           },
           {
            "bin_end": 3.712,
            "bin_start": 3.4480000000000004,
            "count": 31
           },
           {
            "bin_end": 3.9760000000000004,
            "bin_start": 3.712,
            "count": 16
           },
           {
            "bin_end": 4.24,
            "bin_start": 3.9760000000000004,
            "count": 10
           }
          ],
          "max": "4.24",
          "min": "1.6",
          "nan_count": 0,
          "unique_count": 30
         }
        },
        {
         "dtype": "float64",
         "name": "GPA",
         "stats": {
          "histogram": [
           {
            "bin_end": 1.784,
            "bin_start": 1.54,
            "count": 1
           },
           {
            "bin_end": 2.028,
            "bin_start": 1.784,
            "count": 0
           },
           {
            "bin_end": 2.2720000000000002,
            "bin_start": 2.028,
            "count": 1
           },
           {
            "bin_end": 2.516,
            "bin_start": 2.2720000000000002,
            "count": 2
           },
           {
            "bin_end": 2.76,
            "bin_start": 2.516,
            "count": 2
           },
           {
            "bin_end": 3.004,
            "bin_start": 2.76,
            "count": 9
           },
           {
            "bin_end": 3.248,
            "bin_start": 3.004,
            "count": 3
           },
           {
            "bin_end": 3.492,
            "bin_start": 3.248,
            "count": 14
           },
           {
            "bin_end": 3.7359999999999998,
            "bin_start": 3.492,
            "count": 16
           },
           {
            "bin_end": 3.98,
            "bin_start": 3.7359999999999998,
            "count": 38
           }
          ],
          "max": "3.98",
          "min": "1.54",
          "nan_count": 0,
          "unique_count": 48
         }
        },
        {
         "dtype": "int64",
         "name": "_deepnote_index_column"
        }
       ],
       "row_count": 86,
       "rows_bottom": null,
       "rows_top": [
        {
         "GPA": 3.58,
         "_deepnote_index_column": 0,
         "gender": "female",
         "lunch": "standard",
         "math score": 3.22,
         "names": "Rita Courtney",
         "parental level of education": "some high school",
         "race/ethnicity": "group B",
         "reading score": 3.76,
         "test preparation course": "none",
         "writing score": 3.76
        },
        {
         "GPA": 3.46,
         "_deepnote_index_column": 1,
         "gender": "female",
         "lunch": "free/reduced",
         "math score": 3.04,
         "names": "Mikki Amaya",
         "parental level of education": "high school",
         "race/ethnicity": "group A",
         "reading score": 3.88,
         "test preparation course": "completed",
         "writing score": 3.46
        },
        {
         "GPA": 3.68,
         "_deepnote_index_column": 2,
         "gender": "male",
         "lunch": "free/reduced",
         "math score": 3.76,
         "names": "Samuel Dougal",
         "parental level of education": "master's degree",
         "race/ethnicity": "group C",
         "reading score": 3.52,
         "test preparation course": "completed",
         "writing score": 3.76
        },
        {
         "GPA": 2.84,
         "_deepnote_index_column": 3,
         "gender": "male",
         "lunch": "free/reduced",
         "math score": 3.16,
         "names": "Rodger Talavera",
         "parental level of education": "high school",
         "race/ethnicity": "group B",
         "reading score": 2.74,
         "test preparation course": "none",
         "writing score": 2.62
        },
        {
         "GPA": 3.96,
         "_deepnote_index_column": 4,
         "gender": "male",
         "lunch": "free/reduced",
         "math score": 3.4,
         "names": "Morris Johnson",
         "parental level of education": "associate's degree",
         "race/ethnicity": "group A",
         "reading score": 4.3,
         "test preparation course": "completed",
         "writing score": 4.18
        },
        {
         "GPA": 2.8,
         "_deepnote_index_column": 5,
         "gender": "male",
         "lunch": "free/reduced",
         "math score": 3.1,
         "names": "Anthony Malcomb",
         "parental level of education": "some college",
         "race/ethnicity": "group C",
         "reading score": 2.68,
         "test preparation course": "none",
         "writing score": 2.62
        },
        {
         "GPA": 3.76,
         "_deepnote_index_column": 6,
         "gender": "female",
         "lunch": "standard",
         "math score": 3.4,
         "names": "Ann Pence",
         "parental level of education": "associate's degree",
         "race/ethnicity": "group B",
         "reading score": 3.88,
         "test preparation course": "none",
         "writing score": 4
        },
        {
         "GPA": 3.84,
         "_deepnote_index_column": 7,
         "gender": "male",
         "lunch": "standard",
         "math score": 4.54,
         "names": "Brian Green",
         "parental level of education": "some college",
         "race/ethnicity": "group C",
         "reading score": 3.46,
         "test preparation course": "none",
         "writing score": 3.52
        },
        {
         "GPA": 3.78,
         "_deepnote_index_column": 8,
         "gender": "male",
         "lunch": "standard",
         "math score": 4.18,
         "names": "Carl Caruthers",
         "parental level of education": "some college",
         "race/ethnicity": "group A",
         "reading score": 3.58,
         "test preparation course": "none",
         "writing score": 3.58
        },
        {
         "GPA": 3.78,
         "_deepnote_index_column": 9,
         "gender": "male",
         "lunch": "free/reduced",
         "math score": 3.94,
         "names": "Paul Sherrill",
         "parental level of education": "high school",
         "race/ethnicity": "group B",
         "reading score": 3.7,
         "test preparation course": "none",
         "writing score": 3.7
        },
        {
         "GPA": 3.54,
         "_deepnote_index_column": 10,
         "gender": "female",
         "lunch": "standard",
         "math score": 2.92,
         "names": "Alicia Ratliff",
         "parental level of education": "some high school",
         "race/ethnicity": "group B",
         "reading score": 4.06,
         "test preparation course": "completed",
         "writing score": 3.64
        },
        {
         "GPA": 2.78,
         "_deepnote_index_column": 11,
         "gender": "female",
         "lunch": "standard",
         "math score": 2.14,
         "names": "Patricia Briney",
         "parental level of education": "some college",
         "race/ethnicity": "group B",
         "reading score": 3.28,
         "test preparation course": "none",
         "writing score": 2.92
        },
        {
         "GPA": 3.86,
         "_deepnote_index_column": 12,
         "gender": "male",
         "lunch": "free/reduced",
         "math score": 3.64,
         "names": "Chris Chauncey",
         "parental level of education": "high school",
         "race/ethnicity": "group D",
         "reading score": 4.06,
         "test preparation course": "none",
         "writing score": 3.88
        },
        {
         "GPA": 3.64,
         "_deepnote_index_column": 13,
         "gender": "female",
         "lunch": "free/reduced",
         "math score": 3.28,
         "names": "Julie Watkins",
         "parental level of education": "some high school",
         "race/ethnicity": "group E",
         "reading score": 3.94,
         "test preparation course": "none",
         "writing score": 3.7
        },
        {
         "GPA": 3.78,
         "_deepnote_index_column": 14,
         "gender": "male",
         "lunch": "standard",
         "math score": 3.7,
         "names": "Michael Reel",
         "parental level of education": "high school",
         "race/ethnicity": "group D",
         "reading score": 3.88,
         "test preparation course": "none",
         "writing score": 3.76
        },
        {
         "GPA": 3.92,
         "_deepnote_index_column": 15,
         "gender": "male",
         "lunch": "standard",
         "math score": 4.06,
         "names": "Gary Spencer",
         "parental level of education": "some high school",
         "race/ethnicity": "group B",
         "reading score": 4.24,
         "test preparation course": "completed",
         "writing score": 3.46
        },
        {
         "GPA": 3.8,
         "_deepnote_index_column": 16,
         "gender": "male",
         "lunch": "standard",
         "math score": 4,
         "names": "Michael Mederos",
         "parental level of education": "high school",
         "race/ethnicity": "group C",
         "reading score": 3.88,
         "test preparation course": "none",
         "writing score": 3.52
        },
        {
         "GPA": 3.96,
         "_deepnote_index_column": 17,
         "gender": "female",
         "lunch": "free/reduced",
         "math score": 3.58,
         "names": "Callie Mork",
         "parental level of education": "bachelor's degree",
         "race/ethnicity": "group C",
         "reading score": 4.06,
         "test preparation course": "completed",
         "writing score": 4.24
        },
        {
         "GPA": 3.88,
         "_deepnote_index_column": 18,
         "gender": "male",
         "lunch": "standard",
         "math score": 4.66,
         "names": "William Saska",
         "parental level of education": "associate's degree",
         "race/ethnicity": "group B",
         "reading score": 3.52,
         "test preparation course": "none",
         "writing score": 3.46
        },
        {
         "GPA": 3.32,
         "_deepnote_index_column": 19,
         "gender": "male",
         "lunch": "standard",
         "math score": 3.76,
         "names": "Gerald Brunner",
         "parental level of education": "high school",
         "race/ethnicity": "group D",
         "reading score": 3.04,
         "test preparation course": "none",
         "writing score": 3.16
        },
        {
         "GPA": 2.88,
         "_deepnote_index_column": 20,
         "gender": "female",
         "lunch": "free/reduced",
         "math score": 2.32,
         "names": "Barbara Henriques",
         "parental level of education": "some college",
         "race/ethnicity": "group C",
         "reading score": 3.34,
         "test preparation course": "none",
         "writing score": 2.98
        },
        {
         "GPA": 3.9,
         "_deepnote_index_column": 21,
         "gender": "male",
         "lunch": "free/reduced",
         "math score": 3.88,
         "names": "John Moreno",
         "parental level of education": "some high school",
         "race/ethnicity": "group B",
         "reading score": 4.12,
         "test preparation course": "none",
         "writing score": 3.7
        },
        {
         "GPA": 3.72,
         "_deepnote_index_column": 22,
         "gender": "male",
         "lunch": "standard",
         "math score": 3.88,
         "names": "Kermit Gates",
         "parental level of education": "associate's degree",
         "race/ethnicity": "group B",
         "reading score": 3.58,
         "test preparation course": "none",
         "writing score": 3.7
        },
        {
         "GPA": 3.34,
         "_deepnote_index_column": 23,
         "gender": "female",
         "lunch": "free/reduced",
         "math score": 2.74,
         "names": "Paula Barriere",
         "parental level of education": "bachelor's degree",
         "race/ethnicity": "group D",
         "reading score": 3.46,
         "test preparation course": "none",
         "writing score": 3.82
        },
        {
         "GPA": 2.9,
         "_deepnote_index_column": 24,
         "gender": "female",
         "lunch": "free/reduced",
         "math score": 2.56,
         "names": "Marina Smith",
         "parental level of education": "associate's degree",
         "race/ethnicity": "group D",
         "reading score": 2.86,
         "test preparation course": "none",
         "writing score": 3.28
        },
        {
         "GPA": 2.4,
         "_deepnote_index_column": 25,
         "gender": "male",
         "lunch": "free/reduced",
         "math score": 2.68,
         "names": "John Gunter",
         "parental level of education": "some college",
         "race/ethnicity": "group A",
         "reading score": 2.38,
         "test preparation course": "none",
         "writing score": 2.14
        },
        {
         "GPA": 3.68,
         "_deepnote_index_column": 26,
         "gender": "female",
         "lunch": "free/reduced",
         "math score": 3.1,
         "names": "Sara Ray",
         "parental level of education": "high school",
         "race/ethnicity": "group C",
         "reading score": 4.18,
         "test preparation course": "none",
         "writing score": 3.76
        },
        {
         "GPA": 3.26,
         "_deepnote_index_column": 27,
         "gender": "female",
         "lunch": "free/reduced",
         "math score": 2.74,
         "names": "Flossie Streeter",
         "parental level of education": "some high school",
         "race/ethnicity": "group C",
         "reading score": 3.4,
         "test preparation course": "completed",
         "writing score": 3.64
        },
        {
         "GPA": 3.78,
         "_deepnote_index_column": 28,
         "gender": "male",
         "lunch": "standard",
         "math score": 4.18,
         "names": "Charles Ayala",
         "parental level of education": "some college",
         "race/ethnicity": "group C",
         "reading score": 3.64,
         "test preparation course": "none",
         "writing score": 3.52
        },
        {
         "GPA": 3.78,
         "_deepnote_index_column": 29,
         "gender": "male",
         "lunch": "standard",
         "math score": 3.94,
         "names": "Anthony Hinerman",
         "parental level of education": "some high school",
         "race/ethnicity": "group C",
         "reading score": 3.94,
         "test preparation course": "none",
         "writing score": 3.46
        },
        {
         "GPA": 3.94,
         "_deepnote_index_column": 30,
         "gender": "male",
         "lunch": "standard",
         "math score": 4.42,
         "names": "Doyle Johnson",
         "parental level of education": "high school",
         "race/ethnicity": "group A",
         "reading score": 3.58,
         "test preparation course": "none",
         "writing score": 3.82
        },
        {
         "GPA": 3.6,
         "_deepnote_index_column": 31,
         "gender": "male",
         "lunch": "free/reduced",
         "math score": 3.76,
         "names": "Evan Smith",
         "parental level of education": "associate's degree",
         "race/ethnicity": "group E",
         "reading score": 3.58,
         "test preparation course": "none",
         "writing score": 3.46
        },
        {
         "GPA": 3.44,
         "_deepnote_index_column": 32,
         "gender": "male",
         "lunch": "free/reduced",
         "math score": 3.4,
         "names": "Joseph Jaco",
         "parental level of education": "some college",
         "race/ethnicity": "group B",
         "reading score": 3.58,
         "test preparation course": "none",
         "writing score": 3.34
        },
        {
         "GPA": 2.56,
         "_deepnote_index_column": 33,
         "gender": "male",
         "lunch": "standard",
         "math score": 2.8,
         "names": "Charles Jackson",
         "parental level of education": "some high school",
         "race/ethnicity": "group E",
         "reading score": 2.56,
         "test preparation course": "none",
         "writing score": 2.32
        },
        {
         "GPA": 3.94,
         "_deepnote_index_column": 34,
         "gender": "male",
         "lunch": "standard",
         "math score": 4.12,
         "names": "Matthew Freeman",
         "parental level of education": "high school",
         "race/ethnicity": "group B",
         "reading score": 3.94,
         "test preparation course": "completed",
         "writing score": 3.76
        },
        {
         "GPA": 3.74,
         "_deepnote_index_column": 35,
         "gender": "female",
         "lunch": "free/reduced",
         "math score": 3.34,
         "names": "Dana Mojica",
         "parental level of education": "high school",
         "race/ethnicity": "group D",
         "reading score": 4.12,
         "test preparation course": "none",
         "writing score": 3.76
        },
        {
         "GPA": 3.9,
         "_deepnote_index_column": 36,
         "gender": "female",
         "lunch": "free/reduced",
         "math score": 3.64,
         "names": "Lauren Warren",
         "parental level of education": "some high school",
         "race/ethnicity": "group C",
         "reading score": 4,
         "test preparation course": "none",
         "writing score": 4.06
        },
        {
         "GPA": 2.1,
         "_deepnote_index_column": 37,
         "gender": "female",
         "lunch": "free/reduced",
         "math score": 1.48,
         "names": "Luetta Caponigro",
         "parental level of education": "high school",
         "race/ethnicity": "group B",
         "reading score": 2.44,
         "test preparation course": "none",
         "writing score": 2.38
        },
        {
         "GPA": 3.86,
         "_deepnote_index_column": 38,
         "gender": "male",
         "lunch": "standard",
         "math score": 3.94,
         "names": "Antonio Pelaez",
         "parental level of education": "associate's degree",
         "race/ethnicity": "group C",
         "reading score": 4.06,
         "test preparation course": "none",
         "writing score": 3.58
        },
        {
         "GPA": 3.92,
         "_deepnote_index_column": 39,
         "gender": "female",
         "lunch": "standard",
         "math score": 3.82,
         "names": "Emily Devins",
         "parental level of education": "associate's degree",
         "race/ethnicity": "group B",
         "reading score": 3.94,
         "test preparation course": "none",
         "writing score": 4
        },
        {
         "GPA": 3.9,
         "_deepnote_index_column": 40,
         "gender": "male",
         "lunch": "free/reduced",
         "math score": 4.3,
         "names": "Harvey Pribbenow",
         "parental level of education": "bachelor's degree",
         "race/ethnicity": "group D",
         "reading score": 3.76,
         "test preparation course": "none",
         "writing score": 3.64
        },
        {
         "GPA": 3.68,
         "_deepnote_index_column": 41,
         "gender": "male",
         "lunch": "free/reduced",
         "math score": 3.88,
         "names": "Joseph Rains",
         "parental level of education": "high school",
         "race/ethnicity": "group A",
         "reading score": 3.7,
         "test preparation course": "none",
         "writing score": 3.46
        },
        {
         "GPA": 3.88,
         "_deepnote_index_column": 42,
         "gender": "male",
         "lunch": "free/reduced",
         "math score": 4.3,
         "names": "Charles Vaughan",
         "parental level of education": "some high school",
         "race/ethnicity": "group A",
         "reading score": 3.76,
         "test preparation course": "none",
         "writing score": 3.58
        },
        {
         "GPA": 3.8,
         "_deepnote_index_column": 43,
         "gender": "male",
         "lunch": "free/reduced",
         "math score": 3.22,
         "names": "Walter Simmons",
         "parental level of education": "bachelor's degree",
         "race/ethnicity": "group C",
         "reading score": 4.36,
         "test preparation course": "none",
         "writing score": 3.82
        },
        {
         "GPA": 3.46,
         "_deepnote_index_column": 44,
         "gender": "male",
         "lunch": "free/reduced",
         "math score": 3.64,
         "names": "Larry Matthews",
         "parental level of education": "associate's degree",
         "race/ethnicity": "group B",
         "reading score": 3.46,
         "test preparation course": "none",
         "writing score": 3.28
        },
        {
         "GPA": 3.8,
         "_deepnote_index_column": 45,
         "gender": "female",
         "lunch": "free/reduced",
         "math score": 3.46,
         "names": "Olga Hatcher",
         "parental level of education": "associate's degree",
         "race/ethnicity": "group A",
         "reading score": 4.06,
         "test preparation course": "none",
         "writing score": 3.88
        },
        {
         "GPA": 3.38,
         "_deepnote_index_column": 46,
         "gender": "male",
         "lunch": "free/reduced",
         "math score": 3.7,
         "names": "Jean Stamdifer",
         "parental level of education": "some high school",
         "race/ethnicity": "group D",
         "reading score": 3.22,
         "test preparation course": "none",
         "writing score": 3.22
        },
        {
         "GPA": 3.7,
         "_deepnote_index_column": 47,
         "gender": "male",
         "lunch": "standard",
         "math score": 3.4,
         "names": "Lamar Becker",
         "parental level of education": "associate's degree",
         "race/ethnicity": "group D",
         "reading score": 4.12,
         "test preparation course": "none",
         "writing score": 3.58
        },
        {
         "GPA": 3.36,
         "_deepnote_index_column": 48,
         "gender": "male",
         "lunch": "standard",
         "math score": 4.06,
         "names": "Gerald Gramham",
         "parental level of education": "some high school",
         "race/ethnicity": "group A",
         "reading score": 2.86,
         "test preparation course": "none",
         "writing score": 3.16
        },
        {
         "GPA": 3.94,
         "_deepnote_index_column": 49,
         "gender": "male",
         "lunch": "standard",
         "math score": 4.18,
         "names": "Mack Gilliland",
         "parental level of education": "high school",
         "race/ethnicity": "group D",
         "reading score": 4.12,
         "test preparation course": "none",
         "writing score": 3.52
        },
        {
         "GPA": 3.9,
         "_deepnote_index_column": 50,
         "gender": "female",
         "lunch": "standard",
         "math score": 3.52,
         "names": "Arlene Seymour",
         "parental level of education": "high school",
         "race/ethnicity": "group B",
         "reading score": 4.12,
         "test preparation course": "none",
         "writing score": 4.06
        },
        {
         "GPA": 3.24,
         "_deepnote_index_column": 51,
         "gender": "male",
         "lunch": "free/reduced",
         "math score": 3.34,
         "names": "Arthur Daschofsky",
         "parental level of education": "some high school",
         "race/ethnicity": "group A",
         "reading score": 3.34,
         "test preparation course": "none",
         "writing score": 3.04
        },
        {
         "GPA": 3.4,
         "_deepnote_index_column": 52,
         "gender": "male",
         "lunch": "standard",
         "math score": 3.4,
         "names": "Justin Harris",
         "parental level of education": "some college",
         "race/ethnicity": "group D",
         "reading score": 3.52,
         "test preparation course": "none",
         "writing score": 3.28
        },
        {
         "GPA": 3.76,
         "_deepnote_index_column": 53,
         "gender": "male",
         "lunch": "free/reduced",
         "math score": 3.58,
         "names": "Russel Broussard",
         "parental level of education": "associate's degree",
         "race/ethnicity": "group C",
         "reading score": 3.7,
         "test preparation course": "completed",
         "writing score": 4
        },
        {
         "GPA": 3.66,
         "_deepnote_index_column": 54,
         "gender": "male",
         "lunch": "free/reduced",
         "math score": 3.76,
         "names": "Jerome Lopze",
         "parental level of education": "associate's degree",
         "race/ethnicity": "group E",
         "reading score": 3.58,
         "test preparation course": "completed",
         "writing score": 3.64
        },
        {
         "GPA": 3.8,
         "_deepnote_index_column": 55,
         "gender": "male",
         "lunch": "free/reduced",
         "math score": 4,
         "names": "Shannon Weaver",
         "parental level of education": "bachelor's degree",
         "race/ethnicity": "group D",
         "reading score": 3.52,
         "test preparation course": "none",
         "writing score": 3.88
        },
        {
         "GPA": 3.76,
         "_deepnote_index_column": 56,
         "gender": "male",
         "lunch": "standard",
         "math score": 4.18,
         "names": "Mark Spicer",
         "parental level of education": "associate's degree",
         "race/ethnicity": "group E",
         "reading score": 3.7,
         "test preparation course": "none",
         "writing score": 3.4
        },
        {
         "GPA": 3.68,
         "_deepnote_index_column": 57,
         "gender": "female",
         "lunch": "free/reduced",
         "math score": 3.64,
         "names": "Rosa Clagon",
         "parental level of education": "some high school",
         "race/ethnicity": "group A",
         "reading score": 3.7,
         "test preparation course": "none",
         "writing score": 3.7
        },
        {
         "GPA": 2.94,
         "_deepnote_index_column": 58,
         "gender": "male",
         "lunch": "free/reduced",
         "math score": 2.62,
         "names": "Eugene Jewett",
         "parental level of education": "high school",
         "race/ethnicity": "group C",
         "reading score": 3.04,
         "test preparation course": "none",
         "writing score": 3.16
        },
        {
         "GPA": 3.48,
         "_deepnote_index_column": 59,
         "gender": "female",
         "lunch": "free/reduced",
         "math score": 3.28,
         "names": "Emma Fussell",
         "parental level of education": "some high school",
         "race/ethnicity": "group A",
         "reading score": 3.58,
         "test preparation course": "none",
         "writing score": 3.58
        },
        {
         "GPA": 3.44,
         "_deepnote_index_column": 60,
         "gender": "female",
         "lunch": "free/reduced",
         "math score": 3.1,
         "names": "Christina Cullins",
         "parental level of education": "some college",
         "race/ethnicity": "group C",
         "reading score": 3.64,
         "test preparation course": "none",
         "writing score": 3.58
        },
        {
         "GPA": 3.6,
         "_deepnote_index_column": 61,
         "gender": "male",
         "lunch": "standard",
         "math score": 3.76,
         "names": "Jorge Apana",
         "parental level of education": "some high school",
         "race/ethnicity": "group A",
         "reading score": 3.46,
         "test preparation course": "completed",
         "writing score": 3.58
        },
        {
         "GPA": 3.38,
         "_deepnote_index_column": 62,
         "gender": "male",
         "lunch": "standard",
         "math score": 3.82,
         "names": "Arthur Johnson",
         "parental level of education": "associate's degree",
         "race/ethnicity": "group C",
         "reading score": 3.22,
         "test preparation course": "none",
         "writing score": 3.1
        },
        {
         "GPA": 3.98,
         "_deepnote_index_column": 63,
         "gender": "male",
         "lunch": "standard",
         "math score": 4.12,
         "names": "Jonathan Moser",
         "parental level of education": "high school",
         "race/ethnicity": "group B",
         "reading score": 3.88,
         "test preparation course": "none",
         "writing score": 3.94
        },
        {
         "GPA": 3.28,
         "_deepnote_index_column": 64,
         "gender": "male",
         "lunch": "free/reduced",
         "math score": 3.46,
         "names": "Michael Gore",
         "parental level of education": "some college",
         "race/ethnicity": "group B",
         "reading score": 3.34,
         "test preparation course": "none",
         "writing score": 3.04
        },
        {
         "GPA": 3.84,
         "_deepnote_index_column": 65,
         "gender": "male",
         "lunch": "free/reduced",
         "math score": 4.54,
         "names": "Jonathan Calcote",
         "parental level of education": "some high school",
         "race/ethnicity": "group D",
         "reading score": 3.52,
         "test preparation course": "none",
         "writing score": 3.46
        },
        {
         "GPA": 3.92,
         "_deepnote_index_column": 66,
         "gender": "male",
         "lunch": "standard",
         "math score": 4.3,
         "names": "Michael Mcdonnell",
         "parental level of education": "some high school",
         "race/ethnicity": "group D",
         "reading score": 3.82,
         "test preparation course": "none",
         "writing score": 3.64
        },
        {
         "GPA": 3.3,
         "_deepnote_index_column": 67,
         "gender": "male",
         "lunch": "free/reduced",
         "math score": 3.52,
         "names": "Ronald Jett",
         "parental level of education": "high school",
         "race/ethnicity": "group D",
         "reading score": 3.34,
         "test preparation course": "none",
         "writing score": 3.04
        },
        {
         "GPA": 2.78,
         "_deepnote_index_column": 68,
         "gender": "female",
         "lunch": "free/reduced",
         "math score": 2.44,
         "names": "Hazel Posey",
         "parental level of education": "some high school",
         "race/ethnicity": "group B",
         "reading score": 3.28,
         "test preparation course": "none",
         "writing score": 2.62
        },
        {
         "GPA": 3.82,
         "_deepnote_index_column": 69,
         "gender": "male",
         "lunch": "free/reduced",
         "math score": 3.7,
         "names": "Eric Baldwin",
         "parental level of education": "high school",
         "race/ethnicity": "group A",
         "reading score": 3.82,
         "test preparation course": "none",
         "writing score": 3.94
        },
        {
         "GPA": 3.08,
         "_deepnote_index_column": 70,
         "gender": "female",
         "lunch": "free/reduced",
         "math score": 2.92,
         "names": "Rosalia Arrants",
         "parental level of education": "some high school",
         "race/ethnicity": "group E",
         "reading score": 3.04,
         "test preparation course": "none",
         "writing score": 3.28
        },
        {
         "GPA": 2.38,
         "_deepnote_index_column": 71,
         "gender": "male",
         "lunch": "free/reduced",
         "math score": 2.8,
         "names": "Richard Guercio",
         "parental level of education": "high school",
         "race/ethnicity": "group B",
         "reading score": 2.44,
         "test preparation course": "none",
         "writing score": 1.9
        },
        {
         "GPA": 3.64,
         "_deepnote_index_column": 72,
         "gender": "female",
         "lunch": "free/reduced",
         "math score": 3.16,
         "names": "Lorena Reed",
         "parental level of education": "high school",
         "race/ethnicity": "group C",
         "reading score": 4.18,
         "test preparation course": "none",
         "writing score": 3.58
        },
        {
         "GPA": 3.88,
         "_deepnote_index_column": 73,
         "gender": "male",
         "lunch": "standard",
         "math score": 3.46,
         "names": "Christopher Kilkenny",
         "parental level of education": "high school",
         "race/ethnicity": "group D",
         "reading score": 4.12,
         "test preparation course": "none",
         "writing score": 4.06
        },
        {
         "GPA": 3.6,
         "_deepnote_index_column": 74,
         "gender": "male",
         "lunch": "free/reduced",
         "math score": 4.18,
         "names": "Larry Braun",
         "parental level of education": "some high school",
         "race/ethnicity": "group C",
         "reading score": 3.22,
         "test preparation course": "completed",
         "writing score": 3.4
        },
        {
         "GPA": 3.94,
         "_deepnote_index_column": 75,
         "gender": "female",
         "lunch": "standard",
         "math score": 3.46,
         "names": "Bertha Nelson",
         "parental level of education": "some high school",
         "race/ethnicity": "group B",
         "reading score": 4.3,
         "test preparation course": "none",
         "writing score": 4.06
        },
        {
         "GPA": 2.56,
         "_deepnote_index_column": 76,
         "gender": "female",
         "lunch": "free/reduced",
         "math score": 2.08,
         "names": "Sonia Brent",
         "parental level of education": "some high school",
         "race/ethnicity": "group B",
         "reading score": 2.92,
         "test preparation course": "none",
         "writing score": 2.68
        },
        {
         "GPA": 3.72,
         "_deepnote_index_column": 77,
         "gender": "male",
         "lunch": "free/reduced",
         "math score": 3.4,
         "names": "Dustin Henry",
         "parental level of education": "high school",
         "race/ethnicity": "group C",
         "reading score": 3.76,
         "test preparation course": "completed",
         "writing score": 4
        },
        {
         "GPA": 3.88,
         "_deepnote_index_column": 78,
         "gender": "male",
         "lunch": "standard",
         "math score": 4.3,
         "names": "Martin Wilson",
         "parental level of education": "high school",
         "race/ethnicity": "group D",
         "reading score": 3.46,
         "test preparation course": "completed",
         "writing score": 3.88
        },
        {
         "GPA": 1.54,
         "_deepnote_index_column": 79,
         "gender": "female",
         "lunch": "free/reduced",
         "math score": 1,
         "names": "Melissa Johnston",
         "parental level of education": "some high school",
         "race/ethnicity": "group C",
         "reading score": 2.02,
         "test preparation course": "none",
         "writing score": 1.6
        },
        {
         "GPA": 3.96,
         "_deepnote_index_column": 80,
         "gender": "male",
         "lunch": "free/reduced",
         "math score": 3.82,
         "names": "Stanley Chappell",
         "parental level of education": "associate's degree",
         "race/ethnicity": "group A",
         "reading score": 4.42,
         "test preparation course": "none",
         "writing score": 3.64
        },
        {
         "GPA": 3.92,
         "_deepnote_index_column": 81,
         "gender": "male",
         "lunch": "free/reduced",
         "math score": 3.7,
         "names": "Charles Harian",
         "parental level of education": "some high school",
         "race/ethnicity": "group C",
         "reading score": 4.12,
         "test preparation course": "completed",
         "writing score": 3.94
        },
        {
         "GPA": 2.86,
         "_deepnote_index_column": 82,
         "gender": "female",
         "lunch": "free/reduced",
         "math score": 2.62,
         "names": "Wendy Gunnell",
         "parental level of education": "some high school",
         "race/ethnicity": "group D",
         "reading score": 3.04,
         "test preparation course": "none",
         "writing score": 2.92
        },
        {
         "GPA": 3.6,
         "_deepnote_index_column": 83,
         "gender": "female",
         "lunch": "free/reduced",
         "math score": 3.46,
         "names": "Diana Costa",
         "parental level of education": "high school",
         "race/ethnicity": "group C",
         "reading score": 3.76,
         "test preparation course": "none",
         "writing score": 3.58
        },
        {
         "GPA": 2.76,
         "_deepnote_index_column": 84,
         "gender": "female",
         "lunch": "standard",
         "math score": 2.74,
         "names": "Amy Sieving",
         "parental level of education": "high school",
         "race/ethnicity": "group C",
         "reading score": 2.74,
         "test preparation course": "none",
         "writing score": 2.8
        },
        {
         "GPA": 3.06,
         "_deepnote_index_column": 85,
         "gender": "female",
         "lunch": "free/reduced",
         "math score": 2.38,
         "names": "Wanda Russell",
         "parental level of education": "high school",
         "race/ethnicity": "group B",
         "reading score": 3.64,
         "test preparation course": "completed",
         "writing score": 3.16
        }
       ]
      },
      "text/html": [
       "<div>\n",
       "<style scoped>\n",
       "    .dataframe tbody tr th:only-of-type {\n",
       "        vertical-align: middle;\n",
       "    }\n",
       "\n",
       "    .dataframe tbody tr th {\n",
       "        vertical-align: top;\n",
       "    }\n",
       "\n",
       "    .dataframe thead th {\n",
       "        text-align: right;\n",
       "    }\n",
       "</style>\n",
       "<table border=\"1\" class=\"dataframe\">\n",
       "  <thead>\n",
       "    <tr style=\"text-align: right;\">\n",
       "      <th></th>\n",
       "      <th>names</th>\n",
       "      <th>gender</th>\n",
       "      <th>race/ethnicity</th>\n",
       "      <th>parental level of education</th>\n",
       "      <th>lunch</th>\n",
       "      <th>test preparation course</th>\n",
       "      <th>math score</th>\n",
       "      <th>reading score</th>\n",
       "      <th>writing score</th>\n",
       "      <th>GPA</th>\n",
       "    </tr>\n",
       "  </thead>\n",
       "  <tbody>\n",
       "    <tr>\n",
       "      <th>0</th>\n",
       "      <td>Rita Courtney</td>\n",
       "      <td>female</td>\n",
       "      <td>group B</td>\n",
       "      <td>some high school</td>\n",
       "      <td>standard</td>\n",
       "      <td>none</td>\n",
       "      <td>3.22</td>\n",
       "      <td>3.76</td>\n",
       "      <td>3.76</td>\n",
       "      <td>3.58</td>\n",
       "    </tr>\n",
       "    <tr>\n",
       "      <th>1</th>\n",
       "      <td>Mikki Amaya</td>\n",
       "      <td>female</td>\n",
       "      <td>group A</td>\n",
       "      <td>high school</td>\n",
       "      <td>free/reduced</td>\n",
       "      <td>completed</td>\n",
       "      <td>3.04</td>\n",
       "      <td>3.88</td>\n",
       "      <td>3.46</td>\n",
       "      <td>3.46</td>\n",
       "    </tr>\n",
       "    <tr>\n",
       "      <th>2</th>\n",
       "      <td>Samuel Dougal</td>\n",
       "      <td>male</td>\n",
       "      <td>group C</td>\n",
       "      <td>master's degree</td>\n",
       "      <td>free/reduced</td>\n",
       "      <td>completed</td>\n",
       "      <td>3.76</td>\n",
       "      <td>3.52</td>\n",
       "      <td>3.76</td>\n",
       "      <td>3.68</td>\n",
       "    </tr>\n",
       "    <tr>\n",
       "      <th>3</th>\n",
       "      <td>Rodger Talavera</td>\n",
       "      <td>male</td>\n",
       "      <td>group B</td>\n",
       "      <td>high school</td>\n",
       "      <td>free/reduced</td>\n",
       "      <td>none</td>\n",
       "      <td>3.16</td>\n",
       "      <td>2.74</td>\n",
       "      <td>2.62</td>\n",
       "      <td>2.84</td>\n",
       "    </tr>\n",
       "    <tr>\n",
       "      <th>4</th>\n",
       "      <td>Morris Johnson</td>\n",
       "      <td>male</td>\n",
       "      <td>group A</td>\n",
       "      <td>associate's degree</td>\n",
       "      <td>free/reduced</td>\n",
       "      <td>completed</td>\n",
       "      <td>3.40</td>\n",
       "      <td>4.30</td>\n",
       "      <td>4.18</td>\n",
       "      <td>3.96</td>\n",
       "    </tr>\n",
       "    <tr>\n",
       "      <th>...</th>\n",
       "      <td>...</td>\n",
       "      <td>...</td>\n",
       "      <td>...</td>\n",
       "      <td>...</td>\n",
       "      <td>...</td>\n",
       "      <td>...</td>\n",
       "      <td>...</td>\n",
       "      <td>...</td>\n",
       "      <td>...</td>\n",
       "      <td>...</td>\n",
       "    </tr>\n",
       "    <tr>\n",
       "      <th>81</th>\n",
       "      <td>Charles Harian</td>\n",
       "      <td>male</td>\n",
       "      <td>group C</td>\n",
       "      <td>some high school</td>\n",
       "      <td>free/reduced</td>\n",
       "      <td>completed</td>\n",
       "      <td>3.70</td>\n",
       "      <td>4.12</td>\n",
       "      <td>3.94</td>\n",
       "      <td>3.92</td>\n",
       "    </tr>\n",
       "    <tr>\n",
       "      <th>82</th>\n",
       "      <td>Wendy Gunnell</td>\n",
       "      <td>female</td>\n",
       "      <td>group D</td>\n",
       "      <td>some high school</td>\n",
       "      <td>free/reduced</td>\n",
       "      <td>none</td>\n",
       "      <td>2.62</td>\n",
       "      <td>3.04</td>\n",
       "      <td>2.92</td>\n",
       "      <td>2.86</td>\n",
       "    </tr>\n",
       "    <tr>\n",
       "      <th>83</th>\n",
       "      <td>Diana Costa</td>\n",
       "      <td>female</td>\n",
       "      <td>group C</td>\n",
       "      <td>high school</td>\n",
       "      <td>free/reduced</td>\n",
       "      <td>none</td>\n",
       "      <td>3.46</td>\n",
       "      <td>3.76</td>\n",
       "      <td>3.58</td>\n",
       "      <td>3.60</td>\n",
       "    </tr>\n",
       "    <tr>\n",
       "      <th>84</th>\n",
       "      <td>Amy Sieving</td>\n",
       "      <td>female</td>\n",
       "      <td>group C</td>\n",
       "      <td>high school</td>\n",
       "      <td>standard</td>\n",
       "      <td>none</td>\n",
       "      <td>2.74</td>\n",
       "      <td>2.74</td>\n",
       "      <td>2.80</td>\n",
       "      <td>2.76</td>\n",
       "    </tr>\n",
       "    <tr>\n",
       "      <th>85</th>\n",
       "      <td>Wanda Russell</td>\n",
       "      <td>female</td>\n",
       "      <td>group B</td>\n",
       "      <td>high school</td>\n",
       "      <td>free/reduced</td>\n",
       "      <td>completed</td>\n",
       "      <td>2.38</td>\n",
       "      <td>3.64</td>\n",
       "      <td>3.16</td>\n",
       "      <td>3.06</td>\n",
       "    </tr>\n",
       "  </tbody>\n",
       "</table>\n",
       "<p>86 rows × 10 columns</p>\n",
       "</div>"
      ],
      "text/plain": [
       "              names  gender race/ethnicity parental level of education  \\\n",
       "0     Rita Courtney  female        group B            some high school   \n",
       "1       Mikki Amaya  female        group A                 high school   \n",
       "2     Samuel Dougal    male        group C             master's degree   \n",
       "3   Rodger Talavera    male        group B                 high school   \n",
       "4    Morris Johnson    male        group A          associate's degree   \n",
       "..              ...     ...            ...                         ...   \n",
       "81   Charles Harian    male        group C            some high school   \n",
       "82    Wendy Gunnell  female        group D            some high school   \n",
       "83      Diana Costa  female        group C                 high school   \n",
       "84      Amy Sieving  female        group C                 high school   \n",
       "85    Wanda Russell  female        group B                 high school   \n",
       "\n",
       "           lunch test preparation course  math score  reading score  \\\n",
       "0       standard                    none        3.22           3.76   \n",
       "1   free/reduced               completed        3.04           3.88   \n",
       "2   free/reduced               completed        3.76           3.52   \n",
       "3   free/reduced                    none        3.16           2.74   \n",
       "4   free/reduced               completed        3.40           4.30   \n",
       "..           ...                     ...         ...            ...   \n",
       "81  free/reduced               completed        3.70           4.12   \n",
       "82  free/reduced                    none        2.62           3.04   \n",
       "83  free/reduced                    none        3.46           3.76   \n",
       "84      standard                    none        2.74           2.74   \n",
       "85  free/reduced               completed        2.38           3.64   \n",
       "\n",
       "    writing score   GPA  \n",
       "0            3.76  3.58  \n",
       "1            3.46  3.46  \n",
       "2            3.76  3.68  \n",
       "3            2.62  2.84  \n",
       "4            4.18  3.96  \n",
       "..            ...   ...  \n",
       "81           3.94  3.92  \n",
       "82           2.92  2.86  \n",
       "83           3.58  3.60  \n",
       "84           2.80  2.76  \n",
       "85           3.16  3.06  \n",
       "\n",
       "[86 rows x 10 columns]"
      ]
     },
     "execution_count": 14,
     "metadata": {},
     "output_type": "execute_result"
    }
   ],
   "source": [
    "dataframe1, dataframe2, dataframe3 = reprobados_destacados(df_grades)\n",
    "dataframe1"
   ]
  },
  {
   "cell_type": "code",
   "execution_count": null,
   "metadata": {
    "cell_id": "00049-8240c0ec-b1ea-41d3-8b5e-4970d3ef59dc",
    "colab": {
     "base_uri": "https://localhost:8080/",
     "height": 419
    },
    "deepnote_cell_type": "code",
    "deepnote_to_be_reexecuted": false,
    "executionInfo": {
     "elapsed": 492,
     "status": "ok",
     "timestamp": 1619192503533,
     "user": {
      "displayName": "IGNACIO ALEJANDRO MEZA",
      "photoUrl": "",
      "userId": "17011121633069169364"
     },
     "user_tz": 240
    },
    "execution_millis": 67,
    "execution_start": 1632493424700,
    "id": "tpG_2VzNEpf7",
    "outputId": "08aaa113-1055-4075-a0f5-5b8f1a1b9b1f",
    "source_hash": "6205a86b"
   },
   "outputs": [
    {
     "data": {
      "application/vnd.deepnote.dataframe.v2+json": {
       "column_count": 10,
       "columns": [
        {
         "dtype": "object",
         "name": "names",
         "stats": {
          "categories": [
           {
            "count": 1,
            "name": "Rita Courtney"
           },
           {
            "count": 1,
            "name": "Charles Linstrom"
           },
           {
            "count": 873,
            "name": "873 others"
           }
          ],
          "nan_count": 0,
          "unique_count": 875
         }
        },
        {
         "dtype": "object",
         "name": "gender",
         "stats": {
          "categories": [
           {
            "count": 448,
            "name": "female"
           },
           {
            "count": 427,
            "name": "male"
           }
          ],
          "nan_count": 0,
          "unique_count": 2
         }
        },
        {
         "dtype": "object",
         "name": "race/ethnicity",
         "stats": {
          "categories": [
           {
            "count": 272,
            "name": "group C"
           },
           {
            "count": 239,
            "name": "group D"
           },
           {
            "count": 364,
            "name": "3 others"
           }
          ],
          "nan_count": 0,
          "unique_count": 5
         }
        },
        {
         "dtype": "object",
         "name": "parental level of education",
         "stats": {
          "categories": [
           {
            "count": 196,
            "name": "associate's degree"
           },
           {
            "count": 191,
            "name": "some college"
           },
           {
            "count": 488,
            "name": "4 others"
           }
          ],
          "nan_count": 0,
          "unique_count": 6
         }
        },
        {
         "dtype": "object",
         "name": "lunch",
         "stats": {
          "categories": [
           {
            "count": 562,
            "name": "standard"
           },
           {
            "count": 313,
            "name": "free/reduced"
           }
          ],
          "nan_count": 0,
          "unique_count": 2
         }
        },
        {
         "dtype": "object",
         "name": "test preparation course",
         "stats": {
          "categories": [
           {
            "count": 563,
            "name": "none"
           },
           {
            "count": 312,
            "name": "completed"
           }
          ],
          "nan_count": 0,
          "unique_count": 2
         }
        },
        {
         "dtype": "float64",
         "name": "math score",
         "stats": {
          "histogram": [
           {
            "bin_end": 1.6,
            "bin_start": 1,
            "count": 2
           },
           {
            "bin_end": 2.2,
            "bin_start": 1.6,
            "count": 2
           },
           {
            "bin_end": 2.8,
            "bin_start": 2.2,
            "count": 10
           },
           {
            "bin_end": 3.4,
            "bin_start": 2.8,
            "count": 19
           },
           {
            "bin_end": 4,
            "bin_start": 3.4,
            "count": 81
           },
           {
            "bin_end": 4.6,
            "bin_start": 4,
            "count": 158
           },
           {
            "bin_end": 5.2,
            "bin_start": 4.6,
            "count": 245
           },
           {
            "bin_end": 5.8,
            "bin_start": 5.2,
            "count": 191
           },
           {
            "bin_end": 6.3999999999999995,
            "bin_start": 5.8,
            "count": 116
           },
           {
            "bin_end": 7,
            "bin_start": 6.3999999999999995,
            "count": 51
           }
          ],
          "max": "7.0",
          "min": "1.0",
          "nan_count": 0,
          "unique_count": 79
         }
        },
        {
         "dtype": "float64",
         "name": "reading score",
         "stats": {
          "histogram": [
           {
            "bin_end": 2.5180000000000002,
            "bin_start": 2.02,
            "count": 4
           },
           {
            "bin_end": 3.016,
            "bin_start": 2.5180000000000002,
            "count": 7
           },
           {
            "bin_end": 3.5140000000000002,
            "bin_start": 3.016,
            "count": 19
           },
           {
            "bin_end": 4.0120000000000005,
            "bin_start": 3.5140000000000002,
            "count": 53
           },
           {
            "bin_end": 4.51,
            "bin_start": 4.0120000000000005,
            "count": 124
           },
           {
            "bin_end": 5.008000000000001,
            "bin_start": 4.51,
            "count": 157
           },
           {
            "bin_end": 5.506,
            "bin_start": 5.008000000000001,
            "count": 212
           },
           {
            "bin_end": 6.0040000000000004,
            "bin_start": 5.506,
            "count": 147
           },
           {
            "bin_end": 6.502000000000001,
            "bin_start": 6.0040000000000004,
            "count": 101
           },
           {
            "bin_end": 7,
            "bin_start": 6.502000000000001,
            "count": 51
           }
          ],
          "max": "7.0",
          "min": "2.02",
          "nan_count": 0,
          "unique_count": 72
         }
        },
        {
         "dtype": "float64",
         "name": "writing score",
         "stats": {
          "histogram": [
           {
            "bin_end": 2.14,
            "bin_start": 1.6,
            "count": 2
           },
           {
            "bin_end": 2.68,
            "bin_start": 2.14,
            "count": 6
           },
           {
            "bin_end": 3.22,
            "bin_start": 2.68,
            "count": 13
           },
           {
            "bin_end": 3.7600000000000002,
            "bin_start": 3.22,
            "count": 52
           },
           {
            "bin_end": 4.300000000000001,
            "bin_start": 3.7600000000000002,
            "count": 115
           },
           {
            "bin_end": 4.84,
            "bin_start": 4.300000000000001,
            "count": 129
           },
           {
            "bin_end": 5.380000000000001,
            "bin_start": 4.84,
            "count": 218
           },
           {
            "bin_end": 5.92,
            "bin_start": 5.380000000000001,
            "count": 174
           },
           {
            "bin_end": 6.460000000000001,
            "bin_start": 5.92,
            "count": 116
           },
           {
            "bin_end": 7,
            "bin_start": 6.460000000000001,
            "count": 50
           }
          ],
          "max": "7.0",
          "min": "1.6",
          "nan_count": 0,
          "unique_count": 77
         }
        },
        {
         "dtype": "object",
         "name": "GPA",
         "stats": {
          "categories": [
           {
            "count": 86,
            "name": "R"
           },
           {
            "count": 12,
            "name": "5.2"
           },
           {
            "count": 777,
            "name": "142 others"
           }
          ],
          "nan_count": 0,
          "unique_count": 144
         }
        },
        {
         "dtype": "int64",
         "name": "_deepnote_index_column"
        }
       ],
       "row_count": 875,
       "rows_bottom": [
        {
         "GPA": "4.2",
         "_deepnote_index_column": 825,
         "gender": "female",
         "lunch": "standard",
         "math score": 3.88,
         "names": "Kelly Bowar",
         "parental level of education": "some high school",
         "race/ethnicity": "group D",
         "reading score": 4.48,
         "test preparation course": "none",
         "writing score": 4.24
        },
        {
         "GPA": "4.52",
         "_deepnote_index_column": 826,
         "gender": "female",
         "lunch": "free/reduced",
         "math score": 4.18,
         "names": "Kelly Greer",
         "parental level of education": "associate's degree",
         "race/ethnicity": "group C",
         "reading score": 4.66,
         "test preparation course": "none",
         "writing score": 4.72
        },
        {
         "GPA": "5.44",
         "_deepnote_index_column": 827,
         "gender": "male",
         "lunch": "standard",
         "math score": 6.1,
         "names": "Fred Jaeger",
         "parental level of education": "bachelor's degree",
         "race/ethnicity": "group E",
         "reading score": 4.96,
         "test preparation course": "completed",
         "writing score": 5.26
        },
        {
         "GPA": "4.86",
         "_deepnote_index_column": 828,
         "gender": "female",
         "lunch": "free/reduced",
         "math score": 4.72,
         "names": "Haydee Kunkel",
         "parental level of education": "high school",
         "race/ethnicity": "group C",
         "reading score": 5.02,
         "test preparation course": "none",
         "writing score": 4.84
        },
        {
         "GPA": "5.66",
         "_deepnote_index_column": 829,
         "gender": "female",
         "lunch": "standard",
         "math score": 4.9,
         "names": "Kayla Lopez",
         "parental level of education": "associate's degree",
         "race/ethnicity": "group C",
         "reading score": 6.04,
         "test preparation course": "completed",
         "writing score": 6.04
        },
        {
         "GPA": "5.88",
         "_deepnote_index_column": 830,
         "gender": "male",
         "lunch": "standard",
         "math score": 5.92,
         "names": "Paul Brownell",
         "parental level of education": "high school",
         "race/ethnicity": "group B",
         "reading score": 5.92,
         "test preparation course": "none",
         "writing score": 5.8
        },
        {
         "GPA": "5.06",
         "_deepnote_index_column": 831,
         "gender": "male",
         "lunch": "free/reduced",
         "math score": 5.62,
         "names": "Jose Rogers",
         "parental level of education": "some college",
         "race/ethnicity": "group D",
         "reading score": 4.72,
         "test preparation course": "none",
         "writing score": 4.84
        },
        {
         "GPA": "4.46",
         "_deepnote_index_column": 832,
         "gender": "female",
         "lunch": "free/reduced",
         "math score": 4,
         "names": "Joyce Bland",
         "parental level of education": "some high school",
         "race/ethnicity": "group D",
         "reading score": 4.84,
         "test preparation course": "none",
         "writing score": 4.54
        },
        {
         "GPA": "5.16",
         "_deepnote_index_column": 833,
         "gender": "female",
         "lunch": "free/reduced",
         "math score": 5.14,
         "names": "Fannie Alvarez",
         "parental level of education": "some college",
         "race/ethnicity": "group D",
         "reading score": 4.9,
         "test preparation course": "none",
         "writing score": 5.44
        },
        {
         "GPA": "R",
         "_deepnote_index_column": 834,
         "gender": "female",
         "lunch": "free/reduced",
         "math score": 1,
         "names": "Melissa Johnston",
         "parental level of education": "some high school",
         "race/ethnicity": "group C",
         "reading score": 2.02,
         "test preparation course": "none",
         "writing score": 1.6
        },
        {
         "GPA": "4.88",
         "_deepnote_index_column": 835,
         "gender": "female",
         "lunch": "standard",
         "math score": 4.9,
         "names": "Judith Mcenany",
         "parental level of education": "bachelor's degree",
         "race/ethnicity": "group D",
         "reading score": 5.02,
         "test preparation course": "none",
         "writing score": 4.72
        },
        {
         "GPA": "5.72",
         "_deepnote_index_column": 836,
         "gender": "female",
         "lunch": "free/reduced",
         "math score": 5.14,
         "names": "Nancy Mccormick",
         "parental level of education": "some high school",
         "race/ethnicity": "group D",
         "reading score": 6.16,
         "test preparation course": "completed",
         "writing score": 5.86
        },
        {
         "GPA": "5.06",
         "_deepnote_index_column": 837,
         "gender": "male",
         "lunch": "standard",
         "math score": 5.32,
         "names": "Timothy Long",
         "parental level of education": "high school",
         "race/ethnicity": "group C",
         "reading score": 5.02,
         "test preparation course": "completed",
         "writing score": 4.84
        },
        {
         "GPA": "7.0",
         "_deepnote_index_column": 838,
         "gender": "female",
         "lunch": "standard",
         "math score": 7,
         "names": "Sandra Pompey",
         "parental level of education": "associate's degree",
         "race/ethnicity": "group E",
         "reading score": 7,
         "test preparation course": "none",
         "writing score": 7
        },
        {
         "GPA": "4.44",
         "_deepnote_index_column": 839,
         "gender": "male",
         "lunch": "free/reduced",
         "math score": 4.9,
         "names": "Steven Marriot",
         "parental level of education": "some college",
         "race/ethnicity": "group C",
         "reading score": 4.48,
         "test preparation course": "none",
         "writing score": 3.94
        },
        {
         "GPA": "R",
         "_deepnote_index_column": 840,
         "gender": "male",
         "lunch": "free/reduced",
         "math score": 3.82,
         "names": "Stanley Chappell",
         "parental level of education": "associate's degree",
         "race/ethnicity": "group A",
         "reading score": 4.42,
         "test preparation course": "none",
         "writing score": 3.64
        },
        {
         "GPA": "4.12",
         "_deepnote_index_column": 841,
         "gender": "female",
         "lunch": "standard",
         "math score": 4.06,
         "names": "Michelle Smithson",
         "parental level of education": "associate's degree",
         "race/ethnicity": "group E",
         "reading score": 4.06,
         "test preparation course": "none",
         "writing score": 4.24
        },
        {
         "GPA": "5.26",
         "_deepnote_index_column": 842,
         "gender": "male",
         "lunch": "standard",
         "math score": 5.26,
         "names": "Jeffrey Bostrom",
         "parental level of education": "associate's degree",
         "race/ethnicity": "group E",
         "reading score": 5.44,
         "test preparation course": "completed",
         "writing score": 5.08
        },
        {
         "GPA": "6.04",
         "_deepnote_index_column": 843,
         "gender": "male",
         "lunch": "standard",
         "math score": 5.92,
         "names": "Earnest Cole",
         "parental level of education": "some college",
         "race/ethnicity": "group D",
         "reading score": 5.92,
         "test preparation course": "completed",
         "writing score": 6.28
        },
        {
         "GPA": "4.64",
         "_deepnote_index_column": 844,
         "gender": "female",
         "lunch": "free/reduced",
         "math score": 4.3,
         "names": "Sharon Garcia",
         "parental level of education": "some high school",
         "race/ethnicity": "group C",
         "reading score": 4.9,
         "test preparation course": "none",
         "writing score": 4.72
        },
        {
         "GPA": "5.94",
         "_deepnote_index_column": 845,
         "gender": "female",
         "lunch": "standard",
         "math score": 5.5,
         "names": "Carol Miller",
         "parental level of education": "associate's degree",
         "race/ethnicity": "group C",
         "reading score": 5.92,
         "test preparation course": "completed",
         "writing score": 6.4
        },
        {
         "GPA": "4.82",
         "_deepnote_index_column": 846,
         "gender": "male",
         "lunch": "free/reduced",
         "math score": 4.96,
         "names": "Antonio Evans",
         "parental level of education": "high school",
         "race/ethnicity": "group C",
         "reading score": 4.96,
         "test preparation course": "none",
         "writing score": 4.54
        },
        {
         "GPA": "5.36",
         "_deepnote_index_column": 847,
         "gender": "female",
         "lunch": "standard",
         "math score": 5.32,
         "names": "Pam Otoole",
         "parental level of education": "bachelor's degree",
         "race/ethnicity": "group B",
         "reading score": 5.32,
         "test preparation course": "none",
         "writing score": 5.44
        },
        {
         "GPA": "4.62",
         "_deepnote_index_column": 848,
         "gender": "male",
         "lunch": "standard",
         "math score": 5.2,
         "names": "Matthew Burns",
         "parental level of education": "high school",
         "race/ethnicity": "group E",
         "reading score": 4.3,
         "test preparation course": "none",
         "writing score": 4.36
        },
        {
         "GPA": "4.34",
         "_deepnote_index_column": 849,
         "gender": "male",
         "lunch": "free/reduced",
         "math score": 4.42,
         "names": "Gregory Fernandez",
         "parental level of education": "high school",
         "race/ethnicity": "group E",
         "reading score": 4.36,
         "test preparation course": "completed",
         "writing score": 4.24
        },
        {
         "GPA": "6.26",
         "_deepnote_index_column": 850,
         "gender": "male",
         "lunch": "free/reduced",
         "math score": 6.04,
         "names": "Charles Herandez",
         "parental level of education": "master's degree",
         "race/ethnicity": "group D",
         "reading score": 6.34,
         "test preparation course": "completed",
         "writing score": 6.4
        },
        {
         "GPA": "4.1",
         "_deepnote_index_column": 851,
         "gender": "male",
         "lunch": "standard",
         "math score": 4.66,
         "names": "Aaron Shelly",
         "parental level of education": "associate's degree",
         "race/ethnicity": "group D",
         "reading score": 3.88,
         "test preparation course": "none",
         "writing score": 3.76
        },
        {
         "GPA": "R",
         "_deepnote_index_column": 852,
         "gender": "male",
         "lunch": "free/reduced",
         "math score": 3.7,
         "names": "Charles Harian",
         "parental level of education": "some high school",
         "race/ethnicity": "group C",
         "reading score": 4.12,
         "test preparation course": "completed",
         "writing score": 3.94
        },
        {
         "GPA": "4.54",
         "_deepnote_index_column": 853,
         "gender": "male",
         "lunch": "free/reduced",
         "math score": 4.9,
         "names": "Steven Hacker",
         "parental level of education": "some high school",
         "race/ethnicity": "group A",
         "reading score": 4.54,
         "test preparation course": "none",
         "writing score": 4.18
        },
        {
         "GPA": "R",
         "_deepnote_index_column": 854,
         "gender": "female",
         "lunch": "free/reduced",
         "math score": 2.62,
         "names": "Wendy Gunnell",
         "parental level of education": "some high school",
         "race/ethnicity": "group D",
         "reading score": 3.04,
         "test preparation course": "none",
         "writing score": 2.92
        },
        {
         "GPA": "5.78",
         "_deepnote_index_column": 855,
         "gender": "male",
         "lunch": "standard",
         "math score": 6.28,
         "names": "Manuel Glover",
         "parental level of education": "some college",
         "race/ethnicity": "group D",
         "reading score": 5.38,
         "test preparation course": "none",
         "writing score": 5.68
        },
        {
         "GPA": "5.5",
         "_deepnote_index_column": 856,
         "gender": "female",
         "lunch": "standard",
         "math score": 4.9,
         "names": "Linda Nevin",
         "parental level of education": "some high school",
         "race/ethnicity": "group B",
         "reading score": 5.92,
         "test preparation course": "completed",
         "writing score": 5.68
        },
        {
         "GPA": "4.92",
         "_deepnote_index_column": 857,
         "gender": "male",
         "lunch": "free/reduced",
         "math score": 4.78,
         "names": "James Piper",
         "parental level of education": "bachelor's degree",
         "race/ethnicity": "group D",
         "reading score": 4.96,
         "test preparation course": "none",
         "writing score": 5.02
        },
        {
         "GPA": "5.82",
         "_deepnote_index_column": 858,
         "gender": "male",
         "lunch": "free/reduced",
         "math score": 5.68,
         "names": "Timothy Anderson",
         "parental level of education": "associate's degree",
         "race/ethnicity": "group C",
         "reading score": 5.86,
         "test preparation course": "completed",
         "writing score": 5.92
        },
        {
         "GPA": "5.22",
         "_deepnote_index_column": 859,
         "gender": "female",
         "lunch": "standard",
         "math score": 4.9,
         "names": "Julie Sciancalepore",
         "parental level of education": "bachelor's degree",
         "race/ethnicity": "group C",
         "reading score": 5.32,
         "test preparation course": "none",
         "writing score": 5.44
        },
        {
         "GPA": "6.04",
         "_deepnote_index_column": 860,
         "gender": "male",
         "lunch": "free/reduced",
         "math score": 6.4,
         "names": "Brandon Palmer",
         "parental level of education": "associate's degree",
         "race/ethnicity": "group D",
         "reading score": 6.22,
         "test preparation course": "none",
         "writing score": 5.5
        },
        {
         "GPA": "6.92",
         "_deepnote_index_column": 861,
         "gender": "male",
         "lunch": "standard",
         "math score": 7,
         "names": "Robert Morrison",
         "parental level of education": "some college",
         "race/ethnicity": "group D",
         "reading score": 6.82,
         "test preparation course": "completed",
         "writing score": 6.94
        },
        {
         "GPA": "5.22",
         "_deepnote_index_column": 862,
         "gender": "male",
         "lunch": "free/reduced",
         "math score": 5.02,
         "names": "Claudio Millender",
         "parental level of education": "some college",
         "race/ethnicity": "group C",
         "reading score": 5.44,
         "test preparation course": "completed",
         "writing score": 5.2
        },
        {
         "GPA": "5.56",
         "_deepnote_index_column": 863,
         "gender": "female",
         "lunch": "standard",
         "math score": 5.44,
         "names": "Emily King",
         "parental level of education": "some college",
         "race/ethnicity": "group D",
         "reading score": 5.5,
         "test preparation course": "completed",
         "writing score": 5.74
        },
        {
         "GPA": "5.2",
         "_deepnote_index_column": 864,
         "gender": "male",
         "lunch": "standard",
         "math score": 5.56,
         "names": "William Sakkinen",
         "parental level of education": "some college",
         "race/ethnicity": "group E",
         "reading score": 5.02,
         "test preparation course": "none",
         "writing score": 5.02
        },
        {
         "GPA": "5.16",
         "_deepnote_index_column": 865,
         "gender": "female",
         "lunch": "standard",
         "math score": 4.96,
         "names": "Elsa Hyman",
         "parental level of education": "high school",
         "race/ethnicity": "group B",
         "reading score": 5.32,
         "test preparation course": "none",
         "writing score": 5.2
        },
        {
         "GPA": "4.96",
         "_deepnote_index_column": 866,
         "gender": "female",
         "lunch": "standard",
         "math score": 4.54,
         "names": "Virginia Sievers",
         "parental level of education": "bachelor's degree",
         "race/ethnicity": "group C",
         "reading score": 4.84,
         "test preparation course": "completed",
         "writing score": 5.5
        },
        {
         "GPA": "5.36",
         "_deepnote_index_column": 867,
         "gender": "female",
         "lunch": "standard",
         "math score": 4.72,
         "names": "Laura Cavanaugh",
         "parental level of education": "associate's degree",
         "race/ethnicity": "group C",
         "reading score": 5.56,
         "test preparation course": "completed",
         "writing score": 5.8
        },
        {
         "GPA": "R",
         "_deepnote_index_column": 868,
         "gender": "female",
         "lunch": "free/reduced",
         "math score": 3.46,
         "names": "Diana Costa",
         "parental level of education": "high school",
         "race/ethnicity": "group C",
         "reading score": 3.76,
         "test preparation course": "none",
         "writing score": 3.58
        },
        {
         "GPA": "R",
         "_deepnote_index_column": 869,
         "gender": "female",
         "lunch": "standard",
         "math score": 2.74,
         "names": "Amy Sieving",
         "parental level of education": "high school",
         "race/ethnicity": "group C",
         "reading score": 2.74,
         "test preparation course": "none",
         "writing score": 2.8
        },
        {
         "GPA": "5.3",
         "_deepnote_index_column": 870,
         "gender": "male",
         "lunch": "standard",
         "math score": 5.14,
         "names": "Richard Young",
         "parental level of education": "high school",
         "race/ethnicity": "group D",
         "reading score": 5.5,
         "test preparation course": "none",
         "writing score": 5.26
        },
        {
         "GPA": "R",
         "_deepnote_index_column": 871,
         "gender": "female",
         "lunch": "free/reduced",
         "math score": 2.38,
         "names": "Wanda Russell",
         "parental level of education": "high school",
         "race/ethnicity": "group B",
         "reading score": 3.64,
         "test preparation course": "completed",
         "writing score": 3.16
        },
        {
         "GPA": "5.42",
         "_deepnote_index_column": 872,
         "gender": "female",
         "lunch": "free/reduced",
         "math score": 4.96,
         "names": "Marina Zeigler",
         "parental level of education": "bachelor's degree",
         "race/ethnicity": "group C",
         "reading score": 5.44,
         "test preparation course": "completed",
         "writing score": 5.86
        },
        {
         "GPA": "4.54",
         "_deepnote_index_column": 873,
         "gender": "female",
         "lunch": "standard",
         "math score": 4.24,
         "names": "Laurie Carter",
         "parental level of education": "some high school",
         "race/ethnicity": "group B",
         "reading score": 4.66,
         "test preparation course": "completed",
         "writing score": 4.72
        },
        {
         "GPA": "5.48",
         "_deepnote_index_column": 874,
         "gender": "female",
         "lunch": "standard",
         "math score": 5.08,
         "names": "Amanda Perez",
         "parental level of education": "high school",
         "race/ethnicity": "group A",
         "reading score": 5.8,
         "test preparation course": "completed",
         "writing score": 5.56
        }
       ],
       "rows_top": [
        {
         "GPA": "R",
         "_deepnote_index_column": 0,
         "gender": "female",
         "lunch": "standard",
         "math score": 3.22,
         "names": "Rita Courtney",
         "parental level of education": "some high school",
         "race/ethnicity": "group B",
         "reading score": 3.76,
         "test preparation course": "none",
         "writing score": 3.76
        },
        {
         "GPA": "5.78",
         "_deepnote_index_column": 1,
         "gender": "male",
         "lunch": "standard",
         "math score": 5.8,
         "names": "Charles Linstrom",
         "parental level of education": "bachelor's degree",
         "race/ethnicity": "group A",
         "reading score": 5.68,
         "test preparation course": "completed",
         "writing score": 5.86
        },
        {
         "GPA": "5.04",
         "_deepnote_index_column": 2,
         "gender": "male",
         "lunch": "standard",
         "math score": 5.38,
         "names": "Brian Young",
         "parental level of education": "some high school",
         "race/ethnicity": "group C",
         "reading score": 4.96,
         "test preparation course": "none",
         "writing score": 4.78
        },
        {
         "GPA": "5.64",
         "_deepnote_index_column": 3,
         "gender": "male",
         "lunch": "standard",
         "math score": 5.86,
         "names": "Howard Jimenez",
         "parental level of education": "some high school",
         "race/ethnicity": "group E",
         "reading score": 5.5,
         "test preparation course": "completed",
         "writing score": 5.56
        },
        {
         "GPA": "6.34",
         "_deepnote_index_column": 4,
         "gender": "male",
         "lunch": "standard",
         "math score": 6.64,
         "names": "Wayne Wilson",
         "parental level of education": "some high school",
         "race/ethnicity": "group B",
         "reading score": 6.16,
         "test preparation course": "completed",
         "writing score": 6.22
        },
        {
         "GPA": "5.02",
         "_deepnote_index_column": 5,
         "gender": "male",
         "lunch": "standard",
         "math score": 5.26,
         "names": "Jonathan Clingan",
         "parental level of education": "some college",
         "race/ethnicity": "group D",
         "reading score": 4.66,
         "test preparation course": "completed",
         "writing score": 5.14
        },
        {
         "GPA": "5.14",
         "_deepnote_index_column": 6,
         "gender": "male",
         "lunch": "standard",
         "math score": 5.5,
         "names": "William Tang",
         "parental level of education": "associate's degree",
         "race/ethnicity": "group D",
         "reading score": 5.08,
         "test preparation course": "none",
         "writing score": 4.84
        },
        {
         "GPA": "R",
         "_deepnote_index_column": 7,
         "gender": "female",
         "lunch": "free/reduced",
         "math score": 3.04,
         "names": "Mikki Amaya",
         "parental level of education": "high school",
         "race/ethnicity": "group A",
         "reading score": 3.88,
         "test preparation course": "completed",
         "writing score": 3.46
        },
        {
         "GPA": "4.7",
         "_deepnote_index_column": 8,
         "gender": "male",
         "lunch": "standard",
         "math score": 4.78,
         "names": "Gerald Wilson",
         "parental level of education": "associate's degree",
         "race/ethnicity": "group A",
         "reading score": 4.66,
         "test preparation course": "none",
         "writing score": 4.66
        },
        {
         "GPA": "5.76",
         "_deepnote_index_column": 9,
         "gender": "male",
         "lunch": "standard",
         "math score": 6.64,
         "names": "Damon Mckee",
         "parental level of education": "high school",
         "race/ethnicity": "group E",
         "reading score": 5.38,
         "test preparation course": "none",
         "writing score": 5.26
        },
        {
         "GPA": "5.5",
         "_deepnote_index_column": 10,
         "gender": "female",
         "lunch": "standard",
         "math score": 4.9,
         "names": "Sophia Bijou",
         "parental level of education": "some high school",
         "race/ethnicity": "group D",
         "reading score": 5.68,
         "test preparation course": "completed",
         "writing score": 5.92
        },
        {
         "GPA": "4.96",
         "_deepnote_index_column": 11,
         "gender": "female",
         "lunch": "free/reduced",
         "math score": 4.12,
         "names": "Monica Schwartz",
         "parental level of education": "associate's degree",
         "race/ethnicity": "group B",
         "reading score": 5.56,
         "test preparation course": "none",
         "writing score": 5.2
        },
        {
         "GPA": "4.7",
         "_deepnote_index_column": 12,
         "gender": "male",
         "lunch": "standard",
         "math score": 4.72,
         "names": "Donald Upchurch",
         "parental level of education": "associate's degree",
         "race/ethnicity": "group C",
         "reading score": 4.9,
         "test preparation course": "none",
         "writing score": 4.48
        },
        {
         "GPA": "5.4",
         "_deepnote_index_column": 13,
         "gender": "male",
         "lunch": "standard",
         "math score": 5.44,
         "names": "Donald Dunnings",
         "parental level of education": "some high school",
         "race/ethnicity": "group D",
         "reading score": 5.44,
         "test preparation course": "none",
         "writing score": 5.32
        },
        {
         "GPA": "4.62",
         "_deepnote_index_column": 14,
         "gender": "male",
         "lunch": "free/reduced",
         "math score": 4.72,
         "names": "Joseph Mccoy",
         "parental level of education": "some college",
         "race/ethnicity": "group D",
         "reading score": 4.42,
         "test preparation course": "none",
         "writing score": 4.72
        },
        {
         "GPA": "5.2",
         "_deepnote_index_column": 15,
         "gender": "male",
         "lunch": "standard",
         "math score": 5.38,
         "names": "David Dupree",
         "parental level of education": "high school",
         "race/ethnicity": "group B",
         "reading score": 5.14,
         "test preparation course": "completed",
         "writing score": 5.08
        },
        {
         "GPA": "R",
         "_deepnote_index_column": 16,
         "gender": "male",
         "lunch": "free/reduced",
         "math score": 3.76,
         "names": "Samuel Dougal",
         "parental level of education": "master's degree",
         "race/ethnicity": "group C",
         "reading score": 3.52,
         "test preparation course": "completed",
         "writing score": 3.76
        },
        {
         "GPA": "5.76",
         "_deepnote_index_column": 17,
         "gender": "male",
         "lunch": "standard",
         "math score": 5.92,
         "names": "Richard Pina",
         "parental level of education": "master's degree",
         "race/ethnicity": "group D",
         "reading score": 5.92,
         "test preparation course": "none",
         "writing score": 5.44
        },
        {
         "GPA": "4.68",
         "_deepnote_index_column": 18,
         "gender": "male",
         "lunch": "free/reduced",
         "math score": 4.78,
         "names": "Dale Sylvain",
         "parental level of education": "some college",
         "race/ethnicity": "group D",
         "reading score": 4.66,
         "test preparation course": "none",
         "writing score": 4.6
        },
        {
         "GPA": "5.1",
         "_deepnote_index_column": 19,
         "gender": "female",
         "lunch": "free/reduced",
         "math score": 4.84,
         "names": "Janine Taylor",
         "parental level of education": "associate's degree",
         "race/ethnicity": "group C",
         "reading score": 5.38,
         "test preparation course": "none",
         "writing score": 5.08
        },
        {
         "GPA": "5.64",
         "_deepnote_index_column": 20,
         "gender": "male",
         "lunch": "standard",
         "math score": 5.8,
         "names": "Alexander Dillon",
         "parental level of education": "associate's degree",
         "race/ethnicity": "group D",
         "reading score": 5.5,
         "test preparation course": "none",
         "writing score": 5.62
        },
        {
         "GPA": "6.86",
         "_deepnote_index_column": 21,
         "gender": "female",
         "lunch": "free/reduced",
         "math score": 6.58,
         "names": "Shanna Braswell",
         "parental level of education": "bachelor's degree",
         "race/ethnicity": "group D",
         "reading score": 7,
         "test preparation course": "completed",
         "writing score": 7
        },
        {
         "GPA": "5.38",
         "_deepnote_index_column": 22,
         "gender": "female",
         "lunch": "standard",
         "math score": 5.14,
         "names": "Bonnie Ramos",
         "parental level of education": "high school",
         "race/ethnicity": "group B",
         "reading score": 5.56,
         "test preparation course": "completed",
         "writing score": 5.44
        },
        {
         "GPA": "4.24",
         "_deepnote_index_column": 23,
         "gender": "female",
         "lunch": "free/reduced",
         "math score": 3.76,
         "names": "Connie Shinn",
         "parental level of education": "associate's degree",
         "race/ethnicity": "group B",
         "reading score": 4.66,
         "test preparation course": "none",
         "writing score": 4.3
        },
        {
         "GPA": "5.94",
         "_deepnote_index_column": 24,
         "gender": "male",
         "lunch": "standard",
         "math score": 6.16,
         "names": "Daniel Cartwright",
         "parental level of education": "high school",
         "race/ethnicity": "group C",
         "reading score": 5.86,
         "test preparation course": "completed",
         "writing score": 5.8
        },
        {
         "GPA": "5.02",
         "_deepnote_index_column": 25,
         "gender": "female",
         "lunch": "standard",
         "math score": 4.54,
         "names": "Betty Buntin",
         "parental level of education": "bachelor's degree",
         "race/ethnicity": "group A",
         "reading score": 5.32,
         "test preparation course": "none",
         "writing score": 5.2
        },
        {
         "GPA": "5.84",
         "_deepnote_index_column": 26,
         "gender": "male",
         "lunch": "standard",
         "math score": 6.04,
         "names": "Francis Seibold",
         "parental level of education": "some high school",
         "race/ethnicity": "group B",
         "reading score": 5.98,
         "test preparation course": "completed",
         "writing score": 5.5
        },
        {
         "GPA": "4.9",
         "_deepnote_index_column": 27,
         "gender": "male",
         "lunch": "free/reduced",
         "math score": 4.84,
         "names": "Arthur Byer",
         "parental level of education": "high school",
         "race/ethnicity": "group D",
         "reading score": 4.84,
         "test preparation course": "completed",
         "writing score": 5.02
        },
        {
         "GPA": "5.54",
         "_deepnote_index_column": 28,
         "gender": "female",
         "lunch": "free/reduced",
         "math score": 5.38,
         "names": "Willie Neff",
         "parental level of education": "associate's degree",
         "race/ethnicity": "group E",
         "reading score": 5.56,
         "test preparation course": "none",
         "writing score": 5.68
        },
        {
         "GPA": "6.14",
         "_deepnote_index_column": 29,
         "gender": "female",
         "lunch": "free/reduced",
         "math score": 5.98,
         "names": "Thelma Yeates",
         "parental level of education": "associate's degree",
         "race/ethnicity": "group E",
         "reading score": 6.16,
         "test preparation course": "completed",
         "writing score": 6.28
        },
        {
         "GPA": "5.96",
         "_deepnote_index_column": 30,
         "gender": "female",
         "lunch": "free/reduced",
         "math score": 5.5,
         "names": "Mary Piotrowski",
         "parental level of education": "some college",
         "race/ethnicity": "group E",
         "reading score": 6.28,
         "test preparation course": "completed",
         "writing score": 6.1
        },
        {
         "GPA": "5.34",
         "_deepnote_index_column": 31,
         "gender": "female",
         "lunch": "standard",
         "math score": 5.14,
         "names": "Hazel Montoya",
         "parental level of education": "some college",
         "race/ethnicity": "group D",
         "reading score": 5.44,
         "test preparation course": "none",
         "writing score": 5.44
        },
        {
         "GPA": "5.1",
         "_deepnote_index_column": 32,
         "gender": "male",
         "lunch": "standard",
         "math score": 5.08,
         "names": "James Eury",
         "parental level of education": "some college",
         "race/ethnicity": "group E",
         "reading score": 5.32,
         "test preparation course": "none",
         "writing score": 4.9
        },
        {
         "GPA": "4.44",
         "_deepnote_index_column": 33,
         "gender": "male",
         "lunch": "standard",
         "math score": 4.42,
         "names": "Larry Dunn",
         "parental level of education": "some high school",
         "race/ethnicity": "group C",
         "reading score": 4.66,
         "test preparation course": "none",
         "writing score": 4.24
        },
        {
         "GPA": "4.84",
         "_deepnote_index_column": 34,
         "gender": "male",
         "lunch": "standard",
         "math score": 4.96,
         "names": "David Dunham",
         "parental level of education": "bachelor's degree",
         "race/ethnicity": "group A",
         "reading score": 4.84,
         "test preparation course": "none",
         "writing score": 4.72
        },
        {
         "GPA": "4.68",
         "_deepnote_index_column": 35,
         "gender": "male",
         "lunch": "standard",
         "math score": 4.66,
         "names": "Jeffery Wiedmann",
         "parental level of education": "some college",
         "race/ethnicity": "group C",
         "reading score": 4.66,
         "test preparation course": "none",
         "writing score": 4.72
        },
        {
         "GPA": "4.06",
         "_deepnote_index_column": 36,
         "gender": "female",
         "lunch": "free/reduced",
         "math score": 3.4,
         "names": "Lisa Watters",
         "parental level of education": "master's degree",
         "race/ethnicity": "group D",
         "reading score": 4.54,
         "test preparation course": "none",
         "writing score": 4.24
        },
        {
         "GPA": "4.6",
         "_deepnote_index_column": 37,
         "gender": "female",
         "lunch": "free/reduced",
         "math score": 4,
         "names": "Katharine Kellum",
         "parental level of education": "high school",
         "race/ethnicity": "group B",
         "reading score": 5.02,
         "test preparation course": "none",
         "writing score": 4.78
        },
        {
         "GPA": "4.4",
         "_deepnote_index_column": 38,
         "gender": "female",
         "lunch": "standard",
         "math score": 3.88,
         "names": "Marjorie Brown",
         "parental level of education": "high school",
         "race/ethnicity": "group B",
         "reading score": 4.72,
         "test preparation course": "none",
         "writing score": 4.6
        },
        {
         "GPA": "R",
         "_deepnote_index_column": 39,
         "gender": "male",
         "lunch": "free/reduced",
         "math score": 3.16,
         "names": "Rodger Talavera",
         "parental level of education": "high school",
         "race/ethnicity": "group B",
         "reading score": 2.74,
         "test preparation course": "none",
         "writing score": 2.62
        },
        {
         "GPA": "5.66",
         "_deepnote_index_column": 40,
         "gender": "female",
         "lunch": "free/reduced",
         "math score": 5.68,
         "names": "Mary Jackson",
         "parental level of education": "bachelor's degree",
         "race/ethnicity": "group B",
         "reading score": 5.74,
         "test preparation course": "none",
         "writing score": 5.56
        },
        {
         "GPA": "4.92",
         "_deepnote_index_column": 41,
         "gender": "female",
         "lunch": "standard",
         "math score": 4.42,
         "names": "Rebecca Dalton",
         "parental level of education": "some high school",
         "race/ethnicity": "group B",
         "reading score": 5.02,
         "test preparation course": "none",
         "writing score": 5.32
        },
        {
         "GPA": "4.68",
         "_deepnote_index_column": 42,
         "gender": "male",
         "lunch": "standard",
         "math score": 5.14,
         "names": "David Fisk",
         "parental level of education": "bachelor's degree",
         "race/ethnicity": "group D",
         "reading score": 4.48,
         "test preparation course": "none",
         "writing score": 4.42
        },
        {
         "GPA": "R",
         "_deepnote_index_column": 43,
         "gender": "male",
         "lunch": "free/reduced",
         "math score": 3.4,
         "names": "Morris Johnson",
         "parental level of education": "associate's degree",
         "race/ethnicity": "group A",
         "reading score": 4.3,
         "test preparation course": "completed",
         "writing score": 4.18
        },
        {
         "GPA": "6.14",
         "_deepnote_index_column": 44,
         "gender": "male",
         "lunch": "standard",
         "math score": 6.52,
         "names": "Rodrick Rasch",
         "parental level of education": "some high school",
         "race/ethnicity": "group E",
         "reading score": 6.22,
         "test preparation course": "none",
         "writing score": 5.68
        },
        {
         "GPA": "R",
         "_deepnote_index_column": 45,
         "gender": "male",
         "lunch": "free/reduced",
         "math score": 3.1,
         "names": "Anthony Malcomb",
         "parental level of education": "some college",
         "race/ethnicity": "group C",
         "reading score": 2.68,
         "test preparation course": "none",
         "writing score": 2.62
        },
        {
         "GPA": "5.0",
         "_deepnote_index_column": 46,
         "gender": "female",
         "lunch": "standard",
         "math score": 4.78,
         "names": "Joyce Amos",
         "parental level of education": "associate's degree",
         "race/ethnicity": "group C",
         "reading score": 5.02,
         "test preparation course": "none",
         "writing score": 5.2
        },
        {
         "GPA": "5.16",
         "_deepnote_index_column": 47,
         "gender": "male",
         "lunch": "standard",
         "math score": 5.38,
         "names": "Donald Chestnut",
         "parental level of education": "some college",
         "race/ethnicity": "group C",
         "reading score": 5.44,
         "test preparation course": "none",
         "writing score": 4.66
        },
        {
         "GPA": "4.88",
         "_deepnote_index_column": 48,
         "gender": "female",
         "lunch": "standard",
         "math score": 4.78,
         "names": "Lynne Rodgers",
         "parental level of education": "some college",
         "race/ethnicity": "group D",
         "reading score": 4.84,
         "test preparation course": "none",
         "writing score": 5.02
        },
        {
         "GPA": "4.52",
         "_deepnote_index_column": 49,
         "gender": "female",
         "lunch": "free/reduced",
         "math score": 4.12,
         "names": "Diane Preister",
         "parental level of education": "some college",
         "race/ethnicity": "group D",
         "reading score": 4.54,
         "test preparation course": "completed",
         "writing score": 4.9
        }
       ]
      },
      "text/html": [
       "<div>\n",
       "<style scoped>\n",
       "    .dataframe tbody tr th:only-of-type {\n",
       "        vertical-align: middle;\n",
       "    }\n",
       "\n",
       "    .dataframe tbody tr th {\n",
       "        vertical-align: top;\n",
       "    }\n",
       "\n",
       "    .dataframe thead th {\n",
       "        text-align: right;\n",
       "    }\n",
       "</style>\n",
       "<table border=\"1\" class=\"dataframe\">\n",
       "  <thead>\n",
       "    <tr style=\"text-align: right;\">\n",
       "      <th></th>\n",
       "      <th>names</th>\n",
       "      <th>gender</th>\n",
       "      <th>race/ethnicity</th>\n",
       "      <th>parental level of education</th>\n",
       "      <th>lunch</th>\n",
       "      <th>test preparation course</th>\n",
       "      <th>math score</th>\n",
       "      <th>reading score</th>\n",
       "      <th>writing score</th>\n",
       "      <th>GPA</th>\n",
       "    </tr>\n",
       "  </thead>\n",
       "  <tbody>\n",
       "    <tr>\n",
       "      <th>0</th>\n",
       "      <td>Rita Courtney</td>\n",
       "      <td>female</td>\n",
       "      <td>group B</td>\n",
       "      <td>some high school</td>\n",
       "      <td>standard</td>\n",
       "      <td>none</td>\n",
       "      <td>3.22</td>\n",
       "      <td>3.76</td>\n",
       "      <td>3.76</td>\n",
       "      <td>R</td>\n",
       "    </tr>\n",
       "    <tr>\n",
       "      <th>1</th>\n",
       "      <td>Charles Linstrom</td>\n",
       "      <td>male</td>\n",
       "      <td>group A</td>\n",
       "      <td>bachelor's degree</td>\n",
       "      <td>standard</td>\n",
       "      <td>completed</td>\n",
       "      <td>5.80</td>\n",
       "      <td>5.68</td>\n",
       "      <td>5.86</td>\n",
       "      <td>5.78</td>\n",
       "    </tr>\n",
       "    <tr>\n",
       "      <th>2</th>\n",
       "      <td>Brian Young</td>\n",
       "      <td>male</td>\n",
       "      <td>group C</td>\n",
       "      <td>some high school</td>\n",
       "      <td>standard</td>\n",
       "      <td>none</td>\n",
       "      <td>5.38</td>\n",
       "      <td>4.96</td>\n",
       "      <td>4.78</td>\n",
       "      <td>5.04</td>\n",
       "    </tr>\n",
       "    <tr>\n",
       "      <th>3</th>\n",
       "      <td>Howard Jimenez</td>\n",
       "      <td>male</td>\n",
       "      <td>group E</td>\n",
       "      <td>some high school</td>\n",
       "      <td>standard</td>\n",
       "      <td>completed</td>\n",
       "      <td>5.86</td>\n",
       "      <td>5.50</td>\n",
       "      <td>5.56</td>\n",
       "      <td>5.64</td>\n",
       "    </tr>\n",
       "    <tr>\n",
       "      <th>4</th>\n",
       "      <td>Wayne Wilson</td>\n",
       "      <td>male</td>\n",
       "      <td>group B</td>\n",
       "      <td>some high school</td>\n",
       "      <td>standard</td>\n",
       "      <td>completed</td>\n",
       "      <td>6.64</td>\n",
       "      <td>6.16</td>\n",
       "      <td>6.22</td>\n",
       "      <td>6.34</td>\n",
       "    </tr>\n",
       "    <tr>\n",
       "      <th>...</th>\n",
       "      <td>...</td>\n",
       "      <td>...</td>\n",
       "      <td>...</td>\n",
       "      <td>...</td>\n",
       "      <td>...</td>\n",
       "      <td>...</td>\n",
       "      <td>...</td>\n",
       "      <td>...</td>\n",
       "      <td>...</td>\n",
       "      <td>...</td>\n",
       "    </tr>\n",
       "    <tr>\n",
       "      <th>870</th>\n",
       "      <td>Richard Young</td>\n",
       "      <td>male</td>\n",
       "      <td>group D</td>\n",
       "      <td>high school</td>\n",
       "      <td>standard</td>\n",
       "      <td>none</td>\n",
       "      <td>5.14</td>\n",
       "      <td>5.50</td>\n",
       "      <td>5.26</td>\n",
       "      <td>5.3</td>\n",
       "    </tr>\n",
       "    <tr>\n",
       "      <th>871</th>\n",
       "      <td>Wanda Russell</td>\n",
       "      <td>female</td>\n",
       "      <td>group B</td>\n",
       "      <td>high school</td>\n",
       "      <td>free/reduced</td>\n",
       "      <td>completed</td>\n",
       "      <td>2.38</td>\n",
       "      <td>3.64</td>\n",
       "      <td>3.16</td>\n",
       "      <td>R</td>\n",
       "    </tr>\n",
       "    <tr>\n",
       "      <th>872</th>\n",
       "      <td>Marina Zeigler</td>\n",
       "      <td>female</td>\n",
       "      <td>group C</td>\n",
       "      <td>bachelor's degree</td>\n",
       "      <td>free/reduced</td>\n",
       "      <td>completed</td>\n",
       "      <td>4.96</td>\n",
       "      <td>5.44</td>\n",
       "      <td>5.86</td>\n",
       "      <td>5.42</td>\n",
       "    </tr>\n",
       "    <tr>\n",
       "      <th>873</th>\n",
       "      <td>Laurie Carter</td>\n",
       "      <td>female</td>\n",
       "      <td>group B</td>\n",
       "      <td>some high school</td>\n",
       "      <td>standard</td>\n",
       "      <td>completed</td>\n",
       "      <td>4.24</td>\n",
       "      <td>4.66</td>\n",
       "      <td>4.72</td>\n",
       "      <td>4.54</td>\n",
       "    </tr>\n",
       "    <tr>\n",
       "      <th>874</th>\n",
       "      <td>Amanda Perez</td>\n",
       "      <td>female</td>\n",
       "      <td>group A</td>\n",
       "      <td>high school</td>\n",
       "      <td>standard</td>\n",
       "      <td>completed</td>\n",
       "      <td>5.08</td>\n",
       "      <td>5.80</td>\n",
       "      <td>5.56</td>\n",
       "      <td>5.48</td>\n",
       "    </tr>\n",
       "  </tbody>\n",
       "</table>\n",
       "<p>875 rows × 10 columns</p>\n",
       "</div>"
      ],
      "text/plain": [
       "                names  gender race/ethnicity parental level of education  \\\n",
       "0       Rita Courtney  female        group B            some high school   \n",
       "1    Charles Linstrom    male        group A           bachelor's degree   \n",
       "2         Brian Young    male        group C            some high school   \n",
       "3      Howard Jimenez    male        group E            some high school   \n",
       "4        Wayne Wilson    male        group B            some high school   \n",
       "..                ...     ...            ...                         ...   \n",
       "870     Richard Young    male        group D                 high school   \n",
       "871     Wanda Russell  female        group B                 high school   \n",
       "872    Marina Zeigler  female        group C           bachelor's degree   \n",
       "873     Laurie Carter  female        group B            some high school   \n",
       "874      Amanda Perez  female        group A                 high school   \n",
       "\n",
       "            lunch test preparation course  math score  reading score  \\\n",
       "0        standard                    none        3.22           3.76   \n",
       "1        standard               completed        5.80           5.68   \n",
       "2        standard                    none        5.38           4.96   \n",
       "3        standard               completed        5.86           5.50   \n",
       "4        standard               completed        6.64           6.16   \n",
       "..            ...                     ...         ...            ...   \n",
       "870      standard                    none        5.14           5.50   \n",
       "871  free/reduced               completed        2.38           3.64   \n",
       "872  free/reduced               completed        4.96           5.44   \n",
       "873      standard               completed        4.24           4.66   \n",
       "874      standard               completed        5.08           5.80   \n",
       "\n",
       "     writing score   GPA  \n",
       "0             3.76     R  \n",
       "1             5.86  5.78  \n",
       "2             4.78  5.04  \n",
       "3             5.56  5.64  \n",
       "4             6.22  6.34  \n",
       "..             ...   ...  \n",
       "870           5.26   5.3  \n",
       "871           3.16     R  \n",
       "872           5.86  5.42  \n",
       "873           4.72  4.54  \n",
       "874           5.56  5.48  \n",
       "\n",
       "[875 rows x 10 columns]"
      ]
     },
     "execution_count": 15,
     "metadata": {},
     "output_type": "execute_result"
    }
   ],
   "source": [
    "dataframe2"
   ]
  },
  {
   "cell_type": "code",
   "execution_count": null,
   "metadata": {
    "cell_id": "00050-19596313-6c35-480a-b2e2-0e17df76f2b9",
    "deepnote_cell_type": "code",
    "deepnote_to_be_reexecuted": false,
    "execution_millis": 44,
    "execution_start": 1632493424750,
    "source_hash": "142d1b25",
    "tags": []
   },
   "outputs": [
    {
     "data": {
      "application/vnd.deepnote.dataframe.v2+json": {
       "column_count": 10,
       "columns": [
        {
         "dtype": "object",
         "name": "names",
         "stats": {
          "categories": [
           {
            "count": 1,
            "name": "Richard Pryor"
           },
           {
            "count": 1,
            "name": "Sandra Pompey"
           },
           {
            "count": 92,
            "name": "92 others"
           }
          ],
          "nan_count": 0,
          "unique_count": 94
         }
        },
        {
         "dtype": "object",
         "name": "gender",
         "stats": {
          "categories": [
           {
            "count": 53,
            "name": "female"
           },
           {
            "count": 41,
            "name": "male"
           }
          ],
          "nan_count": 0,
          "unique_count": 2
         }
        },
        {
         "dtype": "object",
         "name": "race/ethnicity",
         "stats": {
          "categories": [
           {
            "count": 29,
            "name": "group C"
           },
           {
            "count": 24,
            "name": "group E"
           },
           {
            "count": 41,
            "name": "3 others"
           }
          ],
          "nan_count": 0,
          "unique_count": 5
         }
        },
        {
         "dtype": "object",
         "name": "parental level of education",
         "stats": {
          "categories": [
           {
            "count": 31,
            "name": "associate's degree"
           },
           {
            "count": 22,
            "name": "some college"
           },
           {
            "count": 41,
            "name": "4 others"
           }
          ],
          "nan_count": 0,
          "unique_count": 6
         }
        },
        {
         "dtype": "object",
         "name": "lunch",
         "stats": {
          "categories": [
           {
            "count": 85,
            "name": "standard"
           },
           {
            "count": 9,
            "name": "free/reduced"
           }
          ],
          "nan_count": 0,
          "unique_count": 2
         }
        },
        {
         "dtype": "object",
         "name": "test preparation course",
         "stats": {
          "categories": [
           {
            "count": 53,
            "name": "completed"
           },
           {
            "count": 41,
            "name": "none"
           }
          ],
          "nan_count": 0,
          "unique_count": 2
         }
        },
        {
         "dtype": "float64",
         "name": "math score",
         "stats": {
          "histogram": [
           {
            "bin_end": 5.974,
            "bin_start": 5.86,
            "count": 15
           },
           {
            "bin_end": 6.088,
            "bin_start": 5.974,
            "count": 9
           },
           {
            "bin_end": 6.202,
            "bin_start": 6.088,
            "count": 11
           },
           {
            "bin_end": 6.316,
            "bin_start": 6.202,
            "count": 15
           },
           {
            "bin_end": 6.43,
            "bin_start": 6.316,
            "count": 8
           },
           {
            "bin_end": 6.5440000000000005,
            "bin_start": 6.43,
            "count": 7
           },
           {
            "bin_end": 6.658,
            "bin_start": 6.5440000000000005,
            "count": 8
           },
           {
            "bin_end": 6.772,
            "bin_start": 6.658,
            "count": 3
           },
           {
            "bin_end": 6.886,
            "bin_start": 6.772,
            "count": 9
           },
           {
            "bin_end": 7,
            "bin_start": 6.886,
            "count": 9
           }
          ],
          "max": "7.0",
          "min": "5.86",
          "nan_count": 0,
          "unique_count": 19
         }
        },
        {
         "dtype": "float64",
         "name": "reading score",
         "stats": {
          "histogram": [
           {
            "bin_end": 5.974,
            "bin_start": 5.86,
            "count": 7
           },
           {
            "bin_end": 6.088,
            "bin_start": 5.974,
            "count": 10
           },
           {
            "bin_end": 6.202,
            "bin_start": 6.088,
            "count": 11
           },
           {
            "bin_end": 6.316,
            "bin_start": 6.202,
            "count": 7
           },
           {
            "bin_end": 6.43,
            "bin_start": 6.316,
            "count": 11
           },
           {
            "bin_end": 6.5440000000000005,
            "bin_start": 6.43,
            "count": 10
           },
           {
            "bin_end": 6.658,
            "bin_start": 6.5440000000000005,
            "count": 6
           },
           {
            "bin_end": 6.772,
            "bin_start": 6.658,
            "count": 11
           },
           {
            "bin_end": 6.886,
            "bin_start": 6.772,
            "count": 4
           },
           {
            "bin_end": 7,
            "bin_start": 6.886,
            "count": 17
           }
          ],
          "max": "7.0",
          "min": "5.86",
          "nan_count": 0,
          "unique_count": 19
         }
        },
        {
         "dtype": "float64",
         "name": "writing score",
         "stats": {
          "histogram": [
           {
            "bin_end": 5.974,
            "bin_start": 5.86,
            "count": 10
           },
           {
            "bin_end": 6.088,
            "bin_start": 5.974,
            "count": 6
           },
           {
            "bin_end": 6.202,
            "bin_start": 6.088,
            "count": 12
           },
           {
            "bin_end": 6.316,
            "bin_start": 6.202,
            "count": 8
           },
           {
            "bin_end": 6.43,
            "bin_start": 6.316,
            "count": 10
           },
           {
            "bin_end": 6.5440000000000005,
            "bin_start": 6.43,
            "count": 11
           },
           {
            "bin_end": 6.658,
            "bin_start": 6.5440000000000005,
            "count": 9
           },
           {
            "bin_end": 6.772,
            "bin_start": 6.658,
            "count": 10
           },
           {
            "bin_end": 6.886,
            "bin_start": 6.772,
            "count": 2
           },
           {
            "bin_end": 7,
            "bin_start": 6.886,
            "count": 16
           }
          ],
          "max": "7.0",
          "min": "5.86",
          "nan_count": 0,
          "unique_count": 20
         }
        },
        {
         "dtype": "object",
         "name": "GPA",
         "stats": {
          "categories": [
           {
            "count": 5,
            "name": "6.5"
           },
           {
            "count": 4,
            "name": "6.64"
           },
           {
            "count": 85,
            "name": "43 others"
           }
          ],
          "nan_count": 0,
          "unique_count": 45
         }
        },
        {
         "dtype": "int64",
         "name": "_deepnote_index_column"
        }
       ],
       "row_count": 94,
       "rows_bottom": null,
       "rows_top": [
        {
         "GPA": "7.0",
         "_deepnote_index_column": 0,
         "gender": "male",
         "lunch": "standard",
         "math score": 7,
         "names": "Richard Pryor",
         "parental level of education": "bachelor's degree",
         "race/ethnicity": "group E",
         "reading score": 7,
         "test preparation course": "completed",
         "writing score": 7
        },
        {
         "GPA": "7.0",
         "_deepnote_index_column": 1,
         "gender": "female",
         "lunch": "standard",
         "math score": 7,
         "names": "Sandra Pompey",
         "parental level of education": "associate's degree",
         "race/ethnicity": "group E",
         "reading score": 7,
         "test preparation course": "none",
         "writing score": 7
        },
        {
         "GPA": "7.0",
         "_deepnote_index_column": 2,
         "gender": "female",
         "lunch": "standard",
         "math score": 7,
         "names": "Elizabeth Beasley",
         "parental level of education": "bachelor's degree",
         "race/ethnicity": "group E",
         "reading score": 7,
         "test preparation course": "none",
         "writing score": 7
        },
        {
         "GPA": "6.98",
         "_deepnote_index_column": 3,
         "gender": "female",
         "lunch": "standard",
         "math score": 6.94,
         "names": "Emma Gray",
         "parental level of education": "bachelor's degree",
         "race/ethnicity": "group E",
         "reading score": 7,
         "test preparation course": "completed",
         "writing score": 7
        },
        {
         "GPA": "6.94",
         "_deepnote_index_column": 4,
         "gender": "female",
         "lunch": "standard",
         "math score": 6.82,
         "names": "Emma Brasher",
         "parental level of education": "some high school",
         "race/ethnicity": "group D",
         "reading score": 7,
         "test preparation course": "completed",
         "writing score": 7
        },
        {
         "GPA": "6.94",
         "_deepnote_index_column": 5,
         "gender": "female",
         "lunch": "standard",
         "math score": 6.88,
         "names": "Angela Cressey",
         "parental level of education": "some college",
         "race/ethnicity": "group D",
         "reading score": 7,
         "test preparation course": "none",
         "writing score": 6.94
        },
        {
         "GPA": "6.92",
         "_deepnote_index_column": 6,
         "gender": "female",
         "lunch": "standard",
         "math score": 6.76,
         "names": "Emmie Mooreland",
         "parental level of education": "bachelor's degree",
         "race/ethnicity": "group C",
         "reading score": 7,
         "test preparation course": "completed",
         "writing score": 7
        },
        {
         "GPA": "6.92",
         "_deepnote_index_column": 7,
         "gender": "male",
         "lunch": "standard",
         "math score": 7,
         "names": "Robert Morrison",
         "parental level of education": "some college",
         "race/ethnicity": "group D",
         "reading score": 6.82,
         "test preparation course": "completed",
         "writing score": 6.94
        },
        {
         "GPA": "6.86",
         "_deepnote_index_column": 8,
         "gender": "male",
         "lunch": "free/reduced",
         "math score": 7,
         "names": "David Martinez",
         "parental level of education": "associate's degree",
         "race/ethnicity": "group E",
         "reading score": 7,
         "test preparation course": "completed",
         "writing score": 6.58
        },
        {
         "GPA": "6.86",
         "_deepnote_index_column": 9,
         "gender": "female",
         "lunch": "free/reduced",
         "math score": 6.58,
         "names": "Shanna Braswell",
         "parental level of education": "bachelor's degree",
         "race/ethnicity": "group D",
         "reading score": 7,
         "test preparation course": "completed",
         "writing score": 7
        },
        {
         "GPA": "6.86",
         "_deepnote_index_column": 10,
         "gender": "female",
         "lunch": "standard",
         "math score": 6.64,
         "names": "Ana Loredo",
         "parental level of education": "master's degree",
         "race/ethnicity": "group E",
         "reading score": 6.94,
         "test preparation course": "completed",
         "writing score": 7
        },
        {
         "GPA": "6.84",
         "_deepnote_index_column": 11,
         "gender": "female",
         "lunch": "standard",
         "math score": 6.52,
         "names": "Agatha Bergman",
         "parental level of education": "master's degree",
         "race/ethnicity": "group D",
         "reading score": 7,
         "test preparation course": "none",
         "writing score": 7
        },
        {
         "GPA": "6.82",
         "_deepnote_index_column": 12,
         "gender": "female",
         "lunch": "standard",
         "math score": 6.76,
         "names": "Loretta Velez",
         "parental level of education": "associate's degree",
         "race/ethnicity": "group C",
         "reading score": 6.76,
         "test preparation course": "completed",
         "writing score": 6.94
        },
        {
         "GPA": "6.82",
         "_deepnote_index_column": 13,
         "gender": "female",
         "lunch": "standard",
         "math score": 6.52,
         "names": "Angie Laskoski",
         "parental level of education": "bachelor's degree",
         "race/ethnicity": "group C",
         "reading score": 7,
         "test preparation course": "completed",
         "writing score": 6.94
        },
        {
         "GPA": "6.8",
         "_deepnote_index_column": 14,
         "gender": "female",
         "lunch": "standard",
         "math score": 6.82,
         "names": "Jeanine Diaz",
         "parental level of education": "bachelor's degree",
         "race/ethnicity": "group B",
         "reading score": 6.82,
         "test preparation course": "none",
         "writing score": 6.76
        },
        {
         "GPA": "6.78",
         "_deepnote_index_column": 15,
         "gender": "female",
         "lunch": "standard",
         "math score": 6.34,
         "names": "Sandra Case",
         "parental level of education": "bachelor's degree",
         "race/ethnicity": "group D",
         "reading score": 7,
         "test preparation course": "none",
         "writing score": 7
        },
        {
         "GPA": "6.78",
         "_deepnote_index_column": 16,
         "gender": "female",
         "lunch": "standard",
         "math score": 7,
         "names": "Olivia Papp",
         "parental level of education": "some college",
         "race/ethnicity": "group E",
         "reading score": 6.52,
         "test preparation course": "none",
         "writing score": 6.82
        },
        {
         "GPA": "6.76",
         "_deepnote_index_column": 17,
         "gender": "female",
         "lunch": "standard",
         "math score": 6.58,
         "names": "Sharon Matthews",
         "parental level of education": "associate's degree",
         "race/ethnicity": "group E",
         "reading score": 7,
         "test preparation course": "completed",
         "writing score": 6.7
        },
        {
         "GPA": "6.74",
         "_deepnote_index_column": 18,
         "gender": "female",
         "lunch": "standard",
         "math score": 6.28,
         "names": "Maryann Russell",
         "parental level of education": "high school",
         "race/ethnicity": "group D",
         "reading score": 6.94,
         "test preparation course": "completed",
         "writing score": 7
        },
        {
         "GPA": "6.64",
         "_deepnote_index_column": 19,
         "gender": "male",
         "lunch": "standard",
         "math score": 7,
         "names": "Raymond Stuart",
         "parental level of education": "some college",
         "race/ethnicity": "group A",
         "reading score": 6.76,
         "test preparation course": "completed",
         "writing score": 6.16
        },
        {
         "GPA": "6.64",
         "_deepnote_index_column": 20,
         "gender": "female",
         "lunch": "standard",
         "math score": 6.94,
         "names": "Cheryl Leonard",
         "parental level of education": "high school",
         "race/ethnicity": "group E",
         "reading score": 6.58,
         "test preparation course": "none",
         "writing score": 6.4
        },
        {
         "GPA": "6.64",
         "_deepnote_index_column": 21,
         "gender": "male",
         "lunch": "standard",
         "math score": 6.22,
         "names": "Garth Zayas",
         "parental level of education": "associate's degree",
         "race/ethnicity": "group C",
         "reading score": 7,
         "test preparation course": "completed",
         "writing score": 6.7
        },
        {
         "GPA": "6.64",
         "_deepnote_index_column": 22,
         "gender": "female",
         "lunch": "standard",
         "math score": 6.28,
         "names": "Melanie Acevedo",
         "parental level of education": "master's degree",
         "race/ethnicity": "group E",
         "reading score": 6.94,
         "test preparation course": "completed",
         "writing score": 6.7
        },
        {
         "GPA": "6.62",
         "_deepnote_index_column": 23,
         "gender": "male",
         "lunch": "standard",
         "math score": 6.82,
         "names": "Joseph Sisk",
         "parental level of education": "associate's degree",
         "race/ethnicity": "group C",
         "reading score": 6.58,
         "test preparation course": "none",
         "writing score": 6.46
        },
        {
         "GPA": "6.6",
         "_deepnote_index_column": 24,
         "gender": "female",
         "lunch": "free/reduced",
         "math score": 6.1,
         "names": "Ann Polston",
         "parental level of education": "master's degree",
         "race/ethnicity": "group D",
         "reading score": 6.7,
         "test preparation course": "completed",
         "writing score": 7
        },
        {
         "GPA": "6.6",
         "_deepnote_index_column": 25,
         "gender": "female",
         "lunch": "standard",
         "math score": 6.46,
         "names": "Belinda Tuholski",
         "parental level of education": "associate's degree",
         "race/ethnicity": "group C",
         "reading score": 6.7,
         "test preparation course": "none",
         "writing score": 6.64
        },
        {
         "GPA": "6.56",
         "_deepnote_index_column": 26,
         "gender": "male",
         "lunch": "standard",
         "math score": 6.46,
         "names": "James King",
         "parental level of education": "some college",
         "race/ethnicity": "group B",
         "reading score": 6.76,
         "test preparation course": "completed",
         "writing score": 6.46
        },
        {
         "GPA": "6.56",
         "_deepnote_index_column": 27,
         "gender": "female",
         "lunch": "standard",
         "math score": 6.4,
         "names": "Sarah Flannery",
         "parental level of education": "master's degree",
         "race/ethnicity": "group B",
         "reading score": 6.7,
         "test preparation course": "none",
         "writing score": 6.58
        },
        {
         "GPA": "6.56",
         "_deepnote_index_column": 28,
         "gender": "male",
         "lunch": "standard",
         "math score": 6.76,
         "names": "Joseph Dean",
         "parental level of education": "bachelor's degree",
         "race/ethnicity": "group C",
         "reading score": 6.4,
         "test preparation course": "completed",
         "writing score": 6.52
        },
        {
         "GPA": "6.54",
         "_deepnote_index_column": 29,
         "gender": "female",
         "lunch": "standard",
         "math score": 6.28,
         "names": "Kelly Summers",
         "parental level of education": "some college",
         "race/ethnicity": "group C",
         "reading score": 6.7,
         "test preparation course": "completed",
         "writing score": 6.64
        },
        {
         "GPA": "6.52",
         "_deepnote_index_column": 30,
         "gender": "female",
         "lunch": "standard",
         "math score": 6.22,
         "names": "Eleanor Bond",
         "parental level of education": "associate's degree",
         "race/ethnicity": "group E",
         "reading score": 6.64,
         "test preparation course": "none",
         "writing score": 6.7
        },
        {
         "GPA": "6.5",
         "_deepnote_index_column": 31,
         "gender": "male",
         "lunch": "standard",
         "math score": 6.88,
         "names": "Clyde Gay",
         "parental level of education": "associate's degree",
         "race/ethnicity": "group C",
         "reading score": 6.22,
         "test preparation course": "completed",
         "writing score": 6.4
        },
        {
         "GPA": "6.5",
         "_deepnote_index_column": 32,
         "gender": "female",
         "lunch": "standard",
         "math score": 6.28,
         "names": "Susan Miller",
         "parental level of education": "some college",
         "race/ethnicity": "group B",
         "reading score": 6.7,
         "test preparation course": "completed",
         "writing score": 6.52
        },
        {
         "GPA": "6.5",
         "_deepnote_index_column": 33,
         "gender": "female",
         "lunch": "standard",
         "math score": 6.28,
         "names": "Julie Smith",
         "parental level of education": "associate's degree",
         "race/ethnicity": "group D",
         "reading score": 6.52,
         "test preparation course": "completed",
         "writing score": 6.7
        },
        {
         "GPA": "6.5",
         "_deepnote_index_column": 34,
         "gender": "male",
         "lunch": "standard",
         "math score": 6.82,
         "names": "Ronald Coria",
         "parental level of education": "associate's degree",
         "race/ethnicity": "group A",
         "reading score": 6.52,
         "test preparation course": "completed",
         "writing score": 6.16
        },
        {
         "GPA": "6.5",
         "_deepnote_index_column": 35,
         "gender": "female",
         "lunch": "standard",
         "math score": 5.92,
         "names": "Terri Motley",
         "parental level of education": "some college",
         "race/ethnicity": "group D",
         "reading score": 6.82,
         "test preparation course": "completed",
         "writing score": 6.76
        },
        {
         "GPA": "6.48",
         "_deepnote_index_column": 36,
         "gender": "female",
         "lunch": "standard",
         "math score": 5.86,
         "names": "Linda Michael",
         "parental level of education": "some high school",
         "race/ethnicity": "group D",
         "reading score": 6.82,
         "test preparation course": "none",
         "writing score": 6.76
        },
        {
         "GPA": "6.48",
         "_deepnote_index_column": 37,
         "gender": "male",
         "lunch": "standard",
         "math score": 6.88,
         "names": "James Stanley",
         "parental level of education": "some college",
         "race/ethnicity": "group C",
         "reading score": 6.16,
         "test preparation course": "completed",
         "writing score": 6.4
        },
        {
         "GPA": "6.46",
         "_deepnote_index_column": 38,
         "gender": "female",
         "lunch": "standard",
         "math score": 6.64,
         "names": "Monica Duggins",
         "parental level of education": "associate's degree",
         "race/ethnicity": "group B",
         "reading score": 6.22,
         "test preparation course": "completed",
         "writing score": 6.52
        },
        {
         "GPA": "6.44",
         "_deepnote_index_column": 39,
         "gender": "male",
         "lunch": "standard",
         "math score": 6.46,
         "names": "Earl Rodriguez",
         "parental level of education": "associate's degree",
         "race/ethnicity": "group B",
         "reading score": 6.34,
         "test preparation course": "completed",
         "writing score": 6.52
        },
        {
         "GPA": "6.42",
         "_deepnote_index_column": 40,
         "gender": "female",
         "lunch": "standard",
         "math score": 5.98,
         "names": "Judith Foster",
         "parental level of education": "bachelor's degree",
         "race/ethnicity": "group C",
         "reading score": 6.58,
         "test preparation course": "none",
         "writing score": 6.7
        },
        {
         "GPA": "6.42",
         "_deepnote_index_column": 41,
         "gender": "female",
         "lunch": "standard",
         "math score": 6.04,
         "names": "Tracy Fowler",
         "parental level of education": "associate's degree",
         "race/ethnicity": "group E",
         "reading score": 6.7,
         "test preparation course": "none",
         "writing score": 6.52
        },
        {
         "GPA": "6.42",
         "_deepnote_index_column": 42,
         "gender": "female",
         "lunch": "standard",
         "math score": 6.4,
         "names": "Bette Williams",
         "parental level of education": "associate's degree",
         "race/ethnicity": "group B",
         "reading score": 6.4,
         "test preparation course": "completed",
         "writing score": 6.46
        },
        {
         "GPA": "6.4",
         "_deepnote_index_column": 43,
         "gender": "female",
         "lunch": "standard",
         "math score": 6.1,
         "names": "Molly House",
         "parental level of education": "some high school",
         "race/ethnicity": "group C",
         "reading score": 6.52,
         "test preparation course": "completed",
         "writing score": 6.58
        },
        {
         "GPA": "6.38",
         "_deepnote_index_column": 44,
         "gender": "female",
         "lunch": "standard",
         "math score": 6.1,
         "names": "Carmen Simcoe",
         "parental level of education": "some college",
         "race/ethnicity": "group D",
         "reading score": 6.16,
         "test preparation course": "completed",
         "writing score": 6.88
        },
        {
         "GPA": "6.38",
         "_deepnote_index_column": 45,
         "gender": "female",
         "lunch": "standard",
         "math score": 6.1,
         "names": "Sheila Carboni",
         "parental level of education": "associate's degree",
         "race/ethnicity": "group C",
         "reading score": 6.34,
         "test preparation course": "none",
         "writing score": 6.7
        },
        {
         "GPA": "6.36",
         "_deepnote_index_column": 46,
         "gender": "female",
         "lunch": "standard",
         "math score": 6.22,
         "names": "Wendy Lewis",
         "parental level of education": "high school",
         "race/ethnicity": "group B",
         "reading score": 6.7,
         "test preparation course": "none",
         "writing score": 6.16
        },
        {
         "GPA": "6.36",
         "_deepnote_index_column": 47,
         "gender": "female",
         "lunch": "free/reduced",
         "math score": 5.92,
         "names": "Susan Cook",
         "parental level of education": "associate's degree",
         "race/ethnicity": "group C",
         "reading score": 6.58,
         "test preparation course": "completed",
         "writing score": 6.58
        },
        {
         "GPA": "6.36",
         "_deepnote_index_column": 48,
         "gender": "female",
         "lunch": "standard",
         "math score": 5.92,
         "names": "Gloria Gambrell",
         "parental level of education": "associate's degree",
         "race/ethnicity": "group A",
         "reading score": 6.58,
         "test preparation course": "none",
         "writing score": 6.58
        },
        {
         "GPA": "6.34",
         "_deepnote_index_column": 49,
         "gender": "female",
         "lunch": "standard",
         "math score": 6.1,
         "names": "Tanya Macinnes",
         "parental level of education": "some high school",
         "race/ethnicity": "group A",
         "reading score": 6.4,
         "test preparation course": "completed",
         "writing score": 6.52
        },
        {
         "GPA": "6.34",
         "_deepnote_index_column": 50,
         "gender": "male",
         "lunch": "standard",
         "math score": 6.64,
         "names": "Wayne Wilson",
         "parental level of education": "some high school",
         "race/ethnicity": "group B",
         "reading score": 6.16,
         "test preparation course": "completed",
         "writing score": 6.22
        },
        {
         "GPA": "6.34",
         "_deepnote_index_column": 51,
         "gender": "male",
         "lunch": "standard",
         "math score": 6.58,
         "names": "Walter Ortiz",
         "parental level of education": "some college",
         "race/ethnicity": "group C",
         "reading score": 6.04,
         "test preparation course": "completed",
         "writing score": 6.4
        },
        {
         "GPA": "6.34",
         "_deepnote_index_column": 52,
         "gender": "male",
         "lunch": "standard",
         "math score": 6.82,
         "names": "Darryl Ruble",
         "parental level of education": "associate's degree",
         "race/ethnicity": "group E",
         "reading score": 5.92,
         "test preparation course": "completed",
         "writing score": 6.28
        },
        {
         "GPA": "6.32",
         "_deepnote_index_column": 53,
         "gender": "male",
         "lunch": "standard",
         "math score": 6.82,
         "names": "Matthew Demelis",
         "parental level of education": "some college",
         "race/ethnicity": "group E",
         "reading score": 6.22,
         "test preparation course": "none",
         "writing score": 5.92
        },
        {
         "GPA": "6.32",
         "_deepnote_index_column": 54,
         "gender": "male",
         "lunch": "free/reduced",
         "math score": 6.58,
         "names": "Norman Arnold",
         "parental level of education": "some college",
         "race/ethnicity": "group E",
         "reading score": 6.4,
         "test preparation course": "none",
         "writing score": 5.98
        },
        {
         "GPA": "6.32",
         "_deepnote_index_column": 55,
         "gender": "female",
         "lunch": "standard",
         "math score": 5.92,
         "names": "Nicole Nesbitt",
         "parental level of education": "some college",
         "race/ethnicity": "group C",
         "reading score": 6.4,
         "test preparation course": "none",
         "writing score": 6.64
        },
        {
         "GPA": "6.32",
         "_deepnote_index_column": 56,
         "gender": "female",
         "lunch": "standard",
         "math score": 5.92,
         "names": "Anna Cotman",
         "parental level of education": "associate's degree",
         "race/ethnicity": "group D",
         "reading score": 6.7,
         "test preparation course": "none",
         "writing score": 6.34
        },
        {
         "GPA": "6.3",
         "_deepnote_index_column": 57,
         "gender": "male",
         "lunch": "free/reduced",
         "math score": 6.22,
         "names": "Anthony Pedigo",
         "parental level of education": "bachelor's degree",
         "race/ethnicity": "group B",
         "reading score": 6.4,
         "test preparation course": "completed",
         "writing score": 6.28
        },
        {
         "GPA": "6.3",
         "_deepnote_index_column": 58,
         "gender": "female",
         "lunch": "standard",
         "math score": 6.1,
         "names": "Julie Tang",
         "parental level of education": "associate's degree",
         "race/ethnicity": "group D",
         "reading score": 6.46,
         "test preparation course": "none",
         "writing score": 6.34
        },
        {
         "GPA": "6.3",
         "_deepnote_index_column": 59,
         "gender": "female",
         "lunch": "standard",
         "math score": 6.16,
         "names": "Marguerite Ramos",
         "parental level of education": "bachelor's degree",
         "race/ethnicity": "group C",
         "reading score": 6.52,
         "test preparation course": "none",
         "writing score": 6.22
        },
        {
         "GPA": "6.3",
         "_deepnote_index_column": 60,
         "gender": "female",
         "lunch": "standard",
         "math score": 6.22,
         "names": "Wanda Hardin",
         "parental level of education": "some college",
         "race/ethnicity": "group E",
         "reading score": 6.1,
         "test preparation course": "none",
         "writing score": 6.58
        },
        {
         "GPA": "6.28",
         "_deepnote_index_column": 61,
         "gender": "female",
         "lunch": "standard",
         "math score": 5.86,
         "names": "Esther Childress",
         "parental level of education": "master's degree",
         "race/ethnicity": "group E",
         "reading score": 6.52,
         "test preparation course": "none",
         "writing score": 6.46
        },
        {
         "GPA": "6.26",
         "_deepnote_index_column": 62,
         "gender": "male",
         "lunch": "free/reduced",
         "math score": 6.04,
         "names": "Charles Herandez",
         "parental level of education": "master's degree",
         "race/ethnicity": "group D",
         "reading score": 6.34,
         "test preparation course": "completed",
         "writing score": 6.4
        },
        {
         "GPA": "6.26",
         "_deepnote_index_column": 63,
         "gender": "male",
         "lunch": "standard",
         "math score": 6.28,
         "names": "Charles Johnson",
         "parental level of education": "high school",
         "race/ethnicity": "group C",
         "reading score": 6.34,
         "test preparation course": "none",
         "writing score": 6.16
        },
        {
         "GPA": "6.24",
         "_deepnote_index_column": 64,
         "gender": "female",
         "lunch": "standard",
         "math score": 6.1,
         "names": "Natalie Turney",
         "parental level of education": "associate's degree",
         "race/ethnicity": "group E",
         "reading score": 6.52,
         "test preparation course": "none",
         "writing score": 6.1
        },
        {
         "GPA": "6.24",
         "_deepnote_index_column": 65,
         "gender": "male",
         "lunch": "standard",
         "math score": 6.4,
         "names": "John Echols",
         "parental level of education": "associate's degree",
         "race/ethnicity": "group D",
         "reading score": 6.22,
         "test preparation course": "none",
         "writing score": 6.1
        },
        {
         "GPA": "6.24",
         "_deepnote_index_column": 66,
         "gender": "male",
         "lunch": "free/reduced",
         "math score": 6.4,
         "names": "Larry Mclane",
         "parental level of education": "associate's degree",
         "race/ethnicity": "group E",
         "reading score": 6.4,
         "test preparation course": "none",
         "writing score": 5.92
        },
        {
         "GPA": "6.24",
         "_deepnote_index_column": 67,
         "gender": "female",
         "lunch": "standard",
         "math score": 6.04,
         "names": "Ulrike Davidson",
         "parental level of education": "some college",
         "race/ethnicity": "group C",
         "reading score": 6.22,
         "test preparation course": "none",
         "writing score": 6.46
        },
        {
         "GPA": "6.22",
         "_deepnote_index_column": 68,
         "gender": "male",
         "lunch": "standard",
         "math score": 6.64,
         "names": "Ronald Mason",
         "parental level of education": "associate's degree",
         "race/ethnicity": "group E",
         "reading score": 6.1,
         "test preparation course": "completed",
         "writing score": 5.92
        },
        {
         "GPA": "6.22",
         "_deepnote_index_column": 69,
         "gender": "female",
         "lunch": "standard",
         "math score": 6.46,
         "names": "Patricia Harrell",
         "parental level of education": "associate's degree",
         "race/ethnicity": "group C",
         "reading score": 6.16,
         "test preparation course": "none",
         "writing score": 6.04
        },
        {
         "GPA": "6.22",
         "_deepnote_index_column": 70,
         "gender": "male",
         "lunch": "standard",
         "math score": 6.46,
         "names": "Dennis Campbell",
         "parental level of education": "master's degree",
         "race/ethnicity": "group C",
         "reading score": 6.1,
         "test preparation course": "completed",
         "writing score": 6.1
        },
        {
         "GPA": "6.18",
         "_deepnote_index_column": 71,
         "gender": "male",
         "lunch": "standard",
         "math score": 6.4,
         "names": "Larry Maldonado",
         "parental level of education": "master's degree",
         "race/ethnicity": "group E",
         "reading score": 6.1,
         "test preparation course": "none",
         "writing score": 6.04
        },
        {
         "GPA": "6.18",
         "_deepnote_index_column": 72,
         "gender": "female",
         "lunch": "standard",
         "math score": 5.86,
         "names": "Ofelia Evans",
         "parental level of education": "master's degree",
         "race/ethnicity": "group C",
         "reading score": 6.46,
         "test preparation course": "completed",
         "writing score": 6.22
        },
        {
         "GPA": "6.18",
         "_deepnote_index_column": 73,
         "gender": "male",
         "lunch": "standard",
         "math score": 6.22,
         "names": "Jonathan Mitchell",
         "parental level of education": "high school",
         "race/ethnicity": "group E",
         "reading score": 6.46,
         "test preparation course": "completed",
         "writing score": 5.86
        },
        {
         "GPA": "6.18",
         "_deepnote_index_column": 74,
         "gender": "male",
         "lunch": "standard",
         "math score": 6.34,
         "names": "Edward Lee",
         "parental level of education": "some high school",
         "race/ethnicity": "group D",
         "reading score": 6.28,
         "test preparation course": "completed",
         "writing score": 5.92
        },
        {
         "GPA": "6.16",
         "_deepnote_index_column": 75,
         "gender": "male",
         "lunch": "standard",
         "math score": 6.22,
         "names": "Kenneth Robertson",
         "parental level of education": "bachelor's degree",
         "race/ethnicity": "group A",
         "reading score": 6.04,
         "test preparation course": "completed",
         "writing score": 6.22
        },
        {
         "GPA": "6.16",
         "_deepnote_index_column": 76,
         "gender": "male",
         "lunch": "standard",
         "math score": 6.1,
         "names": "Timothy Botello",
         "parental level of education": "master's degree",
         "race/ethnicity": "group D",
         "reading score": 6.04,
         "test preparation course": "none",
         "writing score": 6.34
        },
        {
         "GPA": "6.16",
         "_deepnote_index_column": 77,
         "gender": "female",
         "lunch": "standard",
         "math score": 5.98,
         "names": "Jessica Salas",
         "parental level of education": "associate's degree",
         "race/ethnicity": "group C",
         "reading score": 6.1,
         "test preparation course": "completed",
         "writing score": 6.4
        },
        {
         "GPA": "6.14",
         "_deepnote_index_column": 78,
         "gender": "female",
         "lunch": "free/reduced",
         "math score": 5.98,
         "names": "Thelma Yeates",
         "parental level of education": "associate's degree",
         "race/ethnicity": "group E",
         "reading score": 6.16,
         "test preparation course": "completed",
         "writing score": 6.28
        },
        {
         "GPA": "6.14",
         "_deepnote_index_column": 79,
         "gender": "male",
         "lunch": "standard",
         "math score": 6.22,
         "names": "Leon Shipley",
         "parental level of education": "some college",
         "race/ethnicity": "group B",
         "reading score": 6.04,
         "test preparation course": "completed",
         "writing score": 6.16
        },
        {
         "GPA": "6.12",
         "_deepnote_index_column": 80,
         "gender": "female",
         "lunch": "standard",
         "math score": 5.98,
         "names": "Arlene Calhoun",
         "parental level of education": "some college",
         "race/ethnicity": "group C",
         "reading score": 5.98,
         "test preparation course": "none",
         "writing score": 6.4
        },
        {
         "GPA": "6.12",
         "_deepnote_index_column": 81,
         "gender": "male",
         "lunch": "standard",
         "math score": 6.22,
         "names": "Gary Hunter",
         "parental level of education": "associate's degree",
         "race/ethnicity": "group D",
         "reading score": 6.04,
         "test preparation course": "completed",
         "writing score": 6.1
        },
        {
         "GPA": "6.1",
         "_deepnote_index_column": 82,
         "gender": "male",
         "lunch": "standard",
         "math score": 6.16,
         "names": "James Hughey",
         "parental level of education": "bachelor's degree",
         "race/ethnicity": "group C",
         "reading score": 5.98,
         "test preparation course": "none",
         "writing score": 6.16
        },
        {
         "GPA": "6.1",
         "_deepnote_index_column": 83,
         "gender": "male",
         "lunch": "standard",
         "math score": 6.34,
         "names": "James Crawford",
         "parental level of education": "master's degree",
         "race/ethnicity": "group D",
         "reading score": 6.04,
         "test preparation course": "none",
         "writing score": 5.92
        },
        {
         "GPA": "6.06",
         "_deepnote_index_column": 84,
         "gender": "female",
         "lunch": "standard",
         "math score": 5.92,
         "names": "Dorothea Martin",
         "parental level of education": "associate's degree",
         "race/ethnicity": "group E",
         "reading score": 6.1,
         "test preparation course": "completed",
         "writing score": 6.16
        },
        {
         "GPA": "6.04",
         "_deepnote_index_column": 85,
         "gender": "male",
         "lunch": "standard",
         "math score": 6.04,
         "names": "Isaiah Massey",
         "parental level of education": "some college",
         "race/ethnicity": "group C",
         "reading score": 6.22,
         "test preparation course": "none",
         "writing score": 5.86
        },
        {
         "GPA": "6.04",
         "_deepnote_index_column": 86,
         "gender": "male",
         "lunch": "standard",
         "math score": 5.92,
         "names": "Earnest Cole",
         "parental level of education": "some college",
         "race/ethnicity": "group D",
         "reading score": 5.92,
         "test preparation course": "completed",
         "writing score": 6.28
        },
        {
         "GPA": "6.02",
         "_deepnote_index_column": 87,
         "gender": "male",
         "lunch": "standard",
         "math score": 6.1,
         "names": "David Moss",
         "parental level of education": "some college",
         "race/ethnicity": "group D",
         "reading score": 5.86,
         "test preparation course": "completed",
         "writing score": 6.1
        },
        {
         "GPA": "5.98",
         "_deepnote_index_column": 88,
         "gender": "male",
         "lunch": "standard",
         "math score": 5.98,
         "names": "Christopher Martinez",
         "parental level of education": "bachelor's degree",
         "race/ethnicity": "group C",
         "reading score": 5.92,
         "test preparation course": "completed",
         "writing score": 6.04
        },
        {
         "GPA": "5.96",
         "_deepnote_index_column": 89,
         "gender": "male",
         "lunch": "standard",
         "math score": 5.92,
         "names": "Rolando Widmer",
         "parental level of education": "high school",
         "race/ethnicity": "group C",
         "reading score": 6.04,
         "test preparation course": "completed",
         "writing score": 5.92
        },
        {
         "GPA": "5.94",
         "_deepnote_index_column": 90,
         "gender": "female",
         "lunch": "standard",
         "math score": 5.86,
         "names": "Lucille Stanphill",
         "parental level of education": "high school",
         "race/ethnicity": "group C",
         "reading score": 6.04,
         "test preparation course": "none",
         "writing score": 5.92
        },
        {
         "GPA": "5.94",
         "_deepnote_index_column": 91,
         "gender": "male",
         "lunch": "standard",
         "math score": 5.86,
         "names": "Steven Kelly",
         "parental level of education": "some college",
         "race/ethnicity": "group D",
         "reading score": 5.92,
         "test preparation course": "none",
         "writing score": 6.04
        },
        {
         "GPA": "5.92",
         "_deepnote_index_column": 92,
         "gender": "male",
         "lunch": "standard",
         "math score": 5.86,
         "names": "Peter Perez",
         "parental level of education": "master's degree",
         "race/ethnicity": "group D",
         "reading score": 5.86,
         "test preparation course": "none",
         "writing score": 6.04
        },
        {
         "GPA": "5.9",
         "_deepnote_index_column": 93,
         "gender": "male",
         "lunch": "standard",
         "math score": 5.86,
         "names": "Harry Berry",
         "parental level of education": "associate's degree",
         "race/ethnicity": "group B",
         "reading score": 5.92,
         "test preparation course": "completed",
         "writing score": 5.92
        }
       ]
      },
      "text/html": [
       "<div>\n",
       "<style scoped>\n",
       "    .dataframe tbody tr th:only-of-type {\n",
       "        vertical-align: middle;\n",
       "    }\n",
       "\n",
       "    .dataframe tbody tr th {\n",
       "        vertical-align: top;\n",
       "    }\n",
       "\n",
       "    .dataframe thead th {\n",
       "        text-align: right;\n",
       "    }\n",
       "</style>\n",
       "<table border=\"1\" class=\"dataframe\">\n",
       "  <thead>\n",
       "    <tr style=\"text-align: right;\">\n",
       "      <th></th>\n",
       "      <th>names</th>\n",
       "      <th>gender</th>\n",
       "      <th>race/ethnicity</th>\n",
       "      <th>parental level of education</th>\n",
       "      <th>lunch</th>\n",
       "      <th>test preparation course</th>\n",
       "      <th>math score</th>\n",
       "      <th>reading score</th>\n",
       "      <th>writing score</th>\n",
       "      <th>GPA</th>\n",
       "    </tr>\n",
       "  </thead>\n",
       "  <tbody>\n",
       "    <tr>\n",
       "      <th>0</th>\n",
       "      <td>Richard Pryor</td>\n",
       "      <td>male</td>\n",
       "      <td>group E</td>\n",
       "      <td>bachelor's degree</td>\n",
       "      <td>standard</td>\n",
       "      <td>completed</td>\n",
       "      <td>7.00</td>\n",
       "      <td>7.00</td>\n",
       "      <td>7.00</td>\n",
       "      <td>7.0</td>\n",
       "    </tr>\n",
       "    <tr>\n",
       "      <th>1</th>\n",
       "      <td>Sandra Pompey</td>\n",
       "      <td>female</td>\n",
       "      <td>group E</td>\n",
       "      <td>associate's degree</td>\n",
       "      <td>standard</td>\n",
       "      <td>none</td>\n",
       "      <td>7.00</td>\n",
       "      <td>7.00</td>\n",
       "      <td>7.00</td>\n",
       "      <td>7.0</td>\n",
       "    </tr>\n",
       "    <tr>\n",
       "      <th>2</th>\n",
       "      <td>Elizabeth Beasley</td>\n",
       "      <td>female</td>\n",
       "      <td>group E</td>\n",
       "      <td>bachelor's degree</td>\n",
       "      <td>standard</td>\n",
       "      <td>none</td>\n",
       "      <td>7.00</td>\n",
       "      <td>7.00</td>\n",
       "      <td>7.00</td>\n",
       "      <td>7.0</td>\n",
       "    </tr>\n",
       "    <tr>\n",
       "      <th>3</th>\n",
       "      <td>Emma Gray</td>\n",
       "      <td>female</td>\n",
       "      <td>group E</td>\n",
       "      <td>bachelor's degree</td>\n",
       "      <td>standard</td>\n",
       "      <td>completed</td>\n",
       "      <td>6.94</td>\n",
       "      <td>7.00</td>\n",
       "      <td>7.00</td>\n",
       "      <td>6.98</td>\n",
       "    </tr>\n",
       "    <tr>\n",
       "      <th>4</th>\n",
       "      <td>Emma Brasher</td>\n",
       "      <td>female</td>\n",
       "      <td>group D</td>\n",
       "      <td>some high school</td>\n",
       "      <td>standard</td>\n",
       "      <td>completed</td>\n",
       "      <td>6.82</td>\n",
       "      <td>7.00</td>\n",
       "      <td>7.00</td>\n",
       "      <td>6.94</td>\n",
       "    </tr>\n",
       "    <tr>\n",
       "      <th>...</th>\n",
       "      <td>...</td>\n",
       "      <td>...</td>\n",
       "      <td>...</td>\n",
       "      <td>...</td>\n",
       "      <td>...</td>\n",
       "      <td>...</td>\n",
       "      <td>...</td>\n",
       "      <td>...</td>\n",
       "      <td>...</td>\n",
       "      <td>...</td>\n",
       "    </tr>\n",
       "    <tr>\n",
       "      <th>89</th>\n",
       "      <td>Rolando Widmer</td>\n",
       "      <td>male</td>\n",
       "      <td>group C</td>\n",
       "      <td>high school</td>\n",
       "      <td>standard</td>\n",
       "      <td>completed</td>\n",
       "      <td>5.92</td>\n",
       "      <td>6.04</td>\n",
       "      <td>5.92</td>\n",
       "      <td>5.96</td>\n",
       "    </tr>\n",
       "    <tr>\n",
       "      <th>90</th>\n",
       "      <td>Lucille Stanphill</td>\n",
       "      <td>female</td>\n",
       "      <td>group C</td>\n",
       "      <td>high school</td>\n",
       "      <td>standard</td>\n",
       "      <td>none</td>\n",
       "      <td>5.86</td>\n",
       "      <td>6.04</td>\n",
       "      <td>5.92</td>\n",
       "      <td>5.94</td>\n",
       "    </tr>\n",
       "    <tr>\n",
       "      <th>91</th>\n",
       "      <td>Steven Kelly</td>\n",
       "      <td>male</td>\n",
       "      <td>group D</td>\n",
       "      <td>some college</td>\n",
       "      <td>standard</td>\n",
       "      <td>none</td>\n",
       "      <td>5.86</td>\n",
       "      <td>5.92</td>\n",
       "      <td>6.04</td>\n",
       "      <td>5.94</td>\n",
       "    </tr>\n",
       "    <tr>\n",
       "      <th>92</th>\n",
       "      <td>Peter Perez</td>\n",
       "      <td>male</td>\n",
       "      <td>group D</td>\n",
       "      <td>master's degree</td>\n",
       "      <td>standard</td>\n",
       "      <td>none</td>\n",
       "      <td>5.86</td>\n",
       "      <td>5.86</td>\n",
       "      <td>6.04</td>\n",
       "      <td>5.92</td>\n",
       "    </tr>\n",
       "    <tr>\n",
       "      <th>93</th>\n",
       "      <td>Harry Berry</td>\n",
       "      <td>male</td>\n",
       "      <td>group B</td>\n",
       "      <td>associate's degree</td>\n",
       "      <td>standard</td>\n",
       "      <td>completed</td>\n",
       "      <td>5.86</td>\n",
       "      <td>5.92</td>\n",
       "      <td>5.92</td>\n",
       "      <td>5.9</td>\n",
       "    </tr>\n",
       "  </tbody>\n",
       "</table>\n",
       "<p>94 rows × 10 columns</p>\n",
       "</div>"
      ],
      "text/plain": [
       "                names  gender race/ethnicity parental level of education  \\\n",
       "0       Richard Pryor    male        group E           bachelor's degree   \n",
       "1       Sandra Pompey  female        group E          associate's degree   \n",
       "2   Elizabeth Beasley  female        group E           bachelor's degree   \n",
       "3           Emma Gray  female        group E           bachelor's degree   \n",
       "4        Emma Brasher  female        group D            some high school   \n",
       "..                ...     ...            ...                         ...   \n",
       "89     Rolando Widmer    male        group C                 high school   \n",
       "90  Lucille Stanphill  female        group C                 high school   \n",
       "91       Steven Kelly    male        group D                some college   \n",
       "92        Peter Perez    male        group D             master's degree   \n",
       "93        Harry Berry    male        group B          associate's degree   \n",
       "\n",
       "       lunch test preparation course  math score  reading score  \\\n",
       "0   standard               completed        7.00           7.00   \n",
       "1   standard                    none        7.00           7.00   \n",
       "2   standard                    none        7.00           7.00   \n",
       "3   standard               completed        6.94           7.00   \n",
       "4   standard               completed        6.82           7.00   \n",
       "..       ...                     ...         ...            ...   \n",
       "89  standard               completed        5.92           6.04   \n",
       "90  standard                    none        5.86           6.04   \n",
       "91  standard                    none        5.86           5.92   \n",
       "92  standard                    none        5.86           5.86   \n",
       "93  standard               completed        5.86           5.92   \n",
       "\n",
       "    writing score   GPA  \n",
       "0            7.00   7.0  \n",
       "1            7.00   7.0  \n",
       "2            7.00   7.0  \n",
       "3            7.00  6.98  \n",
       "4            7.00  6.94  \n",
       "..            ...   ...  \n",
       "89           5.92  5.96  \n",
       "90           5.92  5.94  \n",
       "91           6.04  5.94  \n",
       "92           6.04  5.92  \n",
       "93           5.92   5.9  \n",
       "\n",
       "[94 rows x 10 columns]"
      ]
     },
     "execution_count": 16,
     "metadata": {},
     "output_type": "execute_result"
    }
   ],
   "source": [
    "dataframe3"
   ]
  },
  {
   "cell_type": "markdown",
   "metadata": {
    "cell_id": "00051-1765b59c-25ca-4dc5-ac88-29805642f748",
    "deepnote_cell_type": "markdown",
    "id": "jb9sjfJlwolM"
   },
   "source": [
    "**Respuesta:**"
   ]
  },
  {
   "cell_type": "markdown",
   "metadata": {
    "cell_id": "00052-4e2f07e8-ce26-4d48-ba89-4c04132729ca",
    "deepnote_cell_type": "markdown",
    "id": "vDl7h7JbwrKh"
   },
   "source": [
    "```\n",
    "Escriba aqui su respuesta\n",
    "```"
   ]
  },
  {
   "cell_type": "markdown",
   "metadata": {
    "cell_id": "00053-c26e032f-9917-4088-ac1d-9ba2983ba419",
    "deepnote_cell_type": "markdown",
    "tags": []
   },
   "source": [
    "### 1.3.4 Consultas de Alumnos [0.5 Puntos]"
   ]
  },
  {
   "cell_type": "markdown",
   "metadata": {
    "cell_id": "00054-265dbcea-43c7-4418-b289-48906d0c1626",
    "deepnote_cell_type": "markdown",
    "tags": []
   },
   "source": [
    "Algunos padres (extremadamente entrometidos y...) preocupados por el desempeño de sus hijos, desean saber estos han aprobado o no el año. Como la tarea de buscar a mano cada uno de estos alumnos en el `DataFrame` resulta demasiado tedioso, el rector le solicita crear una función que tenga como entrada el `DataFrame` donde se realizará la busqueda y una lista con los nombres de los alumnos, luego la función deberá retornar un `DataFrame` con los nombres de los alumnos y el promedio general de cada uno. \n",
    "\n",
    "Creada la función busque el promedio general de los siguientes alumnos en el segundo Data frame creado en la sección 1.3.3:\n",
    "\n",
    "`['Lucille Stanphill','Marcus Mcfarland', 'Matthew Freeman', 'Dana Mojica', 'Paul Hyder', 'Jeffrey Korn', 'Robert Strain',\n",
    "'Ronald Jett', 'Lorena Reed', 'Hazel Posey']`\n",
    "\n",
    "**Hint:** Puede serle de utilidad utilizar `isin()`."
   ]
  },
  {
   "cell_type": "markdown",
   "metadata": {
    "cell_id": "00055-f296cada-4f15-4a9b-900c-cde55391c32b",
    "deepnote_cell_type": "markdown",
    "tags": []
   },
   "source": [
    "**Respuesta:**"
   ]
  },
  {
   "cell_type": "code",
   "execution_count": null,
   "metadata": {
    "cell_id": "00056-1625f6ad-80ec-45be-9bbb-c08ddd6df2fb",
    "deepnote_cell_type": "code",
    "deepnote_to_be_reexecuted": false,
    "execution_millis": 21,
    "execution_start": 1632493424802,
    "source_hash": "f3ff8aa7",
    "tags": []
   },
   "outputs": [
    {
     "data": {
      "application/vnd.deepnote.dataframe.v2+json": {
       "column_count": 2,
       "columns": [
        {
         "dtype": "object",
         "name": "names",
         "stats": {
          "categories": [
           {
            "count": 1,
            "name": "Lucille Stanphill"
           },
           {
            "count": 1,
            "name": "Marcus Mcfarland"
           },
           {
            "count": 6,
            "name": "6 others"
           }
          ],
          "nan_count": 0,
          "unique_count": 8
         }
        },
        {
         "dtype": "object",
         "name": "GPA",
         "stats": {
          "categories": [
           {
            "count": 5,
            "name": "R"
           },
           {
            "count": 1,
            "name": "5.94"
           },
           {
            "count": 2,
            "name": "2 others"
           }
          ],
          "nan_count": 0,
          "unique_count": 4
         }
        },
        {
         "dtype": "int64",
         "name": "_deepnote_index_column"
        }
       ],
       "row_count": 8,
       "rows_bottom": null,
       "rows_top": [
        {
         "GPA": "5.94",
         "_deepnote_index_column": 198,
         "names": "Lucille Stanphill"
        },
        {
         "GPA": "4.86",
         "_deepnote_index_column": 372,
         "names": "Marcus Mcfarland"
        },
        {
         "GPA": "R",
         "_deepnote_index_column": 418,
         "names": "Matthew Freeman"
        },
        {
         "GPA": "R",
         "_deepnote_index_column": 421,
         "names": "Dana Mojica"
        },
        {
         "GPA": "4.4",
         "_deepnote_index_column": 675,
         "names": "Robert Strain"
        },
        {
         "GPA": "R",
         "_deepnote_index_column": 679,
         "names": "Ronald Jett"
        },
        {
         "GPA": "R",
         "_deepnote_index_column": 681,
         "names": "Hazel Posey"
        },
        {
         "GPA": "R",
         "_deepnote_index_column": 753,
         "names": "Lorena Reed"
        }
       ]
      },
      "text/html": [
       "<div>\n",
       "<style scoped>\n",
       "    .dataframe tbody tr th:only-of-type {\n",
       "        vertical-align: middle;\n",
       "    }\n",
       "\n",
       "    .dataframe tbody tr th {\n",
       "        vertical-align: top;\n",
       "    }\n",
       "\n",
       "    .dataframe thead th {\n",
       "        text-align: right;\n",
       "    }\n",
       "</style>\n",
       "<table border=\"1\" class=\"dataframe\">\n",
       "  <thead>\n",
       "    <tr style=\"text-align: right;\">\n",
       "      <th></th>\n",
       "      <th>names</th>\n",
       "      <th>GPA</th>\n",
       "    </tr>\n",
       "  </thead>\n",
       "  <tbody>\n",
       "    <tr>\n",
       "      <th>198</th>\n",
       "      <td>Lucille Stanphill</td>\n",
       "      <td>5.94</td>\n",
       "    </tr>\n",
       "    <tr>\n",
       "      <th>372</th>\n",
       "      <td>Marcus Mcfarland</td>\n",
       "      <td>4.86</td>\n",
       "    </tr>\n",
       "    <tr>\n",
       "      <th>418</th>\n",
       "      <td>Matthew Freeman</td>\n",
       "      <td>R</td>\n",
       "    </tr>\n",
       "    <tr>\n",
       "      <th>421</th>\n",
       "      <td>Dana Mojica</td>\n",
       "      <td>R</td>\n",
       "    </tr>\n",
       "    <tr>\n",
       "      <th>675</th>\n",
       "      <td>Robert Strain</td>\n",
       "      <td>4.4</td>\n",
       "    </tr>\n",
       "    <tr>\n",
       "      <th>679</th>\n",
       "      <td>Ronald Jett</td>\n",
       "      <td>R</td>\n",
       "    </tr>\n",
       "    <tr>\n",
       "      <th>681</th>\n",
       "      <td>Hazel Posey</td>\n",
       "      <td>R</td>\n",
       "    </tr>\n",
       "    <tr>\n",
       "      <th>753</th>\n",
       "      <td>Lorena Reed</td>\n",
       "      <td>R</td>\n",
       "    </tr>\n",
       "  </tbody>\n",
       "</table>\n",
       "</div>"
      ],
      "text/plain": [
       "                 names   GPA\n",
       "198  Lucille Stanphill  5.94\n",
       "372   Marcus Mcfarland  4.86\n",
       "418    Matthew Freeman     R\n",
       "421        Dana Mojica     R\n",
       "675      Robert Strain   4.4\n",
       "679        Ronald Jett     R\n",
       "681        Hazel Posey     R\n",
       "753        Lorena Reed     R"
      ]
     },
     "execution_count": 17,
     "metadata": {},
     "output_type": "execute_result"
    }
   ],
   "source": [
    "def consulta_gpa(dataframe_in, lista_alumnos):\n",
    "    pass\n",
    "\n",
    "\n",
    "lista_alumnos = [\n",
    "    \"Lucille Stanphill\",\n",
    "    \"Marcus Mcfarland\",\n",
    "    \"Matthew Freeman\",\n",
    "    \"Dana Mojica\",\n",
    "    \"Paul Hyder\",\n",
    "    \"Jeffrey Korn\",\n",
    "    \"Robert Strain\",\n",
    "    \"Ronald Jett\",\n",
    "    \"Lorena Reed\",\n",
    "    \"Hazel Posey\",\n",
    "]\n",
    "consulta_gpa(dataframe2, lista_alumnos)"
   ]
  },
  {
   "cell_type": "markdown",
   "metadata": {
    "cell_id": "00057-ce0783ee-ebbf-47e2-a857-88811fd99f73",
    "deepnote_cell_type": "markdown",
    "tags": []
   },
   "source": [
    "### 1.3.5 Quintiles de Rendimiento [0.5 Puntos]"
   ]
  },
  {
   "cell_type": "markdown",
   "metadata": {
    "cell_id": "00058-f22b06aa-362f-481f-a003-b9e5796120b0",
    "deepnote_cell_type": "markdown",
    "tags": []
   },
   "source": [
    "El rector, intrigado por saber si existe una relación entre el nivel educacional de los padres y las notas de sus hijos les plantea estudiar dicha relación. Para esto, les solicita que desde el `DataFrame` que posee a todos los alumnos (`DataFrame` obtenido tras la limpieza), generen una nueva columna que clasifique en quintiles de rendimiento para sus alumnos: `['Bajísimo', 'Bajo', 'Medio', 'Alto', 'Muy alto']`. (investigar `qcut()`)\n",
    "\n",
    "Hecho esto, grafique a través de un scatter plot el nivel educacional de los padres v/s el promedio de los alumnos, utilice los cuantiles generados anteriormente para mostrar en que cuantil se encuentra cada uno de los datos.\n",
    "\n",
    "Realizado el grafico, responda la siguiente pregunta: **¿Es posible visualizar alguna tendencia en el gráfico?.**\n",
    "\n"
   ]
  },
  {
   "cell_type": "markdown",
   "metadata": {
    "cell_id": "00059-9f08f4c4-c59b-443a-83c3-677c0e9be877",
    "deepnote_cell_type": "markdown",
    "tags": []
   },
   "source": [
    "**Respuesta:**"
   ]
  },
  {
   "cell_type": "code",
   "execution_count": null,
   "metadata": {
    "cell_id": "00061-795d8f8c-5718-4f38-adc1-4a1733bd3ccb",
    "deepnote_cell_type": "code",
    "deepnote_to_be_reexecuted": false,
    "execution_millis": 134,
    "execution_start": 1632493424819,
    "source_hash": "8fe13806",
    "tags": []
   },
   "outputs": [
    {
     "data": {
      "text/html": [
       "<html>\n",
       "<head><meta charset=\"utf-8\" /></head>\n",
       "<body>\n",
       "    <div>            <script src=\"https://cdnjs.cloudflare.com/ajax/libs/mathjax/2.7.5/MathJax.js?config=TeX-AMS-MML_SVG\"></script><script type=\"text/javascript\">if (window.MathJax) {MathJax.Hub.Config({SVG: {font: \"STIX-Web\"}});}</script>                <script type=\"text/javascript\">window.PlotlyConfig = {MathJaxConfig: 'local'};</script>\n",
       "        <script src=\"https://cdn.plot.ly/plotly-2.4.2.min.js\"></script>                <div id=\"655c06fd-d332-4421-85c2-ee514c6fa49f\" class=\"plotly-graph-div\" style=\"height:525px; width:100%;\"></div>            <script type=\"text/javascript\">                                    window.PLOTLYENV=window.PLOTLYENV || {};                                    if (document.getElementById(\"655c06fd-d332-4421-85c2-ee514c6fa49f\")) {                    Plotly.newPlot(                        \"655c06fd-d332-4421-85c2-ee514c6fa49f\",                        [{\"customdata\":[[\"female\"],[\"female\"],[\"male\"],[\"male\"],[\"female\"],[\"male\"],[\"female\"],[\"female\"],[\"female\"],[\"male\"],[\"male\"],[\"female\"],[\"female\"],[\"female\"],[\"male\"],[\"female\"],[\"female\"],[\"male\"],[\"female\"],[\"male\"],[\"male\"],[\"male\"],[\"female\"],[\"male\"],[\"male\"],[\"male\"],[\"male\"],[\"male\"],[\"female\"],[\"female\"],[\"male\"],[\"female\"],[\"female\"],[\"female\"],[\"male\"],[\"male\"],[\"male\"],[\"female\"],[\"female\"],[\"female\"],[\"male\"],[\"male\"],[\"female\"],[\"male\"],[\"female\"],[\"male\"],[\"male\"],[\"male\"],[\"female\"],[\"male\"],[\"female\"],[\"male\"],[\"male\"],[\"male\"],[\"male\"],[\"male\"],[\"male\"],[\"male\"],[\"female\"],[\"male\"],[\"male\"],[\"male\"],[\"male\"],[\"male\"],[\"male\"],[\"male\"],[\"male\"],[\"male\"],[\"male\"],[\"male\"],[\"female\"],[\"female\"],[\"male\"],[\"male\"],[\"male\"],[\"male\"],[\"female\"],[\"male\"],[\"female\"],[\"male\"],[\"male\"],[\"male\"],[\"male\"],[\"female\"],[\"male\"],[\"male\"],[\"female\"],[\"male\"],[\"female\"],[\"female\"],[\"male\"],[\"female\"],[\"male\"],[\"male\"],[\"male\"],[\"male\"],[\"female\"],[\"male\"],[\"male\"],[\"female\"],[\"female\"],[\"male\"],[\"male\"],[\"male\"],[\"female\"],[\"male\"],[\"male\"],[\"male\"],[\"female\"],[\"female\"],[\"male\"],[\"male\"],[\"female\"],[\"female\"],[\"male\"],[\"male\"],[\"male\"],[\"female\"],[\"female\"],[\"male\"],[\"male\"],[\"female\"],[\"male\"],[\"female\"],[\"male\"],[\"female\"],[\"male\"],[\"male\"],[\"male\"],[\"female\"],[\"male\"],[\"female\"],[\"female\"],[\"female\"],[\"female\"],[\"female\"],[\"male\"],[\"male\"],[\"female\"],[\"female\"],[\"female\"],[\"female\"],[\"male\"],[\"male\"],[\"female\"],[\"male\"],[\"male\"],[\"female\"],[\"male\"],[\"female\"],[\"female\"],[\"male\"],[\"male\"],[\"female\"],[\"female\"],[\"male\"],[\"male\"],[\"female\"],[\"male\"],[\"male\"],[\"male\"],[\"female\"],[\"male\"],[\"female\"],[\"male\"],[\"male\"],[\"female\"],[\"female\"],[\"male\"],[\"male\"],[\"male\"],[\"male\"],[\"male\"],[\"female\"],[\"male\"],[\"female\"]],\"hovertemplate\":\"GPA cuantiles=Baj\\u00edsimo<br>GPA=%{x}<br>parental level of education=%{y}<br>gender=%{customdata[0]}<extra></extra>\",\"legendgroup\":\"Baj\\u00edsimo\",\"marker\":{\"color\":\"tomato\",\"symbol\":\"circle\"},\"mode\":\"markers\",\"name\":\"Baj\\u00edsimo\",\"orientation\":\"h\",\"showlegend\":true,\"type\":\"scatter\",\"x\":[1.54,2.1,2.38,2.4,2.56,2.56,2.76,2.78,2.78,2.8,2.84,2.86,2.88,2.9,2.94,3.06,3.08,3.24,3.26,3.28,3.3,3.32,3.34,3.36,3.38,3.38,3.4,3.44,3.44,3.46,3.46,3.48,3.54,3.58,3.6,3.6,3.6,3.6,3.64,3.64,3.66,3.68,3.68,3.68,3.68,3.7,3.72,3.72,3.74,3.76,3.76,3.76,3.78,3.78,3.78,3.78,3.78,3.8,3.8,3.8,3.8,3.82,3.84,3.84,3.86,3.86,3.88,3.88,3.88,3.88,3.9,3.9,3.9,3.9,3.92,3.92,3.92,3.92,3.94,3.94,3.94,3.94,3.96,3.96,3.96,3.98,4.0,4.0,4.0,4.0,4.02,4.02,4.02,4.02,4.02,4.02,4.02,4.04,4.04,4.04,4.06,4.06,4.06,4.06,4.06,4.08,4.08,4.08,4.08,4.08,4.08,4.1,4.1,4.1,4.1,4.1,4.1,4.1,4.1,4.1,4.12,4.12,4.12,4.12,4.14,4.14,4.14,4.14,4.16,4.16,4.16,4.16,4.16,4.16,4.16,4.18,4.18,4.2,4.2,4.2,4.2,4.22,4.22,4.22,4.22,4.22,4.24,4.24,4.24,4.24,4.24,4.26,4.26,4.26,4.26,4.28,4.28,4.28,4.28,4.28,4.28,4.28,4.28,4.3,4.3,4.32,4.32,4.32,4.32,4.32,4.34,4.34,4.34,4.34,4.34,4.34],\"xaxis\":\"x\",\"y\":[\"some high school\",\"high school\",\"high school\",\"some college\",\"some high school\",\"some high school\",\"high school\",\"some high school\",\"some college\",\"some college\",\"high school\",\"some high school\",\"some college\",\"associate's degree\",\"high school\",\"high school\",\"some high school\",\"some high school\",\"some high school\",\"some college\",\"high school\",\"high school\",\"bachelor's degree\",\"some high school\",\"some high school\",\"associate's degree\",\"some college\",\"some college\",\"some college\",\"high school\",\"associate's degree\",\"some high school\",\"some high school\",\"some high school\",\"some high school\",\"associate's degree\",\"some high school\",\"high school\",\"high school\",\"some high school\",\"associate's degree\",\"master's degree\",\"high school\",\"high school\",\"some high school\",\"associate's degree\",\"high school\",\"associate's degree\",\"high school\",\"associate's degree\",\"associate's degree\",\"associate's degree\",\"some college\",\"high school\",\"some high school\",\"high school\",\"some college\",\"bachelor's degree\",\"associate's degree\",\"high school\",\"bachelor's degree\",\"high school\",\"some college\",\"some high school\",\"high school\",\"associate's degree\",\"high school\",\"high school\",\"associate's degree\",\"some high school\",\"some high school\",\"high school\",\"some high school\",\"bachelor's degree\",\"some high school\",\"some high school\",\"associate's degree\",\"some high school\",\"some high school\",\"high school\",\"high school\",\"high school\",\"associate's degree\",\"bachelor's degree\",\"associate's degree\",\"high school\",\"associate's degree\",\"bachelor's degree\",\"some high school\",\"high school\",\"some college\",\"bachelor's degree\",\"some college\",\"associate's degree\",\"some college\",\"high school\",\"some college\",\"some college\",\"some college\",\"master's degree\",\"master's degree\",\"some college\",\"some college\",\"some college\",\"some college\",\"master's degree\",\"high school\",\"associate's degree\",\"some high school\",\"some college\",\"high school\",\"high school\",\"master's degree\",\"some high school\",\"associate's degree\",\"high school\",\"associate's degree\",\"associate's degree\",\"associate's degree\",\"some high school\",\"high school\",\"some high school\",\"associate's degree\",\"associate's degree\",\"some high school\",\"high school\",\"some college\",\"some college\",\"high school\",\"some high school\",\"high school\",\"associate's degree\",\"high school\",\"high school\",\"high school\",\"associate's degree\",\"associate's degree\",\"some high school\",\"associate's degree\",\"some high school\",\"associate's degree\",\"associate's degree\",\"high school\",\"high school\",\"associate's degree\",\"bachelor's degree\",\"some high school\",\"some high school\",\"high school\",\"some college\",\"associate's degree\",\"some high school\",\"master's degree\",\"high school\",\"high school\",\"high school\",\"some college\",\"high school\",\"associate's degree\",\"some college\",\"high school\",\"associate's degree\",\"bachelor's degree\",\"high school\",\"some college\",\"associate's degree\",\"some high school\",\"bachelor's degree\",\"bachelor's degree\",\"high school\",\"high school\",\"bachelor's degree\",\"associate's degree\",\"associate's degree\",\"associate's degree\",\"high school\"],\"yaxis\":\"y\"},{\"customdata\":[[\"male\"],[\"male\"],[\"female\"],[\"female\"],[\"female\"],[\"male\"],[\"female\"],[\"male\"],[\"male\"],[\"female\"],[\"male\"],[\"female\"],[\"female\"],[\"female\"],[\"female\"],[\"female\"],[\"male\"],[\"male\"],[\"male\"],[\"female\"],[\"male\"],[\"male\"],[\"male\"],[\"male\"],[\"female\"],[\"male\"],[\"male\"],[\"male\"],[\"female\"],[\"female\"],[\"female\"],[\"male\"],[\"male\"],[\"female\"],[\"male\"],[\"male\"],[\"male\"],[\"male\"],[\"female\"],[\"male\"],[\"female\"],[\"male\"],[\"male\"],[\"male\"],[\"female\"],[\"male\"],[\"female\"],[\"female\"],[\"female\"],[\"male\"],[\"male\"],[\"female\"],[\"male\"],[\"male\"],[\"male\"],[\"female\"],[\"female\"],[\"male\"],[\"male\"],[\"male\"],[\"female\"],[\"female\"],[\"female\"],[\"male\"],[\"male\"],[\"female\"],[\"female\"],[\"female\"],[\"female\"],[\"male\"],[\"male\"],[\"male\"],[\"female\"],[\"female\"],[\"female\"],[\"male\"],[\"male\"],[\"female\"],[\"male\"],[\"male\"],[\"male\"],[\"female\"],[\"female\"],[\"male\"],[\"male\"],[\"female\"],[\"male\"],[\"male\"],[\"male\"],[\"male\"],[\"male\"],[\"male\"],[\"female\"],[\"male\"],[\"male\"],[\"female\"],[\"male\"],[\"male\"],[\"male\"],[\"female\"],[\"male\"],[\"male\"],[\"male\"],[\"female\"],[\"female\"],[\"female\"],[\"male\"],[\"male\"],[\"female\"],[\"female\"],[\"female\"],[\"male\"],[\"female\"],[\"female\"],[\"male\"],[\"female\"],[\"male\"],[\"male\"],[\"female\"],[\"female\"],[\"male\"],[\"male\"],[\"male\"],[\"female\"],[\"male\"],[\"male\"],[\"male\"],[\"female\"],[\"female\"],[\"male\"],[\"female\"],[\"female\"],[\"female\"],[\"male\"],[\"male\"],[\"male\"],[\"female\"],[\"female\"],[\"male\"],[\"male\"],[\"male\"],[\"female\"],[\"female\"],[\"female\"],[\"male\"],[\"male\"],[\"female\"],[\"male\"],[\"female\"],[\"male\"],[\"male\"],[\"female\"],[\"male\"],[\"male\"],[\"female\"],[\"female\"],[\"male\"],[\"male\"],[\"female\"],[\"female\"],[\"female\"],[\"male\"],[\"female\"],[\"female\"],[\"male\"],[\"female\"],[\"male\"],[\"male\"],[\"female\"],[\"male\"],[\"female\"],[\"male\"],[\"female\"],[\"male\"],[\"female\"],[\"female\"],[\"female\"]],\"hovertemplate\":\"GPA cuantiles=Bajo<br>GPA=%{x}<br>parental level of education=%{y}<br>gender=%{customdata[0]}<extra></extra>\",\"legendgroup\":\"Bajo\",\"marker\":{\"color\":\"orange\",\"symbol\":\"circle\"},\"mode\":\"markers\",\"name\":\"Bajo\",\"orientation\":\"h\",\"showlegend\":true,\"type\":\"scatter\",\"x\":[4.36,4.36,4.36,4.36,4.36,4.36,4.36,4.36,4.36,4.38,4.38,4.38,4.38,4.38,4.4,4.4,4.4,4.42,4.42,4.42,4.42,4.44,4.44,4.44,4.44,4.44,4.44,4.44,4.44,4.46,4.46,4.46,4.46,4.46,4.46,4.48,4.48,4.5,4.5,4.5,4.5,4.5,4.5,4.5,4.52,4.52,4.52,4.52,4.52,4.52,4.52,4.52,4.52,4.54,4.54,4.54,4.54,4.54,4.54,4.54,4.54,4.56,4.56,4.56,4.56,4.58,4.58,4.58,4.58,4.6,4.6,4.6,4.6,4.6,4.6,4.6,4.62,4.62,4.62,4.62,4.62,4.64,4.64,4.64,4.64,4.64,4.64,4.64,4.66,4.66,4.66,4.66,4.66,4.68,4.68,4.68,4.68,4.68,4.68,4.68,4.7,4.7,4.7,4.7,4.7,4.7,4.7,4.72,4.72,4.72,4.72,4.72,4.72,4.74,4.74,4.74,4.74,4.74,4.74,4.74,4.76,4.76,4.76,4.78,4.78,4.78,4.78,4.78,4.78,4.8,4.8,4.8,4.8,4.82,4.82,4.82,4.82,4.82,4.82,4.84,4.84,4.84,4.84,4.84,4.84,4.84,4.84,4.84,4.86,4.86,4.86,4.86,4.86,4.86,4.86,4.86,4.86,4.86,4.88,4.88,4.88,4.88,4.88,4.88,4.88,4.88,4.88,4.88,4.88,4.9,4.9,4.9,4.9,4.9,4.9,4.9,4.9],\"xaxis\":\"x\",\"y\":[\"high school\",\"associate's degree\",\"some college\",\"associate's degree\",\"some college\",\"high school\",\"bachelor's degree\",\"associate's degree\",\"bachelor's degree\",\"bachelor's degree\",\"some college\",\"some college\",\"some high school\",\"bachelor's degree\",\"some high school\",\"high school\",\"associate's degree\",\"high school\",\"associate's degree\",\"some college\",\"high school\",\"high school\",\"associate's degree\",\"some high school\",\"high school\",\"some college\",\"some college\",\"high school\",\"master's degree\",\"associate's degree\",\"associate's degree\",\"some high school\",\"some high school\",\"some high school\",\"some high school\",\"some high school\",\"some high school\",\"some high school\",\"bachelor's degree\",\"some college\",\"some college\",\"some college\",\"associate's degree\",\"some college\",\"associate's degree\",\"associate's degree\",\"associate's degree\",\"some college\",\"some high school\",\"some high school\",\"high school\",\"some college\",\"high school\",\"some college\",\"some high school\",\"master's degree\",\"some high school\",\"some college\",\"some high school\",\"associate's degree\",\"some college\",\"some college\",\"master's degree\",\"associate's degree\",\"some college\",\"some high school\",\"high school\",\"high school\",\"bachelor's degree\",\"some college\",\"some high school\",\"high school\",\"high school\",\"some high school\",\"high school\",\"some college\",\"bachelor's degree\",\"bachelor's degree\",\"high school\",\"some college\",\"some college\",\"master's degree\",\"associate's degree\",\"some college\",\"some college\",\"some high school\",\"bachelor's degree\",\"some college\",\"some high school\",\"some college\",\"bachelor's degree\",\"master's degree\",\"some college\",\"associate's degree\",\"some college\",\"some college\",\"some college\",\"some high school\",\"bachelor's degree\",\"master's degree\",\"associate's degree\",\"some high school\",\"associate's degree\",\"master's degree\",\"some college\",\"some college\",\"high school\",\"some college\",\"some high school\",\"high school\",\"associate's degree\",\"bachelor's degree\",\"bachelor's degree\",\"some high school\",\"some college\",\"high school\",\"some college\",\"high school\",\"some college\",\"high school\",\"bachelor's degree\",\"high school\",\"high school\",\"some college\",\"associate's degree\",\"some college\",\"associate's degree\",\"master's degree\",\"high school\",\"some high school\",\"high school\",\"associate's degree\",\"master's degree\",\"some college\",\"high school\",\"some college\",\"some college\",\"high school\",\"associate's degree\",\"some high school\",\"associate's degree\",\"some high school\",\"associate's degree\",\"high school\",\"some college\",\"high school\",\"some college\",\"bachelor's degree\",\"associate's degree\",\"bachelor's degree\",\"associate's degree\",\"master's degree\",\"bachelor's degree\",\"associate's degree\",\"master's degree\",\"high school\",\"some high school\",\"some high school\",\"some college\",\"associate's degree\",\"associate's degree\",\"master's degree\",\"high school\",\"bachelor's degree\",\"associate's degree\",\"some college\",\"some high school\",\"high school\",\"associate's degree\",\"high school\",\"some college\",\"some college\",\"some college\",\"high school\",\"some college\",\"associate's degree\",\"high school\"],\"yaxis\":\"y\"},{\"customdata\":[[\"female\"],[\"female\"],[\"male\"],[\"female\"],[\"male\"],[\"male\"],[\"male\"],[\"male\"],[\"female\"],[\"male\"],[\"female\"],[\"male\"],[\"male\"],[\"female\"],[\"female\"],[\"female\"],[\"female\"],[\"male\"],[\"female\"],[\"female\"],[\"female\"],[\"male\"],[\"male\"],[\"female\"],[\"female\"],[\"female\"],[\"female\"],[\"male\"],[\"male\"],[\"male\"],[\"female\"],[\"male\"],[\"female\"],[\"female\"],[\"female\"],[\"female\"],[\"female\"],[\"female\"],[\"female\"],[\"male\"],[\"male\"],[\"female\"],[\"male\"],[\"female\"],[\"male\"],[\"male\"],[\"male\"],[\"male\"],[\"female\"],[\"female\"],[\"male\"],[\"male\"],[\"male\"],[\"female\"],[\"female\"],[\"male\"],[\"male\"],[\"male\"],[\"female\"],[\"male\"],[\"female\"],[\"male\"],[\"female\"],[\"male\"],[\"female\"],[\"male\"],[\"male\"],[\"female\"],[\"male\"],[\"female\"],[\"female\"],[\"male\"],[\"male\"],[\"female\"],[\"male\"],[\"male\"],[\"male\"],[\"male\"],[\"male\"],[\"male\"],[\"male\"],[\"female\"],[\"female\"],[\"male\"],[\"female\"],[\"female\"],[\"male\"],[\"female\"],[\"female\"],[\"male\"],[\"female\"],[\"female\"],[\"male\"],[\"male\"],[\"female\"],[\"female\"],[\"male\"],[\"female\"],[\"female\"],[\"female\"],[\"male\"],[\"male\"],[\"male\"],[\"male\"],[\"female\"],[\"female\"],[\"female\"],[\"male\"],[\"female\"],[\"male\"],[\"female\"],[\"male\"],[\"male\"],[\"male\"],[\"female\"],[\"female\"],[\"male\"],[\"male\"],[\"male\"],[\"male\"],[\"female\"],[\"male\"],[\"female\"],[\"female\"],[\"male\"],[\"male\"],[\"female\"],[\"female\"],[\"female\"],[\"female\"],[\"female\"],[\"female\"],[\"male\"],[\"female\"],[\"male\"],[\"female\"],[\"female\"],[\"male\"],[\"male\"],[\"female\"],[\"male\"],[\"female\"],[\"female\"],[\"male\"],[\"female\"],[\"female\"],[\"male\"],[\"male\"],[\"female\"],[\"female\"],[\"male\"],[\"female\"],[\"female\"],[\"female\"],[\"male\"],[\"male\"],[\"male\"],[\"female\"],[\"female\"],[\"female\"],[\"male\"],[\"male\"],[\"male\"],[\"male\"],[\"female\"],[\"male\"],[\"female\"],[\"female\"],[\"male\"],[\"female\"],[\"female\"],[\"female\"],[\"male\"],[\"male\"],[\"female\"],[\"female\"],[\"female\"],[\"male\"]],\"hovertemplate\":\"GPA cuantiles=Medio<br>GPA=%{x}<br>parental level of education=%{y}<br>gender=%{customdata[0]}<extra></extra>\",\"legendgroup\":\"Medio\",\"marker\":{\"color\":\"yellow\",\"symbol\":\"circle\"},\"mode\":\"markers\",\"name\":\"Medio\",\"orientation\":\"h\",\"showlegend\":true,\"type\":\"scatter\",\"x\":[4.92,4.92,4.92,4.92,4.92,4.92,4.92,4.92,4.92,4.94,4.94,4.94,4.94,4.94,4.94,4.94,4.96,4.96,4.96,4.96,4.96,4.96,4.96,4.96,4.96,4.98,4.98,4.98,4.98,4.98,5.0,5.0,5.0,5.0,5.0,5.0,5.0,5.02,5.02,5.02,5.02,5.02,5.02,5.02,5.02,5.04,5.04,5.04,5.04,5.06,5.06,5.06,5.06,5.06,5.06,5.06,5.08,5.08,5.08,5.08,5.08,5.08,5.08,5.08,5.08,5.08,5.08,5.08,5.1,5.1,5.1,5.1,5.1,5.1,5.1,5.1,5.1,5.1,5.12,5.12,5.12,5.12,5.12,5.12,5.12,5.12,5.12,5.12,5.12,5.12,5.14,5.14,5.14,5.14,5.14,5.14,5.14,5.14,5.14,5.14,5.14,5.16,5.16,5.16,5.16,5.16,5.16,5.16,5.16,5.16,5.16,5.18,5.18,5.18,5.18,5.18,5.2,5.2,5.2,5.2,5.2,5.2,5.2,5.2,5.2,5.2,5.2,5.2,5.22,5.22,5.22,5.22,5.22,5.22,5.22,5.22,5.24,5.24,5.24,5.24,5.26,5.26,5.26,5.26,5.26,5.26,5.26,5.26,5.26,5.26,5.26,5.28,5.28,5.28,5.28,5.28,5.28,5.28,5.28,5.28,5.28,5.3,5.3,5.3,5.3,5.3,5.3,5.3,5.3,5.32,5.32,5.32,5.32,5.32,5.32,5.32,5.32,5.32],\"xaxis\":\"x\",\"y\":[\"some college\",\"some high school\",\"some high school\",\"some college\",\"some high school\",\"bachelor's degree\",\"some college\",\"bachelor's degree\",\"high school\",\"some college\",\"high school\",\"associate's degree\",\"some high school\",\"high school\",\"some college\",\"high school\",\"some high school\",\"high school\",\"associate's degree\",\"bachelor's degree\",\"high school\",\"high school\",\"some high school\",\"associate's degree\",\"high school\",\"high school\",\"associate's degree\",\"associate's degree\",\"some high school\",\"bachelor's degree\",\"some high school\",\"bachelor's degree\",\"associate's degree\",\"high school\",\"associate's degree\",\"some college\",\"some college\",\"some high school\",\"high school\",\"some college\",\"some high school\",\"high school\",\"some college\",\"bachelor's degree\",\"some college\",\"high school\",\"associate's degree\",\"some high school\",\"bachelor's degree\",\"bachelor's degree\",\"bachelor's degree\",\"some college\",\"bachelor's degree\",\"high school\",\"some high school\",\"high school\",\"bachelor's degree\",\"high school\",\"associate's degree\",\"high school\",\"associate's degree\",\"bachelor's degree\",\"some high school\",\"some high school\",\"some college\",\"high school\",\"high school\",\"some college\",\"master's degree\",\"high school\",\"some college\",\"high school\",\"high school\",\"associate's degree\",\"some college\",\"some high school\",\"associate's degree\",\"some high school\",\"associate's degree\",\"bachelor's degree\",\"associate's degree\",\"some high school\",\"associate's degree\",\"high school\",\"high school\",\"associate's degree\",\"associate's degree\",\"some college\",\"some college\",\"some college\",\"some high school\",\"some college\",\"associate's degree\",\"high school\",\"associate's degree\",\"bachelor's degree\",\"associate's degree\",\"master's degree\",\"associate's degree\",\"bachelor's degree\",\"some high school\",\"associate's degree\",\"some high school\",\"some high school\",\"high school\",\"bachelor's degree\",\"associate's degree\",\"some college\",\"high school\",\"some college\",\"some college\",\"high school\",\"high school\",\"some high school\",\"associate's degree\",\"associate's degree\",\"some college\",\"some college\",\"high school\",\"high school\",\"master's degree\",\"bachelor's degree\",\"high school\",\"some college\",\"some high school\",\"master's degree\",\"high school\",\"some high school\",\"some college\",\"bachelor's degree\",\"bachelor's degree\",\"associate's degree\",\"some college\",\"bachelor's degree\",\"high school\",\"some high school\",\"some college\",\"bachelor's degree\",\"high school\",\"master's degree\",\"high school\",\"some college\",\"some college\",\"high school\",\"bachelor's degree\",\"high school\",\"bachelor's degree\",\"some college\",\"high school\",\"some college\",\"associate's degree\",\"associate's degree\",\"associate's degree\",\"associate's degree\",\"associate's degree\",\"associate's degree\",\"some high school\",\"some high school\",\"bachelor's degree\",\"bachelor's degree\",\"associate's degree\",\"high school\",\"high school\",\"high school\",\"master's degree\",\"associate's degree\",\"some college\",\"some high school\",\"some high school\",\"some high school\",\"associate's degree\",\"associate's degree\",\"bachelor's degree\",\"some college\",\"associate's degree\",\"some high school\",\"associate's degree\",\"some college\"],\"yaxis\":\"y\"},{\"customdata\":[[\"female\"],[\"female\"],[\"female\"],[\"female\"],[\"male\"],[\"female\"],[\"female\"],[\"female\"],[\"female\"],[\"male\"],[\"male\"],[\"female\"],[\"female\"],[\"female\"],[\"female\"],[\"male\"],[\"male\"],[\"female\"],[\"female\"],[\"female\"],[\"female\"],[\"female\"],[\"male\"],[\"male\"],[\"male\"],[\"female\"],[\"male\"],[\"male\"],[\"female\"],[\"male\"],[\"male\"],[\"female\"],[\"male\"],[\"male\"],[\"male\"],[\"male\"],[\"male\"],[\"female\"],[\"female\"],[\"male\"],[\"female\"],[\"male\"],[\"male\"],[\"female\"],[\"female\"],[\"female\"],[\"female\"],[\"male\"],[\"female\"],[\"female\"],[\"female\"],[\"female\"],[\"female\"],[\"female\"],[\"female\"],[\"female\"],[\"female\"],[\"female\"],[\"female\"],[\"male\"],[\"female\"],[\"male\"],[\"female\"],[\"male\"],[\"male\"],[\"female\"],[\"female\"],[\"male\"],[\"female\"],[\"female\"],[\"female\"],[\"male\"],[\"male\"],[\"male\"],[\"female\"],[\"male\"],[\"female\"],[\"female\"],[\"male\"],[\"female\"],[\"female\"],[\"female\"],[\"female\"],[\"female\"],[\"female\"],[\"male\"],[\"male\"],[\"female\"],[\"male\"],[\"female\"],[\"female\"],[\"male\"],[\"female\"],[\"female\"],[\"female\"],[\"female\"],[\"male\"],[\"female\"],[\"male\"],[\"female\"],[\"male\"],[\"male\"],[\"female\"],[\"female\"],[\"female\"],[\"male\"],[\"male\"],[\"female\"],[\"female\"],[\"female\"],[\"female\"],[\"female\"],[\"male\"],[\"female\"],[\"female\"],[\"female\"],[\"female\"],[\"female\"],[\"male\"],[\"female\"],[\"male\"],[\"male\"],[\"male\"],[\"female\"],[\"female\"],[\"male\"],[\"female\"],[\"female\"],[\"female\"],[\"male\"],[\"male\"],[\"male\"],[\"male\"],[\"male\"],[\"female\"],[\"male\"],[\"male\"],[\"male\"],[\"female\"],[\"female\"],[\"female\"],[\"female\"],[\"female\"],[\"female\"],[\"male\"],[\"female\"],[\"female\"],[\"female\"],[\"female\"],[\"female\"],[\"female\"],[\"male\"],[\"female\"],[\"male\"],[\"female\"],[\"female\"],[\"male\"],[\"male\"],[\"male\"],[\"male\"],[\"male\"],[\"female\"],[\"female\"],[\"female\"],[\"female\"],[\"male\"],[\"male\"],[\"male\"],[\"female\"],[\"male\"],[\"male\"],[\"female\"]],\"hovertemplate\":\"GPA cuantiles=Alto<br>GPA=%{x}<br>parental level of education=%{y}<br>gender=%{customdata[0]}<extra></extra>\",\"legendgroup\":\"Alto\",\"marker\":{\"color\":\"greenyellow\",\"symbol\":\"circle\"},\"mode\":\"markers\",\"name\":\"Alto\",\"orientation\":\"h\",\"showlegend\":true,\"type\":\"scatter\",\"x\":[5.34,5.34,5.34,5.34,5.34,5.34,5.36,5.36,5.36,5.36,5.36,5.36,5.36,5.36,5.36,5.38,5.38,5.38,5.38,5.38,5.38,5.38,5.38,5.38,5.38,5.38,5.38,5.4,5.4,5.4,5.4,5.4,5.4,5.4,5.4,5.4,5.42,5.42,5.42,5.42,5.42,5.44,5.44,5.44,5.44,5.44,5.44,5.46,5.46,5.46,5.46,5.46,5.46,5.46,5.46,5.46,5.46,5.48,5.48,5.48,5.48,5.48,5.48,5.48,5.5,5.5,5.5,5.5,5.5,5.5,5.5,5.5,5.5,5.52,5.52,5.52,5.52,5.52,5.52,5.54,5.54,5.54,5.54,5.54,5.54,5.54,5.54,5.54,5.56,5.56,5.56,5.56,5.56,5.56,5.56,5.56,5.56,5.58,5.58,5.58,5.58,5.58,5.58,5.6,5.6,5.6,5.6,5.62,5.62,5.62,5.62,5.62,5.62,5.64,5.64,5.64,5.64,5.64,5.64,5.64,5.64,5.64,5.64,5.64,5.66,5.66,5.66,5.66,5.68,5.68,5.68,5.68,5.68,5.68,5.68,5.68,5.7,5.7,5.7,5.7,5.7,5.7,5.7,5.7,5.72,5.72,5.72,5.72,5.72,5.72,5.72,5.74,5.74,5.74,5.74,5.74,5.74,5.74,5.76,5.76,5.76,5.76,5.76,5.76,5.76,5.76,5.78,5.78,5.78,5.78,5.78,5.78],\"xaxis\":\"x\",\"y\":[\"associate's degree\",\"some college\",\"associate's degree\",\"some college\",\"high school\",\"some college\",\"some college\",\"high school\",\"some high school\",\"some high school\",\"master's degree\",\"high school\",\"bachelor's degree\",\"associate's degree\",\"some college\",\"some college\",\"some high school\",\"high school\",\"high school\",\"bachelor's degree\",\"high school\",\"some high school\",\"bachelor's degree\",\"master's degree\",\"high school\",\"bachelor's degree\",\"some college\",\"some high school\",\"some high school\",\"associate's degree\",\"some high school\",\"some high school\",\"master's degree\",\"associate's degree\",\"some college\",\"some college\",\"high school\",\"bachelor's degree\",\"bachelor's degree\",\"high school\",\"some college\",\"bachelor's degree\",\"bachelor's degree\",\"some college\",\"some high school\",\"some high school\",\"some college\",\"associate's degree\",\"some college\",\"some college\",\"some college\",\"some college\",\"associate's degree\",\"high school\",\"some college\",\"some college\",\"some college\",\"some high school\",\"high school\",\"associate's degree\",\"high school\",\"some college\",\"high school\",\"associate's degree\",\"bachelor's degree\",\"bachelor's degree\",\"some high school\",\"associate's degree\",\"some high school\",\"associate's degree\",\"associate's degree\",\"bachelor's degree\",\"associate's degree\",\"associate's degree\",\"some college\",\"some college\",\"high school\",\"associate's degree\",\"high school\",\"some college\",\"associate's degree\",\"some college\",\"associate's degree\",\"master's degree\",\"high school\",\"some college\",\"high school\",\"bachelor's degree\",\"bachelor's degree\",\"some high school\",\"high school\",\"some college\",\"some high school\",\"some high school\",\"some college\",\"associate's degree\",\"associate's degree\",\"high school\",\"some high school\",\"some college\",\"some high school\",\"some college\",\"associate's degree\",\"bachelor's degree\",\"high school\",\"associate's degree\",\"some high school\",\"some high school\",\"some college\",\"some high school\",\"some high school\",\"some high school\",\"some college\",\"some high school\",\"associate's degree\",\"bachelor's degree\",\"associate's degree\",\"some college\",\"associate's degree\",\"associate's degree\",\"some high school\",\"associate's degree\",\"associate's degree\",\"associate's degree\",\"bachelor's degree\",\"associate's degree\",\"associate's degree\",\"some college\",\"associate's degree\",\"bachelor's degree\",\"master's degree\",\"high school\",\"associate's degree\",\"associate's degree\",\"some college\",\"some high school\",\"high school\",\"high school\",\"associate's degree\",\"master's degree\",\"high school\",\"some college\",\"some college\",\"some college\",\"some college\",\"bachelor's degree\",\"some high school\",\"some high school\",\"high school\",\"bachelor's degree\",\"some college\",\"high school\",\"some college\",\"associate's degree\",\"associate's degree\",\"associate's degree\",\"some high school\",\"some high school\",\"master's degree\",\"some high school\",\"some college\",\"some high school\",\"master's degree\",\"associate's degree\",\"associate's degree\",\"high school\",\"some college\",\"bachelor's degree\",\"bachelor's degree\",\"associate's degree\",\"bachelor's degree\",\"bachelor's degree\"],\"yaxis\":\"y\"},{\"customdata\":[[\"female\"],[\"female\"],[\"female\"],[\"male\"],[\"female\"],[\"male\"],[\"male\"],[\"male\"],[\"male\"],[\"male\"],[\"male\"],[\"male\"],[\"female\"],[\"female\"],[\"female\"],[\"male\"],[\"female\"],[\"male\"],[\"female\"],[\"male\"],[\"male\"],[\"male\"],[\"male\"],[\"male\"],[\"male\"],[\"female\"],[\"male\"],[\"male\"],[\"female\"],[\"female\"],[\"male\"],[\"male\"],[\"female\"],[\"female\"],[\"female\"],[\"male\"],[\"female\"],[\"male\"],[\"female\"],[\"male\"],[\"female\"],[\"male\"],[\"female\"],[\"male\"],[\"female\"],[\"female\"],[\"female\"],[\"male\"],[\"male\"],[\"male\"],[\"female\"],[\"female\"],[\"male\"],[\"female\"],[\"female\"],[\"male\"],[\"female\"],[\"male\"],[\"male\"],[\"female\"],[\"female\"],[\"male\"],[\"female\"],[\"female\"],[\"male\"],[\"female\"],[\"male\"],[\"female\"],[\"female\"],[\"female\"],[\"female\"],[\"male\"],[\"male\"],[\"male\"],[\"male\"],[\"male\"],[\"female\"],[\"female\"],[\"male\"],[\"female\"],[\"female\"],[\"female\"],[\"male\"],[\"female\"],[\"male\"],[\"female\"],[\"female\"],[\"male\"],[\"male\"],[\"female\"],[\"male\"],[\"male\"],[\"female\"],[\"male\"],[\"female\"],[\"female\"],[\"female\"],[\"male\"],[\"male\"],[\"female\"],[\"male\"],[\"female\"],[\"female\"],[\"male\"],[\"male\"],[\"male\"],[\"female\"],[\"female\"],[\"female\"],[\"female\"],[\"female\"],[\"female\"],[\"male\"],[\"female\"],[\"female\"],[\"male\"],[\"male\"],[\"female\"],[\"female\"],[\"male\"],[\"male\"],[\"male\"],[\"female\"],[\"female\"],[\"female\"],[\"female\"],[\"female\"],[\"female\"],[\"female\"],[\"female\"],[\"female\"],[\"female\"],[\"male\"],[\"female\"],[\"female\"],[\"male\"],[\"female\"],[\"female\"],[\"male\"],[\"female\"],[\"male\"],[\"female\"],[\"female\"],[\"female\"],[\"male\"],[\"male\"],[\"female\"],[\"female\"],[\"male\"],[\"male\"],[\"female\"],[\"female\"],[\"male\"],[\"female\"],[\"female\"],[\"female\"],[\"female\"],[\"female\"],[\"female\"],[\"female\"],[\"female\"],[\"female\"],[\"male\"],[\"female\"],[\"male\"],[\"female\"],[\"female\"],[\"female\"],[\"female\"],[\"female\"],[\"male\"],[\"female\"]],\"hovertemplate\":\"GPA cuantiles=Muy alto<br>GPA=%{x}<br>parental level of education=%{y}<br>gender=%{customdata[0]}<extra></extra>\",\"legendgroup\":\"Muy alto\",\"marker\":{\"color\":\"green\",\"symbol\":\"circle\"},\"mode\":\"markers\",\"name\":\"Muy alto\",\"orientation\":\"h\",\"showlegend\":true,\"type\":\"scatter\",\"x\":[5.8,5.8,5.8,5.82,5.82,5.82,5.82,5.82,5.82,5.82,5.84,5.84,5.84,5.84,5.84,5.84,5.84,5.86,5.88,5.88,5.88,5.88,5.9,5.9,5.9,5.92,5.92,5.94,5.94,5.94,5.94,5.94,5.94,5.94,5.94,5.94,5.94,5.94,5.96,5.96,5.96,5.96,5.96,5.98,5.98,5.98,5.98,5.98,5.98,5.98,5.98,5.98,6.0,6.0,6.0,6.0,6.0,6.02,6.02,6.04,6.04,6.04,6.04,6.04,6.04,6.04,6.04,6.06,6.06,6.08,6.08,6.1,6.1,6.1,6.1,6.12,6.12,6.12,6.14,6.14,6.14,6.14,6.14,6.14,6.16,6.16,6.16,6.16,6.18,6.18,6.18,6.18,6.2,6.2,6.2,6.22,6.22,6.22,6.22,6.22,6.24,6.24,6.24,6.24,6.26,6.26,6.28,6.28,6.3,6.3,6.3,6.3,6.3,6.32,6.32,6.32,6.32,6.32,6.34,6.34,6.34,6.34,6.36,6.36,6.36,6.36,6.38,6.38,6.4,6.42,6.42,6.42,6.44,6.46,6.48,6.48,6.5,6.5,6.5,6.5,6.5,6.52,6.54,6.56,6.56,6.56,6.6,6.6,6.62,6.64,6.64,6.64,6.64,6.74,6.76,6.78,6.78,6.8,6.82,6.82,6.84,6.86,6.86,6.86,6.92,6.92,6.94,6.94,6.98,7.0,7.0,7.0],\"xaxis\":\"x\",\"y\":[\"some college\",\"high school\",\"high school\",\"some college\",\"some high school\",\"some high school\",\"high school\",\"some high school\",\"associate's degree\",\"associate's degree\",\"some high school\",\"high school\",\"bachelor's degree\",\"bachelor's degree\",\"some high school\",\"some college\",\"some high school\",\"associate's degree\",\"some high school\",\"high school\",\"associate's degree\",\"associate's degree\",\"some college\",\"some high school\",\"associate's degree\",\"bachelor's degree\",\"master's degree\",\"high school\",\"high school\",\"some college\",\"some college\",\"some high school\",\"some college\",\"associate's degree\",\"some college\",\"some high school\",\"some college\",\"some high school\",\"some college\",\"high school\",\"high school\",\"some high school\",\"high school\",\"bachelor's degree\",\"high school\",\"bachelor's degree\",\"bachelor's degree\",\"bachelor's degree\",\"some college\",\"associate's degree\",\"associate's degree\",\"some college\",\"some high school\",\"high school\",\"some high school\",\"some high school\",\"master's degree\",\"some college\",\"bachelor's degree\",\"some high school\",\"some high school\",\"some college\",\"associate's degree\",\"bachelor's degree\",\"some college\",\"some high school\",\"associate's degree\",\"associate's degree\",\"associate's degree\",\"some college\",\"some college\",\"master's degree\",\"bachelor's degree\",\"associate's degree\",\"high school\",\"associate's degree\",\"some college\",\"some high school\",\"some high school\",\"associate's degree\",\"bachelor's degree\",\"some college\",\"some college\",\"associate's degree\",\"master's degree\",\"associate's degree\",\"some college\",\"bachelor's degree\",\"master's degree\",\"master's degree\",\"some high school\",\"high school\",\"some high school\",\"some high school\",\"bachelor's degree\",\"associate's degree\",\"associate's degree\",\"associate's degree\",\"master's degree\",\"bachelor's degree\",\"associate's degree\",\"associate's degree\",\"some college\",\"associate's degree\",\"high school\",\"master's degree\",\"master's degree\",\"associate's degree\",\"some college\",\"bachelor's degree\",\"associate's degree\",\"master's degree\",\"bachelor's degree\",\"associate's degree\",\"some college\",\"some college\",\"some college\",\"bachelor's degree\",\"some high school\",\"associate's degree\",\"some college\",\"some high school\",\"associate's degree\",\"high school\",\"master's degree\",\"associate's degree\",\"associate's degree\",\"some college\",\"some high school\",\"associate's degree\",\"associate's degree\",\"bachelor's degree\",\"associate's degree\",\"associate's degree\",\"some high school\",\"some college\",\"some college\",\"associate's degree\",\"associate's degree\",\"some college\",\"associate's degree\",\"associate's degree\",\"some college\",\"master's degree\",\"bachelor's degree\",\"some college\",\"associate's degree\",\"master's degree\",\"associate's degree\",\"associate's degree\",\"high school\",\"master's degree\",\"some college\",\"high school\",\"associate's degree\",\"bachelor's degree\",\"some college\",\"bachelor's degree\",\"bachelor's degree\",\"associate's degree\",\"master's degree\",\"bachelor's degree\",\"associate's degree\",\"master's degree\",\"some college\",\"bachelor's degree\",\"some college\",\"some high school\",\"bachelor's degree\",\"bachelor's degree\",\"bachelor's degree\",\"associate's degree\"],\"yaxis\":\"y\"}],                        {\"legend\":{\"title\":{\"text\":\"GPA cuantiles\"},\"tracegroupgap\":0},\"template\":{\"data\":{\"bar\":[{\"error_x\":{\"color\":\"#2a3f5f\"},\"error_y\":{\"color\":\"#2a3f5f\"},\"marker\":{\"line\":{\"color\":\"#E5ECF6\",\"width\":0.5},\"pattern\":{\"fillmode\":\"overlay\",\"size\":10,\"solidity\":0.2}},\"type\":\"bar\"}],\"barpolar\":[{\"marker\":{\"line\":{\"color\":\"#E5ECF6\",\"width\":0.5},\"pattern\":{\"fillmode\":\"overlay\",\"size\":10,\"solidity\":0.2}},\"type\":\"barpolar\"}],\"carpet\":[{\"aaxis\":{\"endlinecolor\":\"#2a3f5f\",\"gridcolor\":\"white\",\"linecolor\":\"white\",\"minorgridcolor\":\"white\",\"startlinecolor\":\"#2a3f5f\"},\"baxis\":{\"endlinecolor\":\"#2a3f5f\",\"gridcolor\":\"white\",\"linecolor\":\"white\",\"minorgridcolor\":\"white\",\"startlinecolor\":\"#2a3f5f\"},\"type\":\"carpet\"}],\"choropleth\":[{\"colorbar\":{\"outlinewidth\":0,\"ticks\":\"\"},\"type\":\"choropleth\"}],\"contour\":[{\"colorbar\":{\"outlinewidth\":0,\"ticks\":\"\"},\"colorscale\":[[0.0,\"#0d0887\"],[0.1111111111111111,\"#46039f\"],[0.2222222222222222,\"#7201a8\"],[0.3333333333333333,\"#9c179e\"],[0.4444444444444444,\"#bd3786\"],[0.5555555555555556,\"#d8576b\"],[0.6666666666666666,\"#ed7953\"],[0.7777777777777778,\"#fb9f3a\"],[0.8888888888888888,\"#fdca26\"],[1.0,\"#f0f921\"]],\"type\":\"contour\"}],\"contourcarpet\":[{\"colorbar\":{\"outlinewidth\":0,\"ticks\":\"\"},\"type\":\"contourcarpet\"}],\"heatmap\":[{\"colorbar\":{\"outlinewidth\":0,\"ticks\":\"\"},\"colorscale\":[[0.0,\"#0d0887\"],[0.1111111111111111,\"#46039f\"],[0.2222222222222222,\"#7201a8\"],[0.3333333333333333,\"#9c179e\"],[0.4444444444444444,\"#bd3786\"],[0.5555555555555556,\"#d8576b\"],[0.6666666666666666,\"#ed7953\"],[0.7777777777777778,\"#fb9f3a\"],[0.8888888888888888,\"#fdca26\"],[1.0,\"#f0f921\"]],\"type\":\"heatmap\"}],\"heatmapgl\":[{\"colorbar\":{\"outlinewidth\":0,\"ticks\":\"\"},\"colorscale\":[[0.0,\"#0d0887\"],[0.1111111111111111,\"#46039f\"],[0.2222222222222222,\"#7201a8\"],[0.3333333333333333,\"#9c179e\"],[0.4444444444444444,\"#bd3786\"],[0.5555555555555556,\"#d8576b\"],[0.6666666666666666,\"#ed7953\"],[0.7777777777777778,\"#fb9f3a\"],[0.8888888888888888,\"#fdca26\"],[1.0,\"#f0f921\"]],\"type\":\"heatmapgl\"}],\"histogram\":[{\"marker\":{\"pattern\":{\"fillmode\":\"overlay\",\"size\":10,\"solidity\":0.2}},\"type\":\"histogram\"}],\"histogram2d\":[{\"colorbar\":{\"outlinewidth\":0,\"ticks\":\"\"},\"colorscale\":[[0.0,\"#0d0887\"],[0.1111111111111111,\"#46039f\"],[0.2222222222222222,\"#7201a8\"],[0.3333333333333333,\"#9c179e\"],[0.4444444444444444,\"#bd3786\"],[0.5555555555555556,\"#d8576b\"],[0.6666666666666666,\"#ed7953\"],[0.7777777777777778,\"#fb9f3a\"],[0.8888888888888888,\"#fdca26\"],[1.0,\"#f0f921\"]],\"type\":\"histogram2d\"}],\"histogram2dcontour\":[{\"colorbar\":{\"outlinewidth\":0,\"ticks\":\"\"},\"colorscale\":[[0.0,\"#0d0887\"],[0.1111111111111111,\"#46039f\"],[0.2222222222222222,\"#7201a8\"],[0.3333333333333333,\"#9c179e\"],[0.4444444444444444,\"#bd3786\"],[0.5555555555555556,\"#d8576b\"],[0.6666666666666666,\"#ed7953\"],[0.7777777777777778,\"#fb9f3a\"],[0.8888888888888888,\"#fdca26\"],[1.0,\"#f0f921\"]],\"type\":\"histogram2dcontour\"}],\"mesh3d\":[{\"colorbar\":{\"outlinewidth\":0,\"ticks\":\"\"},\"type\":\"mesh3d\"}],\"parcoords\":[{\"line\":{\"colorbar\":{\"outlinewidth\":0,\"ticks\":\"\"}},\"type\":\"parcoords\"}],\"pie\":[{\"automargin\":true,\"type\":\"pie\"}],\"scatter\":[{\"marker\":{\"colorbar\":{\"outlinewidth\":0,\"ticks\":\"\"}},\"type\":\"scatter\"}],\"scatter3d\":[{\"line\":{\"colorbar\":{\"outlinewidth\":0,\"ticks\":\"\"}},\"marker\":{\"colorbar\":{\"outlinewidth\":0,\"ticks\":\"\"}},\"type\":\"scatter3d\"}],\"scattercarpet\":[{\"marker\":{\"colorbar\":{\"outlinewidth\":0,\"ticks\":\"\"}},\"type\":\"scattercarpet\"}],\"scattergeo\":[{\"marker\":{\"colorbar\":{\"outlinewidth\":0,\"ticks\":\"\"}},\"type\":\"scattergeo\"}],\"scattergl\":[{\"marker\":{\"colorbar\":{\"outlinewidth\":0,\"ticks\":\"\"}},\"type\":\"scattergl\"}],\"scattermapbox\":[{\"marker\":{\"colorbar\":{\"outlinewidth\":0,\"ticks\":\"\"}},\"type\":\"scattermapbox\"}],\"scatterpolar\":[{\"marker\":{\"colorbar\":{\"outlinewidth\":0,\"ticks\":\"\"}},\"type\":\"scatterpolar\"}],\"scatterpolargl\":[{\"marker\":{\"colorbar\":{\"outlinewidth\":0,\"ticks\":\"\"}},\"type\":\"scatterpolargl\"}],\"scatterternary\":[{\"marker\":{\"colorbar\":{\"outlinewidth\":0,\"ticks\":\"\"}},\"type\":\"scatterternary\"}],\"surface\":[{\"colorbar\":{\"outlinewidth\":0,\"ticks\":\"\"},\"colorscale\":[[0.0,\"#0d0887\"],[0.1111111111111111,\"#46039f\"],[0.2222222222222222,\"#7201a8\"],[0.3333333333333333,\"#9c179e\"],[0.4444444444444444,\"#bd3786\"],[0.5555555555555556,\"#d8576b\"],[0.6666666666666666,\"#ed7953\"],[0.7777777777777778,\"#fb9f3a\"],[0.8888888888888888,\"#fdca26\"],[1.0,\"#f0f921\"]],\"type\":\"surface\"}],\"table\":[{\"cells\":{\"fill\":{\"color\":\"#EBF0F8\"},\"line\":{\"color\":\"white\"}},\"header\":{\"fill\":{\"color\":\"#C8D4E3\"},\"line\":{\"color\":\"white\"}},\"type\":\"table\"}]},\"layout\":{\"annotationdefaults\":{\"arrowcolor\":\"#2a3f5f\",\"arrowhead\":0,\"arrowwidth\":1},\"autotypenumbers\":\"strict\",\"coloraxis\":{\"colorbar\":{\"outlinewidth\":0,\"ticks\":\"\"}},\"colorscale\":{\"diverging\":[[0,\"#8e0152\"],[0.1,\"#c51b7d\"],[0.2,\"#de77ae\"],[0.3,\"#f1b6da\"],[0.4,\"#fde0ef\"],[0.5,\"#f7f7f7\"],[0.6,\"#e6f5d0\"],[0.7,\"#b8e186\"],[0.8,\"#7fbc41\"],[0.9,\"#4d9221\"],[1,\"#276419\"]],\"sequential\":[[0.0,\"#0d0887\"],[0.1111111111111111,\"#46039f\"],[0.2222222222222222,\"#7201a8\"],[0.3333333333333333,\"#9c179e\"],[0.4444444444444444,\"#bd3786\"],[0.5555555555555556,\"#d8576b\"],[0.6666666666666666,\"#ed7953\"],[0.7777777777777778,\"#fb9f3a\"],[0.8888888888888888,\"#fdca26\"],[1.0,\"#f0f921\"]],\"sequentialminus\":[[0.0,\"#0d0887\"],[0.1111111111111111,\"#46039f\"],[0.2222222222222222,\"#7201a8\"],[0.3333333333333333,\"#9c179e\"],[0.4444444444444444,\"#bd3786\"],[0.5555555555555556,\"#d8576b\"],[0.6666666666666666,\"#ed7953\"],[0.7777777777777778,\"#fb9f3a\"],[0.8888888888888888,\"#fdca26\"],[1.0,\"#f0f921\"]]},\"colorway\":[\"#636efa\",\"#EF553B\",\"#00cc96\",\"#ab63fa\",\"#FFA15A\",\"#19d3f3\",\"#FF6692\",\"#B6E880\",\"#FF97FF\",\"#FECB52\"],\"font\":{\"color\":\"#2a3f5f\"},\"geo\":{\"bgcolor\":\"white\",\"lakecolor\":\"white\",\"landcolor\":\"#E5ECF6\",\"showlakes\":true,\"showland\":true,\"subunitcolor\":\"white\"},\"hoverlabel\":{\"align\":\"left\"},\"hovermode\":\"closest\",\"mapbox\":{\"style\":\"light\"},\"paper_bgcolor\":\"white\",\"plot_bgcolor\":\"#E5ECF6\",\"polar\":{\"angularaxis\":{\"gridcolor\":\"white\",\"linecolor\":\"white\",\"ticks\":\"\"},\"bgcolor\":\"#E5ECF6\",\"radialaxis\":{\"gridcolor\":\"white\",\"linecolor\":\"white\",\"ticks\":\"\"}},\"scene\":{\"xaxis\":{\"backgroundcolor\":\"#E5ECF6\",\"gridcolor\":\"white\",\"gridwidth\":2,\"linecolor\":\"white\",\"showbackground\":true,\"ticks\":\"\",\"zerolinecolor\":\"white\"},\"yaxis\":{\"backgroundcolor\":\"#E5ECF6\",\"gridcolor\":\"white\",\"gridwidth\":2,\"linecolor\":\"white\",\"showbackground\":true,\"ticks\":\"\",\"zerolinecolor\":\"white\"},\"zaxis\":{\"backgroundcolor\":\"#E5ECF6\",\"gridcolor\":\"white\",\"gridwidth\":2,\"linecolor\":\"white\",\"showbackground\":true,\"ticks\":\"\",\"zerolinecolor\":\"white\"}},\"shapedefaults\":{\"line\":{\"color\":\"#2a3f5f\"}},\"ternary\":{\"aaxis\":{\"gridcolor\":\"white\",\"linecolor\":\"white\",\"ticks\":\"\"},\"baxis\":{\"gridcolor\":\"white\",\"linecolor\":\"white\",\"ticks\":\"\"},\"bgcolor\":\"#E5ECF6\",\"caxis\":{\"gridcolor\":\"white\",\"linecolor\":\"white\",\"ticks\":\"\"}},\"title\":{\"x\":0.05},\"xaxis\":{\"automargin\":true,\"gridcolor\":\"white\",\"linecolor\":\"white\",\"ticks\":\"\",\"title\":{\"standoff\":15},\"zerolinecolor\":\"white\",\"zerolinewidth\":2},\"yaxis\":{\"automargin\":true,\"gridcolor\":\"white\",\"linecolor\":\"white\",\"ticks\":\"\",\"title\":{\"standoff\":15},\"zerolinecolor\":\"white\",\"zerolinewidth\":2}}},\"title\":{\"text\":\"GPA por Nivel de educaci\\u00f3n de los padres\"},\"xaxis\":{\"anchor\":\"y\",\"domain\":[0.0,1.0],\"title\":{\"text\":\"GPA\"}},\"yaxis\":{\"anchor\":\"x\",\"domain\":[0.0,1.0],\"title\":{\"text\":\"parental level of education\"}}},                        {\"responsive\": true}                    ).then(function(){\n",
       "                            \n",
       "var gd = document.getElementById('655c06fd-d332-4421-85c2-ee514c6fa49f');\n",
       "var x = new MutationObserver(function (mutations, observer) {{\n",
       "        var display = window.getComputedStyle(gd).display;\n",
       "        if (!display || display === 'none') {{\n",
       "            console.log([gd, 'removed!']);\n",
       "            Plotly.purge(gd);\n",
       "            observer.disconnect();\n",
       "        }}\n",
       "}});\n",
       "\n",
       "// Listen for the removal of the full notebook cells\n",
       "var notebookContainer = gd.closest('#notebook-container');\n",
       "if (notebookContainer) {{\n",
       "    x.observe(notebookContainer, {childList: true});\n",
       "}}\n",
       "\n",
       "// Listen for the clearing of the current output cell\n",
       "var outputEl = gd.closest('.output');\n",
       "if (outputEl) {{\n",
       "    x.observe(outputEl, {childList: true});\n",
       "}}\n",
       "\n",
       "                        })                };                            </script>        </div>\n",
       "</body>\n",
       "</html>"
      ]
     },
     "metadata": {},
     "output_type": "display_data"
    }
   ],
   "source": [
    "# Código para quintiles \n",
    "# La variable que contenga los quintiles debe llamarse GPA cuantiles para que el gráfico funcione.\n",
    "\n",
    "# Código de gráfico \n",
    "fig = px.scatter(\n",
    "    df_grades.sort_values(by=\"GPA\"),\n",
    "    x=\"GPA\",\n",
    "    y=\"parental level of education\",\n",
    "    hover_data=[\"gender\"],\n",
    "    color=\"GPA cuantiles\",\n",
    "    title=\"GPA por Nivel de educación de los padres\",\n",
    "    color_discrete_sequence=[\"tomato\", \"orange\", \"yellow\", \"greenyellow\", \"green\"]\n",
    ")\n",
    "\n",
    "fig\n"
   ]
  },
  {
   "cell_type": "markdown",
   "metadata": {
    "cell_id": "00062-ad093927-5bf2-4f2f-bc1d-55aee96cf311",
    "deepnote_cell_type": "markdown",
    "tags": []
   },
   "source": [
    "```\n",
    "Escriba aqui su respuesta\n",
    "```"
   ]
  },
  {
   "cell_type": "markdown",
   "metadata": {
    "cell_id": "00063-0d54c0f4-3d67-4c1d-92c0-dcc7882faae0",
    "deepnote_cell_type": "markdown",
    "id": "Rg4ZMq8ezAH6",
    "owner_user_id": "badcc427-fd3d-4615-9296-faa43ec69cfb"
   },
   "source": [
    "# Conclusión\n",
    "Eso ha sido todo para el lab de hoy, recuerden que el laboratorio tiene un plazo de entrega de una semana. Cualquier duda del laboratorio, no duden en contactarnos por mail o U-cursos.\n",
    "\n",
    "<p align=\"center\">\n",
    "  <img src=\"https://media1.tenor.com/images/2f7df460196625edc45b8380d158e5ee/tenor.gif?itemid=16669403\">\n",
    "</p>"
   ]
  },
  {
   "cell_type": "markdown",
   "metadata": {
    "cell_id": "00064-230f1ae7-660b-4bae-822a-fee59dada1d1",
    "deepnote_cell_type": "markdown",
    "id": "wCL1lACBzAH7"
   },
   "source": [
    "<br>\n",
    "<center>\n",
    "<img src=\"https://i.kym-cdn.com/photos/images/original/001/194/195/b18.png\" width=100 height=50 />\n",
    "</center>\n",
    "<br>"
   ]
  },
  {
   "cell_type": "markdown",
   "metadata": {
    "created_in_deepnote_cell": true,
    "deepnote_cell_type": "markdown",
    "tags": []
   },
   "source": [
    "<a style='text-decoration:none;line-height:16px;display:flex;color:#5B5B62;padding:10px;justify-content:end;' href='https://deepnote.com?utm_source=created-in-deepnote-cell&projectId=87110296-876e-426f-b91d-aaf681223468' target=\"_blank\">\n",
    "<img alt='Created in deepnote.com' style='display:inline;max-height:16px;margin:0px;margin-right:7.5px;' src='data:image/svg+xml;base64,PD94bWwgdmVyc2lvbj0iMS4wIiBlbmNvZGluZz0iVVRGLTgiPz4KPHN2ZyB3aWR0aD0iODBweCIgaGVpZ2h0PSI4MHB4IiB2aWV3Qm94PSIwIDAgODAgODAiIHZlcnNpb249IjEuMSIgeG1sbnM9Imh0dHA6Ly93d3cudzMub3JnLzIwMDAvc3ZnIiB4bWxuczp4bGluaz0iaHR0cDovL3d3dy53My5vcmcvMTk5OS94bGluayI+CiAgICA8IS0tIEdlbmVyYXRvcjogU2tldGNoIDU0LjEgKDc2NDkwKSAtIGh0dHBzOi8vc2tldGNoYXBwLmNvbSAtLT4KICAgIDx0aXRsZT5Hcm91cCAzPC90aXRsZT4KICAgIDxkZXNjPkNyZWF0ZWQgd2l0aCBTa2V0Y2guPC9kZXNjPgogICAgPGcgaWQ9IkxhbmRpbmciIHN0cm9rZT0ibm9uZSIgc3Ryb2tlLXdpZHRoPSIxIiBmaWxsPSJub25lIiBmaWxsLXJ1bGU9ImV2ZW5vZGQiPgogICAgICAgIDxnIGlkPSJBcnRib2FyZCIgdHJhbnNmb3JtPSJ0cmFuc2xhdGUoLTEyMzUuMDAwMDAwLCAtNzkuMDAwMDAwKSI+CiAgICAgICAgICAgIDxnIGlkPSJHcm91cC0zIiB0cmFuc2Zvcm09InRyYW5zbGF0ZSgxMjM1LjAwMDAwMCwgNzkuMDAwMDAwKSI+CiAgICAgICAgICAgICAgICA8cG9seWdvbiBpZD0iUGF0aC0yMCIgZmlsbD0iIzAyNjVCNCIgcG9pbnRzPSIyLjM3NjIzNzYyIDgwIDM4LjA0NzY2NjcgODAgNTcuODIxNzgyMiA3My44MDU3NTkyIDU3LjgyMTc4MjIgMzIuNzU5MjczOSAzOS4xNDAyMjc4IDMxLjY4MzE2ODMiPjwvcG9seWdvbj4KICAgICAgICAgICAgICAgIDxwYXRoIGQ9Ik0zNS4wMDc3MTgsODAgQzQyLjkwNjIwMDcsNzYuNDU0OTM1OCA0Ny41NjQ5MTY3LDcxLjU0MjI2NzEgNDguOTgzODY2LDY1LjI2MTk5MzkgQzUxLjExMjI4OTksNTUuODQxNTg0MiA0MS42NzcxNzk1LDQ5LjIxMjIyODQgMjUuNjIzOTg0Niw0OS4yMTIyMjg0IEMyNS40ODQ5Mjg5LDQ5LjEyNjg0NDggMjkuODI2MTI5Niw0My4yODM4MjQ4IDM4LjY0NzU4NjksMzEuNjgzMTY4MyBMNzIuODcxMjg3MSwzMi41NTQ0MjUgTDY1LjI4MDk3Myw2Ny42NzYzNDIxIEw1MS4xMTIyODk5LDc3LjM3NjE0NCBMMzUuMDA3NzE4LDgwIFoiIGlkPSJQYXRoLTIyIiBmaWxsPSIjMDAyODY4Ij48L3BhdGg+CiAgICAgICAgICAgICAgICA8cGF0aCBkPSJNMCwzNy43MzA0NDA1IEwyNy4xMTQ1MzcsMC4yNTcxMTE0MzYgQzYyLjM3MTUxMjMsLTEuOTkwNzE3MDEgODAsMTAuNTAwMzkyNyA4MCwzNy43MzA0NDA1IEM4MCw2NC45NjA0ODgyIDY0Ljc3NjUwMzgsNzkuMDUwMzQxNCAzNC4zMjk1MTEzLDgwIEM0Ny4wNTUzNDg5LDc3LjU2NzA4MDggNTMuNDE4MjY3Nyw3MC4zMTM2MTAzIDUzLjQxODI2NzcsNTguMjM5NTg4NSBDNTMuNDE4MjY3Nyw0MC4xMjg1NTU3IDM2LjMwMzk1NDQsMzcuNzMwNDQwNSAyNS4yMjc0MTcsMzcuNzMwNDQwNSBDMTcuODQzMDU4NiwzNy43MzA0NDA1IDkuNDMzOTE5NjYsMzcuNzMwNDQwNSAwLDM3LjczMDQ0MDUgWiIgaWQ9IlBhdGgtMTkiIGZpbGw9IiMzNzkzRUYiPjwvcGF0aD4KICAgICAgICAgICAgPC9nPgogICAgICAgIDwvZz4KICAgIDwvZz4KPC9zdmc+' > </img>\n",
    "Created in <span style='font-weight:600;margin-left:4px;'>Deepnote</span></a>"
   ]
  }
 ],
 "metadata": {
  "colab": {
   "collapsed_sections": [],
   "name": "Laboratorio2.ipynb",
   "provenance": [],
   "toc_visible": true
  },
  "deepnote": {},
  "deepnote_execution_queue": [],
  "deepnote_notebook_id": "7ce98c1f-486d-455c-8cea-d01f96f5dab9",
  "kernelspec": {
   "display_name": "Python 3.10.2 64-bit",
   "language": "python",
   "name": "python3"
  },
  "language_info": {
   "codemirror_mode": {
    "name": "ipython",
    "version": 3
   },
   "file_extension": ".py",
   "mimetype": "text/x-python",
   "name": "python",
   "nbconvert_exporter": "python",
   "pygments_lexer": "ipython3",
   "version": "3.10.2"
  },
  "toc": {
   "base_numbering": 1,
   "nav_menu": {},
   "number_sections": true,
   "sideBar": true,
   "skip_h1_title": true,
   "title_cell": "Tabla de Contenidos",
   "title_sidebar": "Contenidos",
   "toc_cell": false,
   "toc_position": {
    "height": "calc(100% - 180px)",
    "left": "10px",
    "top": "150px",
    "width": "241.867px"
   },
   "toc_section_display": true,
   "toc_window_display": true
  },
  "varInspector": {
   "cols": {
    "lenName": 16,
    "lenType": 16,
    "lenVar": 40
   },
   "kernels_config": {
    "python": {
     "delete_cmd_postfix": "",
     "delete_cmd_prefix": "del ",
     "library": "var_list.py",
     "varRefreshCmd": "print(var_dic_list())"
    },
    "r": {
     "delete_cmd_postfix": ") ",
     "delete_cmd_prefix": "rm(",
     "library": "var_list.r",
     "varRefreshCmd": "cat(var_dic_list()) "
    }
   },
   "types_to_exclude": [
    "module",
    "function",
    "builtin_function_or_method",
    "instance",
    "_Feature"
   ],
   "window_display": false
  },
  "vscode": {
   "interpreter": {
    "hash": "32f2fe102a4f10662d8c13f75131e1ba377b7194060421a642fdea27c55fc65a"
   }
  }
 },
 "nbformat": 4,
 "nbformat_minor": 0
}
